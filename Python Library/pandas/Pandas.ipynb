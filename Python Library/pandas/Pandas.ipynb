{
 "cells": [
  {
   "cell_type": "markdown",
   "id": "575bb531",
   "metadata": {},
   "source": [
    "# Pandas\n",
    "- **Pandas** is a fast, powerful and easy to use open source data analysis and manipulation library.\n",
    "1. Series\n",
    "2. DataFrame"
   ]
  },
  {
   "cell_type": "code",
   "execution_count": 1,
   "id": "d4e752bd",
   "metadata": {},
   "outputs": [],
   "source": [
    "import numpy as np\n",
    "import pandas as pd"
   ]
  },
  {
   "cell_type": "markdown",
   "id": "ac0e847e",
   "metadata": {},
   "source": [
    "# 1. Series"
   ]
  },
  {
   "cell_type": "code",
   "execution_count": 2,
   "id": "e36179f7",
   "metadata": {},
   "outputs": [
    {
     "data": {
      "text/plain": [
       "0    1\n",
       "1    2\n",
       "2    3\n",
       "3    4\n",
       "4    5\n",
       "dtype: int64"
      ]
     },
     "execution_count": 2,
     "metadata": {},
     "output_type": "execute_result"
    }
   ],
   "source": [
    "data = [1,2,3,4,5]\n",
    "s1 = pd.Series(data)\n",
    "s1"
   ]
  },
  {
   "cell_type": "code",
   "execution_count": 13,
   "id": "197d85fc",
   "metadata": {},
   "outputs": [
    {
     "data": {
      "text/plain": [
       "4"
      ]
     },
     "execution_count": 13,
     "metadata": {},
     "output_type": "execute_result"
    }
   ],
   "source": [
    "s1[3]"
   ]
  },
  {
   "cell_type": "code",
   "execution_count": 3,
   "id": "a8e3f3c9",
   "metadata": {},
   "outputs": [
    {
     "data": {
      "text/plain": [
       "pandas.core.series.Series"
      ]
     },
     "execution_count": 3,
     "metadata": {},
     "output_type": "execute_result"
    }
   ],
   "source": [
    "type(s1)"
   ]
  },
  {
   "cell_type": "code",
   "execution_count": 4,
   "id": "52030b8c",
   "metadata": {},
   "outputs": [
    {
     "data": {
      "text/plain": [
       "array([1, 2, 3, 4, 5], dtype=int64)"
      ]
     },
     "execution_count": 4,
     "metadata": {},
     "output_type": "execute_result"
    }
   ],
   "source": [
    "s1.values"
   ]
  },
  {
   "cell_type": "code",
   "execution_count": 5,
   "id": "745e7198",
   "metadata": {},
   "outputs": [
    {
     "data": {
      "text/plain": [
       "RangeIndex(start=0, stop=5, step=1)"
      ]
     },
     "execution_count": 5,
     "metadata": {},
     "output_type": "execute_result"
    }
   ],
   "source": [
    "s1.index"
   ]
  },
  {
   "cell_type": "code",
   "execution_count": 6,
   "id": "51865dbc",
   "metadata": {},
   "outputs": [
    {
     "data": {
      "text/plain": [
       "[0, 1, 2, 3, 4]"
      ]
     },
     "execution_count": 6,
     "metadata": {},
     "output_type": "execute_result"
    }
   ],
   "source": [
    "list(s1.index)"
   ]
  },
  {
   "cell_type": "code",
   "execution_count": 8,
   "id": "3148d73c",
   "metadata": {},
   "outputs": [
    {
     "data": {
      "text/plain": [
       "101    1\n",
       "102    2\n",
       "103    3\n",
       "104    4\n",
       "105    5\n",
       "dtype: int64"
      ]
     },
     "execution_count": 8,
     "metadata": {},
     "output_type": "execute_result"
    }
   ],
   "source": [
    "s1.index = [101,102,103,104,105]\n",
    "s1"
   ]
  },
  {
   "cell_type": "code",
   "execution_count": 9,
   "id": "92fc67a7",
   "metadata": {},
   "outputs": [
    {
     "data": {
      "text/plain": [
       "A    1\n",
       "B    2\n",
       "C    3\n",
       "D    4\n",
       "E    5\n",
       "dtype: int64"
      ]
     },
     "execution_count": 9,
     "metadata": {},
     "output_type": "execute_result"
    }
   ],
   "source": [
    "s1.index = ['A', 'B', 'C', 'D', 'E']\n",
    "s1"
   ]
  },
  {
   "cell_type": "code",
   "execution_count": 10,
   "id": "066d9174",
   "metadata": {},
   "outputs": [
    {
     "data": {
      "text/plain": [
       "1001    1\n",
       "1002    2\n",
       "1003    3\n",
       "1004    4\n",
       "1005    5\n",
       "dtype: int64"
      ]
     },
     "execution_count": 10,
     "metadata": {},
     "output_type": "execute_result"
    }
   ],
   "source": [
    "s1.index = range(1001,1006)\n",
    "s1"
   ]
  },
  {
   "cell_type": "code",
   "execution_count": 11,
   "id": "c602b4e0",
   "metadata": {},
   "outputs": [
    {
     "data": {
      "text/plain": [
       "1.5    1\n",
       "2.5    2\n",
       "3.5    3\n",
       "4.5    4\n",
       "5.7    5\n",
       "dtype: int64"
      ]
     },
     "execution_count": 11,
     "metadata": {},
     "output_type": "execute_result"
    }
   ],
   "source": [
    "s1.index = [1.5,2.5,3.5,4.5,5.7]\n",
    "s1"
   ]
  },
  {
   "cell_type": "code",
   "execution_count": 12,
   "id": "c6e6dd17",
   "metadata": {},
   "outputs": [
    {
     "data": {
      "text/plain": [
       "A    1\n",
       "B    2\n",
       "C    3\n",
       "D    4\n",
       "E    5\n",
       "dtype: int64"
      ]
     },
     "execution_count": 12,
     "metadata": {},
     "output_type": "execute_result"
    }
   ],
   "source": [
    "s1.index = ['A', 'B', 'C', 'D', 'E']\n",
    "s1"
   ]
  },
  {
   "cell_type": "markdown",
   "id": "11fe0bf8",
   "metadata": {},
   "source": [
    "## Accessing data in Series"
   ]
  },
  {
   "cell_type": "code",
   "execution_count": 25,
   "id": "2cf7978c",
   "metadata": {},
   "outputs": [
    {
     "data": {
      "text/plain": [
       "1"
      ]
     },
     "execution_count": 25,
     "metadata": {},
     "output_type": "execute_result"
    }
   ],
   "source": [
    "s1[0]"
   ]
  },
  {
   "cell_type": "code",
   "execution_count": 26,
   "id": "291040ae",
   "metadata": {},
   "outputs": [
    {
     "data": {
      "text/plain": [
       "2"
      ]
     },
     "execution_count": 26,
     "metadata": {},
     "output_type": "execute_result"
    }
   ],
   "source": [
    "s1[1]"
   ]
  },
  {
   "cell_type": "code",
   "execution_count": 27,
   "id": "a94eb251",
   "metadata": {},
   "outputs": [
    {
     "data": {
      "text/plain": [
       "5"
      ]
     },
     "execution_count": 27,
     "metadata": {},
     "output_type": "execute_result"
    }
   ],
   "source": [
    "s1[-1]"
   ]
  },
  {
   "cell_type": "code",
   "execution_count": 28,
   "id": "74331dfc",
   "metadata": {},
   "outputs": [
    {
     "data": {
      "text/plain": [
       "1"
      ]
     },
     "execution_count": 28,
     "metadata": {},
     "output_type": "execute_result"
    }
   ],
   "source": [
    "s1['A']"
   ]
  },
  {
   "cell_type": "code",
   "execution_count": 29,
   "id": "83ca0bdc",
   "metadata": {},
   "outputs": [
    {
     "data": {
      "text/plain": [
       "2"
      ]
     },
     "execution_count": 29,
     "metadata": {},
     "output_type": "execute_result"
    }
   ],
   "source": [
    "s1['B']"
   ]
  },
  {
   "cell_type": "code",
   "execution_count": 30,
   "id": "b5de5492",
   "metadata": {},
   "outputs": [
    {
     "data": {
      "text/plain": [
       "4"
      ]
     },
     "execution_count": 30,
     "metadata": {},
     "output_type": "execute_result"
    }
   ],
   "source": [
    "s1['D']"
   ]
  },
  {
   "cell_type": "code",
   "execution_count": 31,
   "id": "796887ab",
   "metadata": {},
   "outputs": [
    {
     "data": {
      "text/plain": [
       "1"
      ]
     },
     "execution_count": 31,
     "metadata": {},
     "output_type": "execute_result"
    }
   ],
   "source": [
    "s1.iloc[0]                       # By positional indexing"
   ]
  },
  {
   "cell_type": "code",
   "execution_count": 16,
   "id": "bc008ad0",
   "metadata": {},
   "outputs": [
    {
     "data": {
      "text/plain": [
       "1"
      ]
     },
     "execution_count": 16,
     "metadata": {},
     "output_type": "execute_result"
    }
   ],
   "source": [
    "s1.loc['A'] "
   ]
  },
  {
   "cell_type": "code",
   "execution_count": 21,
   "id": "e274b5bc",
   "metadata": {},
   "outputs": [
    {
     "data": {
      "text/plain": [
       "1"
      ]
     },
     "execution_count": 21,
     "metadata": {},
     "output_type": "execute_result"
    }
   ],
   "source": [
    "s1.loc['A']                      # By index that has been provided"
   ]
  },
  {
   "cell_type": "markdown",
   "id": "19a3be52",
   "metadata": {},
   "source": [
    "## Add, update and Delete operations"
   ]
  },
  {
   "cell_type": "code",
   "execution_count": 33,
   "id": "f9da5f6c",
   "metadata": {},
   "outputs": [
    {
     "data": {
      "text/plain": [
       "A    1\n",
       "B    2\n",
       "C    3\n",
       "D    4\n",
       "E    5\n",
       "F    6\n",
       "dtype: int64"
      ]
     },
     "execution_count": 33,
     "metadata": {},
     "output_type": "execute_result"
    }
   ],
   "source": [
    "s1['F'] = 6\n",
    "s1"
   ]
  },
  {
   "cell_type": "code",
   "execution_count": 34,
   "id": "cf27399c",
   "metadata": {},
   "outputs": [
    {
     "data": {
      "text/plain": [
       "A     1\n",
       "B     2\n",
       "C     3\n",
       "D    40\n",
       "E     5\n",
       "F     6\n",
       "dtype: int64"
      ]
     },
     "execution_count": 34,
     "metadata": {},
     "output_type": "execute_result"
    }
   ],
   "source": [
    "s1['D'] = 40\n",
    "s1"
   ]
  },
  {
   "cell_type": "code",
   "execution_count": 37,
   "id": "bbc2c754",
   "metadata": {},
   "outputs": [],
   "source": [
    "s1.drop('D', inplace = True)"
   ]
  },
  {
   "cell_type": "code",
   "execution_count": 38,
   "id": "0c169537",
   "metadata": {},
   "outputs": [
    {
     "data": {
      "text/plain": [
       "A    1\n",
       "B    2\n",
       "C    3\n",
       "E    5\n",
       "F    6\n",
       "dtype: int64"
      ]
     },
     "execution_count": 38,
     "metadata": {},
     "output_type": "execute_result"
    }
   ],
   "source": [
    "s1"
   ]
  },
  {
   "cell_type": "markdown",
   "id": "2b2477fa",
   "metadata": {},
   "source": [
    "## Slicing"
   ]
  },
  {
   "cell_type": "code",
   "execution_count": 39,
   "id": "8fd1461f",
   "metadata": {},
   "outputs": [
    {
     "data": {
      "text/plain": [
       "A    1\n",
       "B    2\n",
       "C    3\n",
       "E    5\n",
       "F    6\n",
       "dtype: int64"
      ]
     },
     "execution_count": 39,
     "metadata": {},
     "output_type": "execute_result"
    }
   ],
   "source": [
    "s1[:]"
   ]
  },
  {
   "cell_type": "code",
   "execution_count": 40,
   "id": "5db823bc",
   "metadata": {},
   "outputs": [
    {
     "data": {
      "text/plain": [
       "C    3\n",
       "E    5\n",
       "F    6\n",
       "dtype: int64"
      ]
     },
     "execution_count": 40,
     "metadata": {},
     "output_type": "execute_result"
    }
   ],
   "source": [
    "s1[2:5]"
   ]
  },
  {
   "cell_type": "code",
   "execution_count": 41,
   "id": "e25ea963",
   "metadata": {},
   "outputs": [
    {
     "data": {
      "text/plain": [
       "F    6\n",
       "E    5\n",
       "C    3\n",
       "B    2\n",
       "A    1\n",
       "dtype: int64"
      ]
     },
     "execution_count": 41,
     "metadata": {},
     "output_type": "execute_result"
    }
   ],
   "source": [
    "s1[-1::-1]"
   ]
  },
  {
   "cell_type": "code",
   "execution_count": 42,
   "id": "e1544f62",
   "metadata": {},
   "outputs": [
    {
     "data": {
      "text/plain": [
       "A    1\n",
       "C    3\n",
       "F    6\n",
       "dtype: int64"
      ]
     },
     "execution_count": 42,
     "metadata": {},
     "output_type": "execute_result"
    }
   ],
   "source": [
    "s1[::2]"
   ]
  },
  {
   "cell_type": "markdown",
   "id": "80ac2558",
   "metadata": {},
   "source": [
    "## Creating Series from Dictionary"
   ]
  },
  {
   "cell_type": "code",
   "execution_count": 18,
   "id": "45b9caf8",
   "metadata": {},
   "outputs": [
    {
     "data": {
      "text/plain": [
       "{'Jaipur': 'Rajasthan',\n",
       " 'Mumbai': 'Maharashtra',\n",
       " 'Kolkata': 'West Bengal',\n",
       " 'Chandigarh': 'Punjab',\n",
       " 'Bengaluru': 'Karnataka'}"
      ]
     },
     "execution_count": 18,
     "metadata": {},
     "output_type": "execute_result"
    }
   ],
   "source": [
    "data = {'Jaipur' : 'Rajasthan',\n",
    "        'Mumbai' : 'Maharashtra',\n",
    "        'Kolkata': 'West Bengal',\n",
    "        'Chandigarh' : 'Punjab',\n",
    "        'Bengaluru' : 'Karnataka'}\n",
    "data"
   ]
  },
  {
   "cell_type": "code",
   "execution_count": 19,
   "id": "44ac35d2",
   "metadata": {},
   "outputs": [
    {
     "data": {
      "text/plain": [
       "Jaipur          Rajasthan\n",
       "Mumbai        Maharashtra\n",
       "Kolkata       West Bengal\n",
       "Chandigarh         Punjab\n",
       "Bengaluru       Karnataka\n",
       "dtype: object"
      ]
     },
     "execution_count": 19,
     "metadata": {},
     "output_type": "execute_result"
    }
   ],
   "source": [
    "s2 = pd.Series(data)\n",
    "s2"
   ]
  },
  {
   "cell_type": "code",
   "execution_count": 20,
   "id": "257d329a",
   "metadata": {},
   "outputs": [
    {
     "data": {
      "text/plain": [
       "'Rajasthan'"
      ]
     },
     "execution_count": 20,
     "metadata": {},
     "output_type": "execute_result"
    }
   ],
   "source": [
    "s2['Jaipur']"
   ]
  },
  {
   "cell_type": "code",
   "execution_count": 21,
   "id": "b6b106ee",
   "metadata": {},
   "outputs": [
    {
     "data": {
      "text/plain": [
       "Index(['Jaipur', 'Mumbai', 'Kolkata', 'Chandigarh', 'Bengaluru'], dtype='object')"
      ]
     },
     "execution_count": 21,
     "metadata": {},
     "output_type": "execute_result"
    }
   ],
   "source": [
    "s2.index"
   ]
  },
  {
   "cell_type": "code",
   "execution_count": 22,
   "id": "11c9db72",
   "metadata": {},
   "outputs": [
    {
     "data": {
      "text/plain": [
       "array(['Rajasthan', 'Maharashtra', 'West Bengal', 'Punjab', 'Karnataka'],\n",
       "      dtype=object)"
      ]
     },
     "execution_count": 22,
     "metadata": {},
     "output_type": "execute_result"
    }
   ],
   "source": [
    "s2.values"
   ]
  },
  {
   "cell_type": "code",
   "execution_count": 23,
   "id": "6f3eed59",
   "metadata": {},
   "outputs": [
    {
     "data": {
      "text/plain": [
       "'Rajasthan'"
      ]
     },
     "execution_count": 23,
     "metadata": {},
     "output_type": "execute_result"
    }
   ],
   "source": [
    "s2[0]"
   ]
  },
  {
   "cell_type": "code",
   "execution_count": 24,
   "id": "c5aed1f4",
   "metadata": {},
   "outputs": [
    {
     "data": {
      "text/plain": [
       "'Rajasthan'"
      ]
     },
     "execution_count": 24,
     "metadata": {},
     "output_type": "execute_result"
    }
   ],
   "source": [
    "s2.loc['Jaipur']"
   ]
  },
  {
   "cell_type": "code",
   "execution_count": 25,
   "id": "780b49c7",
   "metadata": {},
   "outputs": [
    {
     "data": {
      "text/plain": [
       "'Rajasthan'"
      ]
     },
     "execution_count": 25,
     "metadata": {},
     "output_type": "execute_result"
    }
   ],
   "source": [
    "s2.iloc[0]"
   ]
  },
  {
   "cell_type": "code",
   "execution_count": 35,
   "id": "6129cd25",
   "metadata": {},
   "outputs": [
    {
     "data": {
      "text/plain": [
       "Capitals\n",
       "Jaipur          Rajasthan\n",
       "Mumbai        Maharashtra\n",
       "Kolkata       West Bengal\n",
       "Chandigarh         Punjab\n",
       "Bengaluru       Karnataka\n",
       "Name: States and Capitals, dtype: object"
      ]
     },
     "execution_count": 35,
     "metadata": {},
     "output_type": "execute_result"
    }
   ],
   "source": [
    "s2.name = 'States and Capitals'\n",
    "s2"
   ]
  },
  {
   "cell_type": "code",
   "execution_count": 36,
   "id": "557f696a",
   "metadata": {},
   "outputs": [
    {
     "data": {
      "text/plain": [
       "'States and Capitals'"
      ]
     },
     "execution_count": 36,
     "metadata": {},
     "output_type": "execute_result"
    }
   ],
   "source": [
    "s2.name"
   ]
  },
  {
   "cell_type": "code",
   "execution_count": 37,
   "id": "f7f46288",
   "metadata": {},
   "outputs": [
    {
     "data": {
      "text/plain": [
       "Capitals\n",
       "Jaipur          Rajasthan\n",
       "Mumbai        Maharashtra\n",
       "Kolkata       West Bengal\n",
       "Chandigarh         Punjab\n",
       "Bengaluru       Karnataka\n",
       "Name: States and Capitals, dtype: object"
      ]
     },
     "execution_count": 37,
     "metadata": {},
     "output_type": "execute_result"
    }
   ],
   "source": [
    "s2.index.name = 'Capitals'\n",
    "\n",
    "s2"
   ]
  },
  {
   "cell_type": "code",
   "execution_count": 38,
   "id": "dc6ff6ef",
   "metadata": {},
   "outputs": [
    {
     "name": "stdout",
     "output_type": "stream",
     "text": [
      "Index(['Jaipur', 'Mumbai', 'Kolkata', 'Chandigarh', 'Bengaluru'], dtype='object', name='Capitals')\n",
      "['Rajasthan' 'Maharashtra' 'West Bengal' 'Punjab' 'Karnataka']\n",
      "object\n",
      "States and Capitals\n",
      "Capitals\n"
     ]
    }
   ],
   "source": [
    "print(s2.index)\n",
    "print(s2.values)\n",
    "print(s2.dtype)\n",
    "print(s2.name)\n",
    "print(s2.index.name)"
   ]
  },
  {
   "cell_type": "code",
   "execution_count": 39,
   "id": "24a37af4",
   "metadata": {},
   "outputs": [
    {
     "data": {
      "text/plain": [
       "Capitals\n",
       "Jaipur       Rajasthan\n",
       "Mumbai     Maharashtra\n",
       "Kolkata    West Bengal\n",
       "Name: States and Capitals, dtype: object"
      ]
     },
     "execution_count": 39,
     "metadata": {},
     "output_type": "execute_result"
    }
   ],
   "source": [
    "s2[['Jaipur','Mumbai','Kolkata']]"
   ]
  },
  {
   "cell_type": "code",
   "execution_count": 40,
   "id": "6b9a9577",
   "metadata": {},
   "outputs": [
    {
     "data": {
      "text/plain": [
       "Roll No\n",
       "101    68\n",
       "102    89\n",
       "103    93\n",
       "104    74\n",
       "105    96\n",
       "Name: Final Result, dtype: int64"
      ]
     },
     "execution_count": 40,
     "metadata": {},
     "output_type": "execute_result"
    }
   ],
   "source": [
    "roll_no = [101,102,103,104,105]\n",
    "result = [68,89,93,74,96]\n",
    "\n",
    "s3 = pd.Series(data = result, index = roll_no)\n",
    "s3.name = 'Final Result'\n",
    "s3.index.name = 'Roll No'\n",
    "s3"
   ]
  },
  {
   "cell_type": "code",
   "execution_count": 41,
   "id": "e8feb8bb",
   "metadata": {},
   "outputs": [
    {
     "data": {
      "text/plain": [
       "Capitals\n",
       "Jaipur          Rajasthan\n",
       "Mumbai        Maharashtra\n",
       "Kolkata       West Bengal\n",
       "Chandigarh         Punjab\n",
       "Bengaluru       Karnataka\n",
       "Name: States and Capitals, dtype: object"
      ]
     },
     "execution_count": 41,
     "metadata": {},
     "output_type": "execute_result"
    }
   ],
   "source": [
    "s2"
   ]
  },
  {
   "cell_type": "code",
   "execution_count": 42,
   "id": "ebaf2193",
   "metadata": {},
   "outputs": [
    {
     "data": {
      "text/plain": [
       "Jaipur       Rajasthan\n",
       "Kolkata    West Bengal\n",
       "Mumbai     Maharashtra\n",
       "Name: States and Capitals, dtype: object"
      ]
     },
     "execution_count": 42,
     "metadata": {},
     "output_type": "execute_result"
    }
   ],
   "source": [
    "capitals = ['Jaipur', 'Kolkata', 'Mumbai']\n",
    "s4 = pd.Series(data = s2, index = capitals)\n",
    "s4"
   ]
  },
  {
   "cell_type": "code",
   "execution_count": 43,
   "id": "84d371ea",
   "metadata": {},
   "outputs": [
    {
     "data": {
      "text/plain": [
       "Jaipur       Rajasthan\n",
       "Kolkata    West Bengal\n",
       "Mumbai     Maharashtra\n",
       "Delhi              NaN\n",
       "Chennai            NaN\n",
       "Name: States and Capitals, dtype: object"
      ]
     },
     "execution_count": 43,
     "metadata": {},
     "output_type": "execute_result"
    }
   ],
   "source": [
    "capitals = ['Jaipur', 'Kolkata', 'Mumbai', 'Delhi','Chennai']\n",
    "s5 = pd.Series(data = s2, index = capitals)\n",
    "s5"
   ]
  },
  {
   "cell_type": "markdown",
   "id": "b1b8b9a0",
   "metadata": {},
   "source": [
    "## Functions"
   ]
  },
  {
   "cell_type": "code",
   "execution_count": 44,
   "id": "9da40c62",
   "metadata": {},
   "outputs": [
    {
     "data": {
      "text/plain": [
       "Jaipur     False\n",
       "Kolkata    False\n",
       "Mumbai     False\n",
       "Delhi       True\n",
       "Chennai     True\n",
       "Name: States and Capitals, dtype: bool"
      ]
     },
     "execution_count": 44,
     "metadata": {},
     "output_type": "execute_result"
    }
   ],
   "source": [
    "s5.isnull()"
   ]
  },
  {
   "cell_type": "code",
   "execution_count": 45,
   "id": "f87a56a7",
   "metadata": {},
   "outputs": [
    {
     "data": {
      "text/plain": [
       "Jaipur      True\n",
       "Kolkata     True\n",
       "Mumbai      True\n",
       "Delhi      False\n",
       "Chennai    False\n",
       "Name: States and Capitals, dtype: bool"
      ]
     },
     "execution_count": 45,
     "metadata": {},
     "output_type": "execute_result"
    }
   ],
   "source": [
    "s5.notnull()"
   ]
  },
  {
   "cell_type": "code",
   "execution_count": 46,
   "id": "c97d6c77",
   "metadata": {},
   "outputs": [
    {
     "data": {
      "text/plain": [
       "2"
      ]
     },
     "execution_count": 46,
     "metadata": {},
     "output_type": "execute_result"
    }
   ],
   "source": [
    "s5.isnull().sum()"
   ]
  },
  {
   "cell_type": "code",
   "execution_count": 47,
   "id": "4963b53e",
   "metadata": {},
   "outputs": [],
   "source": [
    "s5['Bengaluru'] = 'Karnataka'"
   ]
  },
  {
   "cell_type": "code",
   "execution_count": 48,
   "id": "ec718f5d",
   "metadata": {},
   "outputs": [
    {
     "data": {
      "text/plain": [
       "Jaipur       Rajasthan\n",
       "Kolkata    West Bengal\n",
       "Mumbai     Maharashtra\n",
       "Delhi              NaN\n",
       "Chennai            NaN\n",
       "Name: States and Capitals, dtype: object"
      ]
     },
     "execution_count": 48,
     "metadata": {},
     "output_type": "execute_result"
    }
   ],
   "source": [
    "s5.head()"
   ]
  },
  {
   "cell_type": "code",
   "execution_count": 49,
   "id": "cc360ce8",
   "metadata": {},
   "outputs": [
    {
     "data": {
      "text/plain": [
       "Jaipur       Rajasthan\n",
       "Kolkata    West Bengal\n",
       "Mumbai     Maharashtra\n",
       "Name: States and Capitals, dtype: object"
      ]
     },
     "execution_count": 49,
     "metadata": {},
     "output_type": "execute_result"
    }
   ],
   "source": [
    "s5.head(3)"
   ]
  },
  {
   "cell_type": "code",
   "execution_count": 50,
   "id": "245410cd",
   "metadata": {},
   "outputs": [
    {
     "data": {
      "text/plain": [
       "Kolkata      West Bengal\n",
       "Mumbai       Maharashtra\n",
       "Delhi                NaN\n",
       "Chennai              NaN\n",
       "Bengaluru      Karnataka\n",
       "Name: States and Capitals, dtype: object"
      ]
     },
     "execution_count": 50,
     "metadata": {},
     "output_type": "execute_result"
    }
   ],
   "source": [
    "s5.tail()"
   ]
  },
  {
   "cell_type": "code",
   "execution_count": 51,
   "id": "36af861f",
   "metadata": {},
   "outputs": [
    {
     "data": {
      "text/plain": [
       "Delhi              NaN\n",
       "Chennai            NaN\n",
       "Bengaluru    Karnataka\n",
       "Name: States and Capitals, dtype: object"
      ]
     },
     "execution_count": 51,
     "metadata": {},
     "output_type": "execute_result"
    }
   ],
   "source": [
    "s5.tail(3)"
   ]
  },
  {
   "cell_type": "code",
   "execution_count": 52,
   "id": "dc6ee4b0",
   "metadata": {},
   "outputs": [
    {
     "data": {
      "text/plain": [
       "Jaipur       False\n",
       "Kolkata      False\n",
       "Mumbai       False\n",
       "Delhi        False\n",
       "Chennai       True\n",
       "Bengaluru    False\n",
       "Name: States and Capitals, dtype: bool"
      ]
     },
     "execution_count": 52,
     "metadata": {},
     "output_type": "execute_result"
    }
   ],
   "source": [
    "s5.duplicated()"
   ]
  },
  {
   "cell_type": "code",
   "execution_count": 53,
   "id": "2a7b2ab8",
   "metadata": {},
   "outputs": [
    {
     "data": {
      "text/plain": [
       "1"
      ]
     },
     "execution_count": 53,
     "metadata": {},
     "output_type": "execute_result"
    }
   ],
   "source": [
    "s5.duplicated().sum()"
   ]
  },
  {
   "cell_type": "markdown",
   "id": "18d8c7a4",
   "metadata": {},
   "source": [
    "# --------------------------------------------------------------------------------------\n",
    "# DataFrames"
   ]
  },
  {
   "cell_type": "code",
   "execution_count": 79,
   "id": "52b6bfdb",
   "metadata": {},
   "outputs": [],
   "source": [
    "employee1 = pd.Series({'Name' : 'Utkarsh', 'ID' : 1, 'Gender' : 'Male', 'Salary':95000})\n",
    "employee2 = pd.Series({'Name' : 'Kartik', 'ID' : 2, 'Gender' : 'Male','Salary':85000})\n",
    "employee3 = pd.Series({'Name' : 'Aishwarya', 'ID' : 3, 'Gender' : 'Female','Salary':75000})\n",
    "employee4 = pd.Series({'Name' : 'Anand', 'ID' : 4, 'Gender' : 'Male','Salary':65000})\n",
    "employee5 = pd.Series({'Name' : 'Shalini', 'ID' : 5, 'Gender' : 'Female','Salary':90000})\n",
    "employee6 = pd.Series({'Name' : 'Pratik', 'ID' : 6, 'Gender' : 'Male','Salary':80000})\n",
    "employee7 = pd.Series({'Name' : 'Monalika', 'ID' : 7, 'Gender' : 'Female','Salary':70000})\n",
    "employee8 = pd.Series({'Name' : 'Ayesha', 'ID' : 8, 'Gender' : 'Female','Salary':60000})\n",
    "employee9 = pd.Series({'Name' : 'Anant', 'ID' : 9, 'Gender' : 'Male','Salary':100000})\n",
    "employee10 = pd.Series({'Name' : 'Shamiksha', 'ID' : 10, 'Gender' : 'Female','Salary':45000})\n",
    "employee11 = pd.Series({'Name' : 'Prashant', 'ID' : 11, 'Gender' : 'Male','Salary':55000})\n",
    "employee12 = pd.Series({'Name' : 'Mohini', 'ID' : 12, 'Gender' : 'Female','Salary':65000})"
   ]
  },
  {
   "cell_type": "code",
   "execution_count": 80,
   "id": "ac31ed98",
   "metadata": {},
   "outputs": [
    {
     "data": {
      "text/html": [
       "<div>\n",
       "<style scoped>\n",
       "    .dataframe tbody tr th:only-of-type {\n",
       "        vertical-align: middle;\n",
       "    }\n",
       "\n",
       "    .dataframe tbody tr th {\n",
       "        vertical-align: top;\n",
       "    }\n",
       "\n",
       "    .dataframe thead th {\n",
       "        text-align: right;\n",
       "    }\n",
       "</style>\n",
       "<table border=\"1\" class=\"dataframe\">\n",
       "  <thead>\n",
       "    <tr style=\"text-align: right;\">\n",
       "      <th></th>\n",
       "      <th>Name</th>\n",
       "      <th>ID</th>\n",
       "      <th>Gender</th>\n",
       "      <th>Salary</th>\n",
       "    </tr>\n",
       "  </thead>\n",
       "  <tbody>\n",
       "    <tr>\n",
       "      <th>101</th>\n",
       "      <td>Utkarsh</td>\n",
       "      <td>1</td>\n",
       "      <td>Male</td>\n",
       "      <td>95000</td>\n",
       "    </tr>\n",
       "    <tr>\n",
       "      <th>102</th>\n",
       "      <td>Kartik</td>\n",
       "      <td>2</td>\n",
       "      <td>Male</td>\n",
       "      <td>85000</td>\n",
       "    </tr>\n",
       "    <tr>\n",
       "      <th>103</th>\n",
       "      <td>Aishwarya</td>\n",
       "      <td>3</td>\n",
       "      <td>Female</td>\n",
       "      <td>75000</td>\n",
       "    </tr>\n",
       "    <tr>\n",
       "      <th>104</th>\n",
       "      <td>Anand</td>\n",
       "      <td>4</td>\n",
       "      <td>Male</td>\n",
       "      <td>65000</td>\n",
       "    </tr>\n",
       "    <tr>\n",
       "      <th>105</th>\n",
       "      <td>Shalini</td>\n",
       "      <td>5</td>\n",
       "      <td>Female</td>\n",
       "      <td>90000</td>\n",
       "    </tr>\n",
       "    <tr>\n",
       "      <th>106</th>\n",
       "      <td>Pratik</td>\n",
       "      <td>6</td>\n",
       "      <td>Male</td>\n",
       "      <td>80000</td>\n",
       "    </tr>\n",
       "    <tr>\n",
       "      <th>107</th>\n",
       "      <td>Monalika</td>\n",
       "      <td>7</td>\n",
       "      <td>Female</td>\n",
       "      <td>70000</td>\n",
       "    </tr>\n",
       "    <tr>\n",
       "      <th>108</th>\n",
       "      <td>Ayesha</td>\n",
       "      <td>8</td>\n",
       "      <td>Female</td>\n",
       "      <td>60000</td>\n",
       "    </tr>\n",
       "    <tr>\n",
       "      <th>109</th>\n",
       "      <td>Anant</td>\n",
       "      <td>9</td>\n",
       "      <td>Male</td>\n",
       "      <td>100000</td>\n",
       "    </tr>\n",
       "    <tr>\n",
       "      <th>110</th>\n",
       "      <td>Shamiksha</td>\n",
       "      <td>10</td>\n",
       "      <td>Female</td>\n",
       "      <td>45000</td>\n",
       "    </tr>\n",
       "    <tr>\n",
       "      <th>111</th>\n",
       "      <td>Prashant</td>\n",
       "      <td>11</td>\n",
       "      <td>Male</td>\n",
       "      <td>55000</td>\n",
       "    </tr>\n",
       "    <tr>\n",
       "      <th>112</th>\n",
       "      <td>Mohini</td>\n",
       "      <td>12</td>\n",
       "      <td>Female</td>\n",
       "      <td>65000</td>\n",
       "    </tr>\n",
       "  </tbody>\n",
       "</table>\n",
       "</div>"
      ],
      "text/plain": [
       "          Name  ID  Gender  Salary\n",
       "101    Utkarsh   1    Male   95000\n",
       "102     Kartik   2    Male   85000\n",
       "103  Aishwarya   3  Female   75000\n",
       "104      Anand   4    Male   65000\n",
       "105    Shalini   5  Female   90000\n",
       "106     Pratik   6    Male   80000\n",
       "107   Monalika   7  Female   70000\n",
       "108     Ayesha   8  Female   60000\n",
       "109      Anant   9    Male  100000\n",
       "110  Shamiksha  10  Female   45000\n",
       "111   Prashant  11    Male   55000\n",
       "112     Mohini  12  Female   65000"
      ]
     },
     "execution_count": 80,
     "metadata": {},
     "output_type": "execute_result"
    }
   ],
   "source": [
    "employees = [employee1,employee2,employee3,employee4,employee5,employee6,employee7,employee8,employee9,employee10,employee11,employee12]\n",
    "df1 = pd.DataFrame(data = employees, index = range(101,113))\n",
    "df1"
   ]
  },
  {
   "cell_type": "code",
   "execution_count": 81,
   "id": "789e3502",
   "metadata": {},
   "outputs": [
    {
     "data": {
      "text/html": [
       "<div>\n",
       "<style scoped>\n",
       "    .dataframe tbody tr th:only-of-type {\n",
       "        vertical-align: middle;\n",
       "    }\n",
       "\n",
       "    .dataframe tbody tr th {\n",
       "        vertical-align: top;\n",
       "    }\n",
       "\n",
       "    .dataframe thead th {\n",
       "        text-align: right;\n",
       "    }\n",
       "</style>\n",
       "<table border=\"1\" class=\"dataframe\">\n",
       "  <thead>\n",
       "    <tr style=\"text-align: right;\">\n",
       "      <th></th>\n",
       "      <th>Name</th>\n",
       "      <th>ID</th>\n",
       "      <th>Gender</th>\n",
       "      <th>Salary</th>\n",
       "    </tr>\n",
       "  </thead>\n",
       "  <tbody>\n",
       "    <tr>\n",
       "      <th>101</th>\n",
       "      <td>Utkarsh</td>\n",
       "      <td>1</td>\n",
       "      <td>Male</td>\n",
       "      <td>95000</td>\n",
       "    </tr>\n",
       "    <tr>\n",
       "      <th>102</th>\n",
       "      <td>Kartik</td>\n",
       "      <td>2</td>\n",
       "      <td>Male</td>\n",
       "      <td>85000</td>\n",
       "    </tr>\n",
       "    <tr>\n",
       "      <th>103</th>\n",
       "      <td>Aishwarya</td>\n",
       "      <td>3</td>\n",
       "      <td>Female</td>\n",
       "      <td>75000</td>\n",
       "    </tr>\n",
       "    <tr>\n",
       "      <th>104</th>\n",
       "      <td>Anand</td>\n",
       "      <td>4</td>\n",
       "      <td>Male</td>\n",
       "      <td>65000</td>\n",
       "    </tr>\n",
       "    <tr>\n",
       "      <th>105</th>\n",
       "      <td>Shalini</td>\n",
       "      <td>5</td>\n",
       "      <td>Female</td>\n",
       "      <td>90000</td>\n",
       "    </tr>\n",
       "  </tbody>\n",
       "</table>\n",
       "</div>"
      ],
      "text/plain": [
       "          Name  ID  Gender  Salary\n",
       "101    Utkarsh   1    Male   95000\n",
       "102     Kartik   2    Male   85000\n",
       "103  Aishwarya   3  Female   75000\n",
       "104      Anand   4    Male   65000\n",
       "105    Shalini   5  Female   90000"
      ]
     },
     "execution_count": 81,
     "metadata": {},
     "output_type": "execute_result"
    }
   ],
   "source": [
    "df1.head()"
   ]
  },
  {
   "cell_type": "code",
   "execution_count": 83,
   "id": "82e73cdf",
   "metadata": {},
   "outputs": [
    {
     "data": {
      "text/html": [
       "<div>\n",
       "<style scoped>\n",
       "    .dataframe tbody tr th:only-of-type {\n",
       "        vertical-align: middle;\n",
       "    }\n",
       "\n",
       "    .dataframe tbody tr th {\n",
       "        vertical-align: top;\n",
       "    }\n",
       "\n",
       "    .dataframe thead th {\n",
       "        text-align: right;\n",
       "    }\n",
       "</style>\n",
       "<table border=\"1\" class=\"dataframe\">\n",
       "  <thead>\n",
       "    <tr style=\"text-align: right;\">\n",
       "      <th></th>\n",
       "      <th>Name</th>\n",
       "      <th>ID</th>\n",
       "      <th>Gender</th>\n",
       "      <th>Salary</th>\n",
       "    </tr>\n",
       "  </thead>\n",
       "  <tbody>\n",
       "    <tr>\n",
       "      <th>108</th>\n",
       "      <td>Ayesha</td>\n",
       "      <td>8</td>\n",
       "      <td>Female</td>\n",
       "      <td>60000</td>\n",
       "    </tr>\n",
       "    <tr>\n",
       "      <th>109</th>\n",
       "      <td>Anant</td>\n",
       "      <td>9</td>\n",
       "      <td>Male</td>\n",
       "      <td>100000</td>\n",
       "    </tr>\n",
       "    <tr>\n",
       "      <th>110</th>\n",
       "      <td>Shamiksha</td>\n",
       "      <td>10</td>\n",
       "      <td>Female</td>\n",
       "      <td>45000</td>\n",
       "    </tr>\n",
       "    <tr>\n",
       "      <th>111</th>\n",
       "      <td>Prashant</td>\n",
       "      <td>11</td>\n",
       "      <td>Male</td>\n",
       "      <td>55000</td>\n",
       "    </tr>\n",
       "    <tr>\n",
       "      <th>112</th>\n",
       "      <td>Mohini</td>\n",
       "      <td>12</td>\n",
       "      <td>Female</td>\n",
       "      <td>65000</td>\n",
       "    </tr>\n",
       "  </tbody>\n",
       "</table>\n",
       "</div>"
      ],
      "text/plain": [
       "          Name  ID  Gender  Salary\n",
       "108     Ayesha   8  Female   60000\n",
       "109      Anant   9    Male  100000\n",
       "110  Shamiksha  10  Female   45000\n",
       "111   Prashant  11    Male   55000\n",
       "112     Mohini  12  Female   65000"
      ]
     },
     "execution_count": 83,
     "metadata": {},
     "output_type": "execute_result"
    }
   ],
   "source": [
    "df1.tail()"
   ]
  },
  {
   "cell_type": "code",
   "execution_count": 84,
   "id": "f8ca008a",
   "metadata": {},
   "outputs": [
    {
     "name": "stdout",
     "output_type": "stream",
     "text": [
      "<class 'pandas.core.frame.DataFrame'>\n",
      "RangeIndex: 12 entries, 101 to 112\n",
      "Data columns (total 4 columns):\n",
      " #   Column  Non-Null Count  Dtype \n",
      "---  ------  --------------  ----- \n",
      " 0   Name    12 non-null     object\n",
      " 1   ID      12 non-null     int64 \n",
      " 2   Gender  12 non-null     object\n",
      " 3   Salary  12 non-null     int64 \n",
      "dtypes: int64(2), object(2)\n",
      "memory usage: 516.0+ bytes\n"
     ]
    }
   ],
   "source": [
    "df1.info()"
   ]
  },
  {
   "cell_type": "code",
   "execution_count": 85,
   "id": "783ffdfb",
   "metadata": {},
   "outputs": [
    {
     "data": {
      "text/plain": [
       "RangeIndex(start=101, stop=113, step=1)"
      ]
     },
     "execution_count": 85,
     "metadata": {},
     "output_type": "execute_result"
    }
   ],
   "source": [
    "df1.index"
   ]
  },
  {
   "cell_type": "code",
   "execution_count": 86,
   "id": "a683fc03",
   "metadata": {},
   "outputs": [
    {
     "data": {
      "text/plain": [
       "array([['Utkarsh', 1, 'Male', 95000],\n",
       "       ['Kartik', 2, 'Male', 85000],\n",
       "       ['Aishwarya', 3, 'Female', 75000],\n",
       "       ['Anand', 4, 'Male', 65000],\n",
       "       ['Shalini', 5, 'Female', 90000],\n",
       "       ['Pratik', 6, 'Male', 80000],\n",
       "       ['Monalika', 7, 'Female', 70000],\n",
       "       ['Ayesha', 8, 'Female', 60000],\n",
       "       ['Anant', 9, 'Male', 100000],\n",
       "       ['Shamiksha', 10, 'Female', 45000],\n",
       "       ['Prashant', 11, 'Male', 55000],\n",
       "       ['Mohini', 12, 'Female', 65000]], dtype=object)"
      ]
     },
     "execution_count": 86,
     "metadata": {},
     "output_type": "execute_result"
    }
   ],
   "source": [
    "df1.values"
   ]
  },
  {
   "cell_type": "code",
   "execution_count": 87,
   "id": "cc5afe4c",
   "metadata": {},
   "outputs": [
    {
     "data": {
      "text/plain": [
       "Index(['Name', 'ID', 'Gender', 'Salary'], dtype='object')"
      ]
     },
     "execution_count": 87,
     "metadata": {},
     "output_type": "execute_result"
    }
   ],
   "source": [
    "df1.columns"
   ]
  },
  {
   "cell_type": "code",
   "execution_count": 90,
   "id": "a1d2533f",
   "metadata": {},
   "outputs": [],
   "source": [
    "df1.name = 'Employee_Details'\n",
    "df1.index.name = 'Employee_ID'"
   ]
  },
  {
   "cell_type": "code",
   "execution_count": 92,
   "id": "2b7ce704",
   "metadata": {},
   "outputs": [
    {
     "data": {
      "text/plain": [
       "'Employee_Details'"
      ]
     },
     "execution_count": 92,
     "metadata": {},
     "output_type": "execute_result"
    }
   ],
   "source": [
    "df1.name"
   ]
  },
  {
   "cell_type": "code",
   "execution_count": 93,
   "id": "f8b6c4e9",
   "metadata": {},
   "outputs": [
    {
     "data": {
      "text/plain": [
       "'Employee_ID'"
      ]
     },
     "execution_count": 93,
     "metadata": {},
     "output_type": "execute_result"
    }
   ],
   "source": [
    "df1.index.name"
   ]
  },
  {
   "cell_type": "markdown",
   "id": "f6f3f9a0",
   "metadata": {},
   "source": [
    "## Accessing data from DataFrame"
   ]
  },
  {
   "cell_type": "code",
   "execution_count": 94,
   "id": "d0de27e4",
   "metadata": {},
   "outputs": [
    {
     "data": {
      "text/html": [
       "<div>\n",
       "<style scoped>\n",
       "    .dataframe tbody tr th:only-of-type {\n",
       "        vertical-align: middle;\n",
       "    }\n",
       "\n",
       "    .dataframe tbody tr th {\n",
       "        vertical-align: top;\n",
       "    }\n",
       "\n",
       "    .dataframe thead th {\n",
       "        text-align: right;\n",
       "    }\n",
       "</style>\n",
       "<table border=\"1\" class=\"dataframe\">\n",
       "  <thead>\n",
       "    <tr style=\"text-align: right;\">\n",
       "      <th></th>\n",
       "      <th>Name</th>\n",
       "      <th>ID</th>\n",
       "      <th>Gender</th>\n",
       "      <th>Salary</th>\n",
       "    </tr>\n",
       "    <tr>\n",
       "      <th>Employee_ID</th>\n",
       "      <th></th>\n",
       "      <th></th>\n",
       "      <th></th>\n",
       "      <th></th>\n",
       "    </tr>\n",
       "  </thead>\n",
       "  <tbody>\n",
       "    <tr>\n",
       "      <th>101</th>\n",
       "      <td>Utkarsh</td>\n",
       "      <td>1</td>\n",
       "      <td>Male</td>\n",
       "      <td>95000</td>\n",
       "    </tr>\n",
       "    <tr>\n",
       "      <th>102</th>\n",
       "      <td>Kartik</td>\n",
       "      <td>2</td>\n",
       "      <td>Male</td>\n",
       "      <td>85000</td>\n",
       "    </tr>\n",
       "    <tr>\n",
       "      <th>103</th>\n",
       "      <td>Aishwarya</td>\n",
       "      <td>3</td>\n",
       "      <td>Female</td>\n",
       "      <td>75000</td>\n",
       "    </tr>\n",
       "    <tr>\n",
       "      <th>104</th>\n",
       "      <td>Anand</td>\n",
       "      <td>4</td>\n",
       "      <td>Male</td>\n",
       "      <td>65000</td>\n",
       "    </tr>\n",
       "    <tr>\n",
       "      <th>105</th>\n",
       "      <td>Shalini</td>\n",
       "      <td>5</td>\n",
       "      <td>Female</td>\n",
       "      <td>90000</td>\n",
       "    </tr>\n",
       "    <tr>\n",
       "      <th>106</th>\n",
       "      <td>Pratik</td>\n",
       "      <td>6</td>\n",
       "      <td>Male</td>\n",
       "      <td>80000</td>\n",
       "    </tr>\n",
       "    <tr>\n",
       "      <th>107</th>\n",
       "      <td>Monalika</td>\n",
       "      <td>7</td>\n",
       "      <td>Female</td>\n",
       "      <td>70000</td>\n",
       "    </tr>\n",
       "    <tr>\n",
       "      <th>108</th>\n",
       "      <td>Ayesha</td>\n",
       "      <td>8</td>\n",
       "      <td>Female</td>\n",
       "      <td>60000</td>\n",
       "    </tr>\n",
       "    <tr>\n",
       "      <th>109</th>\n",
       "      <td>Anant</td>\n",
       "      <td>9</td>\n",
       "      <td>Male</td>\n",
       "      <td>100000</td>\n",
       "    </tr>\n",
       "    <tr>\n",
       "      <th>110</th>\n",
       "      <td>Shamiksha</td>\n",
       "      <td>10</td>\n",
       "      <td>Female</td>\n",
       "      <td>45000</td>\n",
       "    </tr>\n",
       "    <tr>\n",
       "      <th>111</th>\n",
       "      <td>Prashant</td>\n",
       "      <td>11</td>\n",
       "      <td>Male</td>\n",
       "      <td>55000</td>\n",
       "    </tr>\n",
       "    <tr>\n",
       "      <th>112</th>\n",
       "      <td>Mohini</td>\n",
       "      <td>12</td>\n",
       "      <td>Female</td>\n",
       "      <td>65000</td>\n",
       "    </tr>\n",
       "  </tbody>\n",
       "</table>\n",
       "</div>"
      ],
      "text/plain": [
       "                  Name  ID  Gender  Salary\n",
       "Employee_ID                               \n",
       "101            Utkarsh   1    Male   95000\n",
       "102             Kartik   2    Male   85000\n",
       "103          Aishwarya   3  Female   75000\n",
       "104              Anand   4    Male   65000\n",
       "105            Shalini   5  Female   90000\n",
       "106             Pratik   6    Male   80000\n",
       "107           Monalika   7  Female   70000\n",
       "108             Ayesha   8  Female   60000\n",
       "109              Anant   9    Male  100000\n",
       "110          Shamiksha  10  Female   45000\n",
       "111           Prashant  11    Male   55000\n",
       "112             Mohini  12  Female   65000"
      ]
     },
     "execution_count": 94,
     "metadata": {},
     "output_type": "execute_result"
    }
   ],
   "source": [
    "df1"
   ]
  },
  {
   "cell_type": "markdown",
   "id": "c9e9924f",
   "metadata": {},
   "source": [
    "#### Accessing Columns"
   ]
  },
  {
   "cell_type": "code",
   "execution_count": 98,
   "id": "9cb716e2",
   "metadata": {},
   "outputs": [
    {
     "data": {
      "text/plain": [
       "Employee_ID\n",
       "101      Utkarsh\n",
       "102       Kartik\n",
       "103    Aishwarya\n",
       "104        Anand\n",
       "105      Shalini\n",
       "106       Pratik\n",
       "107     Monalika\n",
       "108       Ayesha\n",
       "109        Anant\n",
       "110    Shamiksha\n",
       "111     Prashant\n",
       "112       Mohini\n",
       "Name: Name, dtype: object"
      ]
     },
     "execution_count": 98,
     "metadata": {},
     "output_type": "execute_result"
    }
   ],
   "source": [
    "df1['Name']"
   ]
  },
  {
   "cell_type": "code",
   "execution_count": 99,
   "id": "ddf5abbb",
   "metadata": {},
   "outputs": [
    {
     "data": {
      "text/plain": [
       "Employee_ID\n",
       "101     95000\n",
       "102     85000\n",
       "103     75000\n",
       "104     65000\n",
       "105     90000\n",
       "106     80000\n",
       "107     70000\n",
       "108     60000\n",
       "109    100000\n",
       "110     45000\n",
       "111     55000\n",
       "112     65000\n",
       "Name: Salary, dtype: int64"
      ]
     },
     "execution_count": 99,
     "metadata": {},
     "output_type": "execute_result"
    }
   ],
   "source": [
    "df1['Salary']"
   ]
  },
  {
   "cell_type": "code",
   "execution_count": 101,
   "id": "73f86989",
   "metadata": {},
   "outputs": [
    {
     "data": {
      "text/html": [
       "<div>\n",
       "<style scoped>\n",
       "    .dataframe tbody tr th:only-of-type {\n",
       "        vertical-align: middle;\n",
       "    }\n",
       "\n",
       "    .dataframe tbody tr th {\n",
       "        vertical-align: top;\n",
       "    }\n",
       "\n",
       "    .dataframe thead th {\n",
       "        text-align: right;\n",
       "    }\n",
       "</style>\n",
       "<table border=\"1\" class=\"dataframe\">\n",
       "  <thead>\n",
       "    <tr style=\"text-align: right;\">\n",
       "      <th></th>\n",
       "      <th>Name</th>\n",
       "      <th>Salary</th>\n",
       "    </tr>\n",
       "    <tr>\n",
       "      <th>Employee_ID</th>\n",
       "      <th></th>\n",
       "      <th></th>\n",
       "    </tr>\n",
       "  </thead>\n",
       "  <tbody>\n",
       "    <tr>\n",
       "      <th>101</th>\n",
       "      <td>Utkarsh</td>\n",
       "      <td>95000</td>\n",
       "    </tr>\n",
       "    <tr>\n",
       "      <th>102</th>\n",
       "      <td>Kartik</td>\n",
       "      <td>85000</td>\n",
       "    </tr>\n",
       "    <tr>\n",
       "      <th>103</th>\n",
       "      <td>Aishwarya</td>\n",
       "      <td>75000</td>\n",
       "    </tr>\n",
       "    <tr>\n",
       "      <th>104</th>\n",
       "      <td>Anand</td>\n",
       "      <td>65000</td>\n",
       "    </tr>\n",
       "    <tr>\n",
       "      <th>105</th>\n",
       "      <td>Shalini</td>\n",
       "      <td>90000</td>\n",
       "    </tr>\n",
       "    <tr>\n",
       "      <th>106</th>\n",
       "      <td>Pratik</td>\n",
       "      <td>80000</td>\n",
       "    </tr>\n",
       "    <tr>\n",
       "      <th>107</th>\n",
       "      <td>Monalika</td>\n",
       "      <td>70000</td>\n",
       "    </tr>\n",
       "    <tr>\n",
       "      <th>108</th>\n",
       "      <td>Ayesha</td>\n",
       "      <td>60000</td>\n",
       "    </tr>\n",
       "    <tr>\n",
       "      <th>109</th>\n",
       "      <td>Anant</td>\n",
       "      <td>100000</td>\n",
       "    </tr>\n",
       "    <tr>\n",
       "      <th>110</th>\n",
       "      <td>Shamiksha</td>\n",
       "      <td>45000</td>\n",
       "    </tr>\n",
       "    <tr>\n",
       "      <th>111</th>\n",
       "      <td>Prashant</td>\n",
       "      <td>55000</td>\n",
       "    </tr>\n",
       "    <tr>\n",
       "      <th>112</th>\n",
       "      <td>Mohini</td>\n",
       "      <td>65000</td>\n",
       "    </tr>\n",
       "  </tbody>\n",
       "</table>\n",
       "</div>"
      ],
      "text/plain": [
       "                  Name  Salary\n",
       "Employee_ID                   \n",
       "101            Utkarsh   95000\n",
       "102             Kartik   85000\n",
       "103          Aishwarya   75000\n",
       "104              Anand   65000\n",
       "105            Shalini   90000\n",
       "106             Pratik   80000\n",
       "107           Monalika   70000\n",
       "108             Ayesha   60000\n",
       "109              Anant  100000\n",
       "110          Shamiksha   45000\n",
       "111           Prashant   55000\n",
       "112             Mohini   65000"
      ]
     },
     "execution_count": 101,
     "metadata": {},
     "output_type": "execute_result"
    }
   ],
   "source": [
    "df1[['Name', 'Salary']]"
   ]
  },
  {
   "cell_type": "code",
   "execution_count": 102,
   "id": "99da5a70",
   "metadata": {},
   "outputs": [
    {
     "data": {
      "text/plain": [
       "Employee_ID\n",
       "101      Utkarsh\n",
       "102       Kartik\n",
       "103    Aishwarya\n",
       "104        Anand\n",
       "105      Shalini\n",
       "106       Pratik\n",
       "107     Monalika\n",
       "108       Ayesha\n",
       "109        Anant\n",
       "110    Shamiksha\n",
       "111     Prashant\n",
       "112       Mohini\n",
       "Name: Name, dtype: object"
      ]
     },
     "execution_count": 102,
     "metadata": {},
     "output_type": "execute_result"
    }
   ],
   "source": [
    "df1.Name"
   ]
  },
  {
   "cell_type": "code",
   "execution_count": 103,
   "id": "c07749f0",
   "metadata": {},
   "outputs": [
    {
     "data": {
      "text/plain": [
       "Employee_ID\n",
       "101     95000\n",
       "102     85000\n",
       "103     75000\n",
       "104     65000\n",
       "105     90000\n",
       "106     80000\n",
       "107     70000\n",
       "108     60000\n",
       "109    100000\n",
       "110     45000\n",
       "111     55000\n",
       "112     65000\n",
       "Name: Salary, dtype: int64"
      ]
     },
     "execution_count": 103,
     "metadata": {},
     "output_type": "execute_result"
    }
   ],
   "source": [
    "df1.Salary"
   ]
  },
  {
   "cell_type": "markdown",
   "id": "6652d608",
   "metadata": {},
   "source": [
    "#### Accessing Records (Rows)"
   ]
  },
  {
   "cell_type": "code",
   "execution_count": 104,
   "id": "d58c60e3",
   "metadata": {},
   "outputs": [
    {
     "data": {
      "text/plain": [
       "Name      Utkarsh\n",
       "ID              1\n",
       "Gender       Male\n",
       "Salary      95000\n",
       "Name: 101, dtype: object"
      ]
     },
     "execution_count": 104,
     "metadata": {},
     "output_type": "execute_result"
    }
   ],
   "source": [
    "df1.loc[101]"
   ]
  },
  {
   "cell_type": "code",
   "execution_count": 105,
   "id": "9331fa44",
   "metadata": {},
   "outputs": [
    {
     "data": {
      "text/plain": [
       "Name      Utkarsh\n",
       "ID              1\n",
       "Gender       Male\n",
       "Salary      95000\n",
       "Name: 101, dtype: object"
      ]
     },
     "execution_count": 105,
     "metadata": {},
     "output_type": "execute_result"
    }
   ],
   "source": [
    "df1.iloc[0]"
   ]
  },
  {
   "cell_type": "code",
   "execution_count": 106,
   "id": "d4e2185c",
   "metadata": {},
   "outputs": [
    {
     "data": {
      "text/plain": [
       "Name      Shalini\n",
       "ID              5\n",
       "Gender     Female\n",
       "Salary      90000\n",
       "Name: 105, dtype: object"
      ]
     },
     "execution_count": 106,
     "metadata": {},
     "output_type": "execute_result"
    }
   ],
   "source": [
    "df1.loc[105]"
   ]
  },
  {
   "cell_type": "code",
   "execution_count": 107,
   "id": "7fcd5d1c",
   "metadata": {},
   "outputs": [
    {
     "data": {
      "text/html": [
       "<div>\n",
       "<style scoped>\n",
       "    .dataframe tbody tr th:only-of-type {\n",
       "        vertical-align: middle;\n",
       "    }\n",
       "\n",
       "    .dataframe tbody tr th {\n",
       "        vertical-align: top;\n",
       "    }\n",
       "\n",
       "    .dataframe thead th {\n",
       "        text-align: right;\n",
       "    }\n",
       "</style>\n",
       "<table border=\"1\" class=\"dataframe\">\n",
       "  <thead>\n",
       "    <tr style=\"text-align: right;\">\n",
       "      <th></th>\n",
       "      <th>Name</th>\n",
       "      <th>ID</th>\n",
       "      <th>Gender</th>\n",
       "      <th>Salary</th>\n",
       "    </tr>\n",
       "    <tr>\n",
       "      <th>Employee_ID</th>\n",
       "      <th></th>\n",
       "      <th></th>\n",
       "      <th></th>\n",
       "      <th></th>\n",
       "    </tr>\n",
       "  </thead>\n",
       "  <tbody>\n",
       "    <tr>\n",
       "      <th>101</th>\n",
       "      <td>Utkarsh</td>\n",
       "      <td>1</td>\n",
       "      <td>Male</td>\n",
       "      <td>95000</td>\n",
       "    </tr>\n",
       "    <tr>\n",
       "      <th>105</th>\n",
       "      <td>Shalini</td>\n",
       "      <td>5</td>\n",
       "      <td>Female</td>\n",
       "      <td>90000</td>\n",
       "    </tr>\n",
       "    <tr>\n",
       "      <th>109</th>\n",
       "      <td>Anant</td>\n",
       "      <td>9</td>\n",
       "      <td>Male</td>\n",
       "      <td>100000</td>\n",
       "    </tr>\n",
       "  </tbody>\n",
       "</table>\n",
       "</div>"
      ],
      "text/plain": [
       "                Name  ID  Gender  Salary\n",
       "Employee_ID                             \n",
       "101          Utkarsh   1    Male   95000\n",
       "105          Shalini   5  Female   90000\n",
       "109            Anant   9    Male  100000"
      ]
     },
     "execution_count": 107,
     "metadata": {},
     "output_type": "execute_result"
    }
   ],
   "source": [
    "df1.loc[[101,105,109]]"
   ]
  },
  {
   "cell_type": "code",
   "execution_count": 108,
   "id": "b9d6fbb5",
   "metadata": {},
   "outputs": [
    {
     "data": {
      "text/html": [
       "<div>\n",
       "<style scoped>\n",
       "    .dataframe tbody tr th:only-of-type {\n",
       "        vertical-align: middle;\n",
       "    }\n",
       "\n",
       "    .dataframe tbody tr th {\n",
       "        vertical-align: top;\n",
       "    }\n",
       "\n",
       "    .dataframe thead th {\n",
       "        text-align: right;\n",
       "    }\n",
       "</style>\n",
       "<table border=\"1\" class=\"dataframe\">\n",
       "  <thead>\n",
       "    <tr style=\"text-align: right;\">\n",
       "      <th></th>\n",
       "      <th>Name</th>\n",
       "      <th>ID</th>\n",
       "      <th>Gender</th>\n",
       "      <th>Salary</th>\n",
       "    </tr>\n",
       "    <tr>\n",
       "      <th>Employee_ID</th>\n",
       "      <th></th>\n",
       "      <th></th>\n",
       "      <th></th>\n",
       "      <th></th>\n",
       "    </tr>\n",
       "  </thead>\n",
       "  <tbody>\n",
       "    <tr>\n",
       "      <th>101</th>\n",
       "      <td>Utkarsh</td>\n",
       "      <td>1</td>\n",
       "      <td>Male</td>\n",
       "      <td>95000</td>\n",
       "    </tr>\n",
       "    <tr>\n",
       "      <th>105</th>\n",
       "      <td>Shalini</td>\n",
       "      <td>5</td>\n",
       "      <td>Female</td>\n",
       "      <td>90000</td>\n",
       "    </tr>\n",
       "    <tr>\n",
       "      <th>107</th>\n",
       "      <td>Monalika</td>\n",
       "      <td>7</td>\n",
       "      <td>Female</td>\n",
       "      <td>70000</td>\n",
       "    </tr>\n",
       "    <tr>\n",
       "      <th>110</th>\n",
       "      <td>Shamiksha</td>\n",
       "      <td>10</td>\n",
       "      <td>Female</td>\n",
       "      <td>45000</td>\n",
       "    </tr>\n",
       "  </tbody>\n",
       "</table>\n",
       "</div>"
      ],
      "text/plain": [
       "                  Name  ID  Gender  Salary\n",
       "Employee_ID                               \n",
       "101            Utkarsh   1    Male   95000\n",
       "105            Shalini   5  Female   90000\n",
       "107           Monalika   7  Female   70000\n",
       "110          Shamiksha  10  Female   45000"
      ]
     },
     "execution_count": 108,
     "metadata": {},
     "output_type": "execute_result"
    }
   ],
   "source": [
    "df1.iloc[[0,4,6,9]]"
   ]
  },
  {
   "cell_type": "markdown",
   "id": "743b1a97",
   "metadata": {},
   "source": [
    "### Accessing Specific Values"
   ]
  },
  {
   "cell_type": "code",
   "execution_count": 109,
   "id": "06497002",
   "metadata": {},
   "outputs": [
    {
     "data": {
      "text/html": [
       "<div>\n",
       "<style scoped>\n",
       "    .dataframe tbody tr th:only-of-type {\n",
       "        vertical-align: middle;\n",
       "    }\n",
       "\n",
       "    .dataframe tbody tr th {\n",
       "        vertical-align: top;\n",
       "    }\n",
       "\n",
       "    .dataframe thead th {\n",
       "        text-align: right;\n",
       "    }\n",
       "</style>\n",
       "<table border=\"1\" class=\"dataframe\">\n",
       "  <thead>\n",
       "    <tr style=\"text-align: right;\">\n",
       "      <th></th>\n",
       "      <th>Name</th>\n",
       "      <th>ID</th>\n",
       "      <th>Gender</th>\n",
       "      <th>Salary</th>\n",
       "    </tr>\n",
       "    <tr>\n",
       "      <th>Employee_ID</th>\n",
       "      <th></th>\n",
       "      <th></th>\n",
       "      <th></th>\n",
       "      <th></th>\n",
       "    </tr>\n",
       "  </thead>\n",
       "  <tbody>\n",
       "    <tr>\n",
       "      <th>101</th>\n",
       "      <td>Utkarsh</td>\n",
       "      <td>1</td>\n",
       "      <td>Male</td>\n",
       "      <td>95000</td>\n",
       "    </tr>\n",
       "    <tr>\n",
       "      <th>102</th>\n",
       "      <td>Kartik</td>\n",
       "      <td>2</td>\n",
       "      <td>Male</td>\n",
       "      <td>85000</td>\n",
       "    </tr>\n",
       "    <tr>\n",
       "      <th>103</th>\n",
       "      <td>Aishwarya</td>\n",
       "      <td>3</td>\n",
       "      <td>Female</td>\n",
       "      <td>75000</td>\n",
       "    </tr>\n",
       "    <tr>\n",
       "      <th>104</th>\n",
       "      <td>Anand</td>\n",
       "      <td>4</td>\n",
       "      <td>Male</td>\n",
       "      <td>65000</td>\n",
       "    </tr>\n",
       "    <tr>\n",
       "      <th>105</th>\n",
       "      <td>Shalini</td>\n",
       "      <td>5</td>\n",
       "      <td>Female</td>\n",
       "      <td>90000</td>\n",
       "    </tr>\n",
       "    <tr>\n",
       "      <th>106</th>\n",
       "      <td>Pratik</td>\n",
       "      <td>6</td>\n",
       "      <td>Male</td>\n",
       "      <td>80000</td>\n",
       "    </tr>\n",
       "    <tr>\n",
       "      <th>107</th>\n",
       "      <td>Monalika</td>\n",
       "      <td>7</td>\n",
       "      <td>Female</td>\n",
       "      <td>70000</td>\n",
       "    </tr>\n",
       "    <tr>\n",
       "      <th>108</th>\n",
       "      <td>Ayesha</td>\n",
       "      <td>8</td>\n",
       "      <td>Female</td>\n",
       "      <td>60000</td>\n",
       "    </tr>\n",
       "    <tr>\n",
       "      <th>109</th>\n",
       "      <td>Anant</td>\n",
       "      <td>9</td>\n",
       "      <td>Male</td>\n",
       "      <td>100000</td>\n",
       "    </tr>\n",
       "    <tr>\n",
       "      <th>110</th>\n",
       "      <td>Shamiksha</td>\n",
       "      <td>10</td>\n",
       "      <td>Female</td>\n",
       "      <td>45000</td>\n",
       "    </tr>\n",
       "    <tr>\n",
       "      <th>111</th>\n",
       "      <td>Prashant</td>\n",
       "      <td>11</td>\n",
       "      <td>Male</td>\n",
       "      <td>55000</td>\n",
       "    </tr>\n",
       "    <tr>\n",
       "      <th>112</th>\n",
       "      <td>Mohini</td>\n",
       "      <td>12</td>\n",
       "      <td>Female</td>\n",
       "      <td>65000</td>\n",
       "    </tr>\n",
       "  </tbody>\n",
       "</table>\n",
       "</div>"
      ],
      "text/plain": [
       "                  Name  ID  Gender  Salary\n",
       "Employee_ID                               \n",
       "101            Utkarsh   1    Male   95000\n",
       "102             Kartik   2    Male   85000\n",
       "103          Aishwarya   3  Female   75000\n",
       "104              Anand   4    Male   65000\n",
       "105            Shalini   5  Female   90000\n",
       "106             Pratik   6    Male   80000\n",
       "107           Monalika   7  Female   70000\n",
       "108             Ayesha   8  Female   60000\n",
       "109              Anant   9    Male  100000\n",
       "110          Shamiksha  10  Female   45000\n",
       "111           Prashant  11    Male   55000\n",
       "112             Mohini  12  Female   65000"
      ]
     },
     "execution_count": 109,
     "metadata": {},
     "output_type": "execute_result"
    }
   ],
   "source": [
    "df1"
   ]
  },
  {
   "cell_type": "code",
   "execution_count": 111,
   "id": "ea4d7278",
   "metadata": {},
   "outputs": [
    {
     "data": {
      "text/plain": [
       "90000"
      ]
     },
     "execution_count": 111,
     "metadata": {},
     "output_type": "execute_result"
    }
   ],
   "source": [
    "df1.loc[105]['Salary']"
   ]
  },
  {
   "cell_type": "code",
   "execution_count": 112,
   "id": "0812dd5a",
   "metadata": {},
   "outputs": [
    {
     "data": {
      "text/plain": [
       "'Aishwarya'"
      ]
     },
     "execution_count": 112,
     "metadata": {},
     "output_type": "execute_result"
    }
   ],
   "source": [
    "df1.loc[103]['Name']"
   ]
  },
  {
   "cell_type": "code",
   "execution_count": 113,
   "id": "c8ba174c",
   "metadata": {},
   "outputs": [
    {
     "data": {
      "text/plain": [
       "90000"
      ]
     },
     "execution_count": 113,
     "metadata": {},
     "output_type": "execute_result"
    }
   ],
   "source": [
    "df1.iloc[4]['Salary']"
   ]
  },
  {
   "cell_type": "code",
   "execution_count": 114,
   "id": "1ca1aea0",
   "metadata": {},
   "outputs": [
    {
     "data": {
      "text/plain": [
       "'Aishwarya'"
      ]
     },
     "execution_count": 114,
     "metadata": {},
     "output_type": "execute_result"
    }
   ],
   "source": [
    "df1.iloc[2]['Name']"
   ]
  },
  {
   "cell_type": "code",
   "execution_count": 116,
   "id": "44bc4d06",
   "metadata": {},
   "outputs": [
    {
     "data": {
      "text/plain": [
       "90000"
      ]
     },
     "execution_count": 116,
     "metadata": {},
     "output_type": "execute_result"
    }
   ],
   "source": [
    "df1['Salary'][105]"
   ]
  },
  {
   "cell_type": "code",
   "execution_count": 117,
   "id": "94ae59e0",
   "metadata": {},
   "outputs": [
    {
     "data": {
      "text/plain": [
       "'Aishwarya'"
      ]
     },
     "execution_count": 117,
     "metadata": {},
     "output_type": "execute_result"
    }
   ],
   "source": [
    "df1['Name'][103]"
   ]
  },
  {
   "cell_type": "code",
   "execution_count": 120,
   "id": "aa67f6b1",
   "metadata": {},
   "outputs": [
    {
     "data": {
      "text/plain": [
       "90000"
      ]
     },
     "execution_count": 120,
     "metadata": {},
     "output_type": "execute_result"
    }
   ],
   "source": [
    "df1.Salary[105]"
   ]
  },
  {
   "cell_type": "code",
   "execution_count": 121,
   "id": "8193afdd",
   "metadata": {},
   "outputs": [
    {
     "data": {
      "text/plain": [
       "'Aishwarya'"
      ]
     },
     "execution_count": 121,
     "metadata": {},
     "output_type": "execute_result"
    }
   ],
   "source": [
    "df1.Name[103]"
   ]
  },
  {
   "cell_type": "code",
   "execution_count": 123,
   "id": "bdbc13d4",
   "metadata": {},
   "outputs": [
    {
     "data": {
      "text/plain": [
       "Employee_ID\n",
       "101    95000\n",
       "105    90000\n",
       "108    60000\n",
       "Name: Salary, dtype: int64"
      ]
     },
     "execution_count": 123,
     "metadata": {},
     "output_type": "execute_result"
    }
   ],
   "source": [
    "df1.loc[[101,105,108]]['Salary']"
   ]
  },
  {
   "cell_type": "code",
   "execution_count": 124,
   "id": "9b66ffc8",
   "metadata": {},
   "outputs": [
    {
     "data": {
      "text/html": [
       "<div>\n",
       "<style scoped>\n",
       "    .dataframe tbody tr th:only-of-type {\n",
       "        vertical-align: middle;\n",
       "    }\n",
       "\n",
       "    .dataframe tbody tr th {\n",
       "        vertical-align: top;\n",
       "    }\n",
       "\n",
       "    .dataframe thead th {\n",
       "        text-align: right;\n",
       "    }\n",
       "</style>\n",
       "<table border=\"1\" class=\"dataframe\">\n",
       "  <thead>\n",
       "    <tr style=\"text-align: right;\">\n",
       "      <th></th>\n",
       "      <th>Name</th>\n",
       "      <th>Salary</th>\n",
       "    </tr>\n",
       "    <tr>\n",
       "      <th>Employee_ID</th>\n",
       "      <th></th>\n",
       "      <th></th>\n",
       "    </tr>\n",
       "  </thead>\n",
       "  <tbody>\n",
       "    <tr>\n",
       "      <th>101</th>\n",
       "      <td>Utkarsh</td>\n",
       "      <td>95000</td>\n",
       "    </tr>\n",
       "    <tr>\n",
       "      <th>105</th>\n",
       "      <td>Shalini</td>\n",
       "      <td>90000</td>\n",
       "    </tr>\n",
       "    <tr>\n",
       "      <th>108</th>\n",
       "      <td>Ayesha</td>\n",
       "      <td>60000</td>\n",
       "    </tr>\n",
       "    <tr>\n",
       "      <th>110</th>\n",
       "      <td>Shamiksha</td>\n",
       "      <td>45000</td>\n",
       "    </tr>\n",
       "  </tbody>\n",
       "</table>\n",
       "</div>"
      ],
      "text/plain": [
       "                  Name  Salary\n",
       "Employee_ID                   \n",
       "101            Utkarsh   95000\n",
       "105            Shalini   90000\n",
       "108             Ayesha   60000\n",
       "110          Shamiksha   45000"
      ]
     },
     "execution_count": 124,
     "metadata": {},
     "output_type": "execute_result"
    }
   ],
   "source": [
    "df1.loc[[101,105,108,110]][['Name', 'Salary']]"
   ]
  },
  {
   "cell_type": "code",
   "execution_count": 126,
   "id": "0dca8421",
   "metadata": {},
   "outputs": [
    {
     "data": {
      "text/html": [
       "<div>\n",
       "<style scoped>\n",
       "    .dataframe tbody tr th:only-of-type {\n",
       "        vertical-align: middle;\n",
       "    }\n",
       "\n",
       "    .dataframe tbody tr th {\n",
       "        vertical-align: top;\n",
       "    }\n",
       "\n",
       "    .dataframe thead th {\n",
       "        text-align: right;\n",
       "    }\n",
       "</style>\n",
       "<table border=\"1\" class=\"dataframe\">\n",
       "  <thead>\n",
       "    <tr style=\"text-align: right;\">\n",
       "      <th></th>\n",
       "      <th>Name</th>\n",
       "      <th>Salary</th>\n",
       "    </tr>\n",
       "    <tr>\n",
       "      <th>Employee_ID</th>\n",
       "      <th></th>\n",
       "      <th></th>\n",
       "    </tr>\n",
       "  </thead>\n",
       "  <tbody>\n",
       "    <tr>\n",
       "      <th>101</th>\n",
       "      <td>Utkarsh</td>\n",
       "      <td>95000</td>\n",
       "    </tr>\n",
       "    <tr>\n",
       "      <th>105</th>\n",
       "      <td>Shalini</td>\n",
       "      <td>90000</td>\n",
       "    </tr>\n",
       "    <tr>\n",
       "      <th>108</th>\n",
       "      <td>Ayesha</td>\n",
       "      <td>60000</td>\n",
       "    </tr>\n",
       "    <tr>\n",
       "      <th>110</th>\n",
       "      <td>Shamiksha</td>\n",
       "      <td>45000</td>\n",
       "    </tr>\n",
       "  </tbody>\n",
       "</table>\n",
       "</div>"
      ],
      "text/plain": [
       "                  Name  Salary\n",
       "Employee_ID                   \n",
       "101            Utkarsh   95000\n",
       "105            Shalini   90000\n",
       "108             Ayesha   60000\n",
       "110          Shamiksha   45000"
      ]
     },
     "execution_count": 126,
     "metadata": {},
     "output_type": "execute_result"
    }
   ],
   "source": [
    "df1.iloc[[0,4,7,9]][['Name', 'Salary']]"
   ]
  },
  {
   "cell_type": "code",
   "execution_count": 127,
   "id": "9efde5f6",
   "metadata": {},
   "outputs": [
    {
     "data": {
      "text/plain": [
       "90000"
      ]
     },
     "execution_count": 127,
     "metadata": {},
     "output_type": "execute_result"
    }
   ],
   "source": [
    "df1.loc[105, 'Salary']"
   ]
  },
  {
   "cell_type": "code",
   "execution_count": 128,
   "id": "bc2cd2d6",
   "metadata": {},
   "outputs": [
    {
     "data": {
      "text/plain": [
       "Employee_ID\n",
       "105    90000\n",
       "108    60000\n",
       "110    45000\n",
       "Name: Salary, dtype: int64"
      ]
     },
     "execution_count": 128,
     "metadata": {},
     "output_type": "execute_result"
    }
   ],
   "source": [
    "df1.loc[[105,108,110], 'Salary']"
   ]
  },
  {
   "cell_type": "code",
   "execution_count": 129,
   "id": "a6fb0dd3",
   "metadata": {},
   "outputs": [
    {
     "data": {
      "text/html": [
       "<div>\n",
       "<style scoped>\n",
       "    .dataframe tbody tr th:only-of-type {\n",
       "        vertical-align: middle;\n",
       "    }\n",
       "\n",
       "    .dataframe tbody tr th {\n",
       "        vertical-align: top;\n",
       "    }\n",
       "\n",
       "    .dataframe thead th {\n",
       "        text-align: right;\n",
       "    }\n",
       "</style>\n",
       "<table border=\"1\" class=\"dataframe\">\n",
       "  <thead>\n",
       "    <tr style=\"text-align: right;\">\n",
       "      <th></th>\n",
       "      <th>Name</th>\n",
       "      <th>Salary</th>\n",
       "    </tr>\n",
       "    <tr>\n",
       "      <th>Employee_ID</th>\n",
       "      <th></th>\n",
       "      <th></th>\n",
       "    </tr>\n",
       "  </thead>\n",
       "  <tbody>\n",
       "    <tr>\n",
       "      <th>105</th>\n",
       "      <td>Shalini</td>\n",
       "      <td>90000</td>\n",
       "    </tr>\n",
       "    <tr>\n",
       "      <th>108</th>\n",
       "      <td>Ayesha</td>\n",
       "      <td>60000</td>\n",
       "    </tr>\n",
       "    <tr>\n",
       "      <th>110</th>\n",
       "      <td>Shamiksha</td>\n",
       "      <td>45000</td>\n",
       "    </tr>\n",
       "  </tbody>\n",
       "</table>\n",
       "</div>"
      ],
      "text/plain": [
       "                  Name  Salary\n",
       "Employee_ID                   \n",
       "105            Shalini   90000\n",
       "108             Ayesha   60000\n",
       "110          Shamiksha   45000"
      ]
     },
     "execution_count": 129,
     "metadata": {},
     "output_type": "execute_result"
    }
   ],
   "source": [
    "df1.loc[[105,108,110], ['Name','Salary']]"
   ]
  },
  {
   "cell_type": "code",
   "execution_count": 131,
   "id": "a69f7878",
   "metadata": {},
   "outputs": [
    {
     "data": {
      "text/html": [
       "<div>\n",
       "<style scoped>\n",
       "    .dataframe tbody tr th:only-of-type {\n",
       "        vertical-align: middle;\n",
       "    }\n",
       "\n",
       "    .dataframe tbody tr th {\n",
       "        vertical-align: top;\n",
       "    }\n",
       "\n",
       "    .dataframe thead th {\n",
       "        text-align: right;\n",
       "    }\n",
       "</style>\n",
       "<table border=\"1\" class=\"dataframe\">\n",
       "  <thead>\n",
       "    <tr style=\"text-align: right;\">\n",
       "      <th></th>\n",
       "      <th>Name</th>\n",
       "      <th>ID</th>\n",
       "      <th>Gender</th>\n",
       "      <th>Salary</th>\n",
       "    </tr>\n",
       "    <tr>\n",
       "      <th>Employee_ID</th>\n",
       "      <th></th>\n",
       "      <th></th>\n",
       "      <th></th>\n",
       "      <th></th>\n",
       "    </tr>\n",
       "  </thead>\n",
       "  <tbody>\n",
       "    <tr>\n",
       "      <th>101</th>\n",
       "      <td>Utkarsh</td>\n",
       "      <td>1</td>\n",
       "      <td>Male</td>\n",
       "      <td>95000</td>\n",
       "    </tr>\n",
       "    <tr>\n",
       "      <th>102</th>\n",
       "      <td>Kartik</td>\n",
       "      <td>2</td>\n",
       "      <td>Male</td>\n",
       "      <td>85000</td>\n",
       "    </tr>\n",
       "    <tr>\n",
       "      <th>103</th>\n",
       "      <td>Aishwarya</td>\n",
       "      <td>3</td>\n",
       "      <td>Female</td>\n",
       "      <td>75000</td>\n",
       "    </tr>\n",
       "    <tr>\n",
       "      <th>104</th>\n",
       "      <td>Anand</td>\n",
       "      <td>4</td>\n",
       "      <td>Male</td>\n",
       "      <td>65000</td>\n",
       "    </tr>\n",
       "    <tr>\n",
       "      <th>105</th>\n",
       "      <td>Shalini</td>\n",
       "      <td>5</td>\n",
       "      <td>Female</td>\n",
       "      <td>90000</td>\n",
       "    </tr>\n",
       "    <tr>\n",
       "      <th>106</th>\n",
       "      <td>Pratik</td>\n",
       "      <td>6</td>\n",
       "      <td>Male</td>\n",
       "      <td>80000</td>\n",
       "    </tr>\n",
       "  </tbody>\n",
       "</table>\n",
       "</div>"
      ],
      "text/plain": [
       "                  Name  ID  Gender  Salary\n",
       "Employee_ID                               \n",
       "101            Utkarsh   1    Male   95000\n",
       "102             Kartik   2    Male   85000\n",
       "103          Aishwarya   3  Female   75000\n",
       "104              Anand   4    Male   65000\n",
       "105            Shalini   5  Female   90000\n",
       "106             Pratik   6    Male   80000"
      ]
     },
     "execution_count": 131,
     "metadata": {},
     "output_type": "execute_result"
    }
   ],
   "source": [
    "df1.loc[101:106]"
   ]
  },
  {
   "cell_type": "code",
   "execution_count": 132,
   "id": "3979f179",
   "metadata": {},
   "outputs": [
    {
     "data": {
      "text/html": [
       "<div>\n",
       "<style scoped>\n",
       "    .dataframe tbody tr th:only-of-type {\n",
       "        vertical-align: middle;\n",
       "    }\n",
       "\n",
       "    .dataframe tbody tr th {\n",
       "        vertical-align: top;\n",
       "    }\n",
       "\n",
       "    .dataframe thead th {\n",
       "        text-align: right;\n",
       "    }\n",
       "</style>\n",
       "<table border=\"1\" class=\"dataframe\">\n",
       "  <thead>\n",
       "    <tr style=\"text-align: right;\">\n",
       "      <th></th>\n",
       "      <th>Name</th>\n",
       "      <th>Salary</th>\n",
       "    </tr>\n",
       "    <tr>\n",
       "      <th>Employee_ID</th>\n",
       "      <th></th>\n",
       "      <th></th>\n",
       "    </tr>\n",
       "  </thead>\n",
       "  <tbody>\n",
       "    <tr>\n",
       "      <th>101</th>\n",
       "      <td>Utkarsh</td>\n",
       "      <td>95000</td>\n",
       "    </tr>\n",
       "    <tr>\n",
       "      <th>102</th>\n",
       "      <td>Kartik</td>\n",
       "      <td>85000</td>\n",
       "    </tr>\n",
       "    <tr>\n",
       "      <th>103</th>\n",
       "      <td>Aishwarya</td>\n",
       "      <td>75000</td>\n",
       "    </tr>\n",
       "    <tr>\n",
       "      <th>104</th>\n",
       "      <td>Anand</td>\n",
       "      <td>65000</td>\n",
       "    </tr>\n",
       "    <tr>\n",
       "      <th>105</th>\n",
       "      <td>Shalini</td>\n",
       "      <td>90000</td>\n",
       "    </tr>\n",
       "    <tr>\n",
       "      <th>106</th>\n",
       "      <td>Pratik</td>\n",
       "      <td>80000</td>\n",
       "    </tr>\n",
       "  </tbody>\n",
       "</table>\n",
       "</div>"
      ],
      "text/plain": [
       "                  Name  Salary\n",
       "Employee_ID                   \n",
       "101            Utkarsh   95000\n",
       "102             Kartik   85000\n",
       "103          Aishwarya   75000\n",
       "104              Anand   65000\n",
       "105            Shalini   90000\n",
       "106             Pratik   80000"
      ]
     },
     "execution_count": 132,
     "metadata": {},
     "output_type": "execute_result"
    }
   ],
   "source": [
    "df1.loc[101:106, ['Name','Salary']]"
   ]
  },
  {
   "cell_type": "markdown",
   "id": "7483aa58",
   "metadata": {},
   "source": [
    "## Adding and Deleting Rows and Columns"
   ]
  },
  {
   "cell_type": "code",
   "execution_count": 135,
   "id": "1612d57f",
   "metadata": {},
   "outputs": [
    {
     "data": {
      "text/html": [
       "<div>\n",
       "<style scoped>\n",
       "    .dataframe tbody tr th:only-of-type {\n",
       "        vertical-align: middle;\n",
       "    }\n",
       "\n",
       "    .dataframe tbody tr th {\n",
       "        vertical-align: top;\n",
       "    }\n",
       "\n",
       "    .dataframe thead th {\n",
       "        text-align: right;\n",
       "    }\n",
       "</style>\n",
       "<table border=\"1\" class=\"dataframe\">\n",
       "  <thead>\n",
       "    <tr style=\"text-align: right;\">\n",
       "      <th></th>\n",
       "      <th>Name</th>\n",
       "      <th>ID</th>\n",
       "      <th>Gender</th>\n",
       "      <th>Salary</th>\n",
       "    </tr>\n",
       "    <tr>\n",
       "      <th>Employee_ID</th>\n",
       "      <th></th>\n",
       "      <th></th>\n",
       "      <th></th>\n",
       "      <th></th>\n",
       "    </tr>\n",
       "  </thead>\n",
       "  <tbody>\n",
       "    <tr>\n",
       "      <th>101</th>\n",
       "      <td>Utkarsh</td>\n",
       "      <td>1</td>\n",
       "      <td>Male</td>\n",
       "      <td>95000</td>\n",
       "    </tr>\n",
       "    <tr>\n",
       "      <th>102</th>\n",
       "      <td>Kartik</td>\n",
       "      <td>2</td>\n",
       "      <td>Male</td>\n",
       "      <td>85000</td>\n",
       "    </tr>\n",
       "    <tr>\n",
       "      <th>103</th>\n",
       "      <td>Aishwarya</td>\n",
       "      <td>3</td>\n",
       "      <td>Female</td>\n",
       "      <td>75000</td>\n",
       "    </tr>\n",
       "    <tr>\n",
       "      <th>104</th>\n",
       "      <td>Anand</td>\n",
       "      <td>4</td>\n",
       "      <td>Male</td>\n",
       "      <td>65000</td>\n",
       "    </tr>\n",
       "    <tr>\n",
       "      <th>105</th>\n",
       "      <td>Shalini</td>\n",
       "      <td>5</td>\n",
       "      <td>Female</td>\n",
       "      <td>90000</td>\n",
       "    </tr>\n",
       "    <tr>\n",
       "      <th>106</th>\n",
       "      <td>Pratik</td>\n",
       "      <td>6</td>\n",
       "      <td>Male</td>\n",
       "      <td>80000</td>\n",
       "    </tr>\n",
       "    <tr>\n",
       "      <th>107</th>\n",
       "      <td>Monalika</td>\n",
       "      <td>7</td>\n",
       "      <td>Female</td>\n",
       "      <td>70000</td>\n",
       "    </tr>\n",
       "    <tr>\n",
       "      <th>108</th>\n",
       "      <td>Ayesha</td>\n",
       "      <td>8</td>\n",
       "      <td>Female</td>\n",
       "      <td>60000</td>\n",
       "    </tr>\n",
       "    <tr>\n",
       "      <th>109</th>\n",
       "      <td>Anant</td>\n",
       "      <td>9</td>\n",
       "      <td>Male</td>\n",
       "      <td>100000</td>\n",
       "    </tr>\n",
       "    <tr>\n",
       "      <th>110</th>\n",
       "      <td>Shamiksha</td>\n",
       "      <td>10</td>\n",
       "      <td>Female</td>\n",
       "      <td>45000</td>\n",
       "    </tr>\n",
       "    <tr>\n",
       "      <th>111</th>\n",
       "      <td>Prashant</td>\n",
       "      <td>11</td>\n",
       "      <td>Male</td>\n",
       "      <td>55000</td>\n",
       "    </tr>\n",
       "    <tr>\n",
       "      <th>112</th>\n",
       "      <td>Mohini</td>\n",
       "      <td>12</td>\n",
       "      <td>Female</td>\n",
       "      <td>65000</td>\n",
       "    </tr>\n",
       "    <tr>\n",
       "      <th>113</th>\n",
       "      <td>Priti</td>\n",
       "      <td>13</td>\n",
       "      <td>Female</td>\n",
       "      <td>71000</td>\n",
       "    </tr>\n",
       "  </tbody>\n",
       "</table>\n",
       "</div>"
      ],
      "text/plain": [
       "                  Name  ID  Gender  Salary\n",
       "Employee_ID                               \n",
       "101            Utkarsh   1    Male   95000\n",
       "102             Kartik   2    Male   85000\n",
       "103          Aishwarya   3  Female   75000\n",
       "104              Anand   4    Male   65000\n",
       "105            Shalini   5  Female   90000\n",
       "106             Pratik   6    Male   80000\n",
       "107           Monalika   7  Female   70000\n",
       "108             Ayesha   8  Female   60000\n",
       "109              Anant   9    Male  100000\n",
       "110          Shamiksha  10  Female   45000\n",
       "111           Prashant  11    Male   55000\n",
       "112             Mohini  12  Female   65000\n",
       "113              Priti  13  Female   71000"
      ]
     },
     "execution_count": 135,
     "metadata": {},
     "output_type": "execute_result"
    }
   ],
   "source": [
    "df1.loc[113] = ['Priti', 13, 'Female', 71000]\n",
    "df1"
   ]
  },
  {
   "cell_type": "code",
   "execution_count": 137,
   "id": "043ae7e7",
   "metadata": {},
   "outputs": [
    {
     "data": {
      "text/html": [
       "<div>\n",
       "<style scoped>\n",
       "    .dataframe tbody tr th:only-of-type {\n",
       "        vertical-align: middle;\n",
       "    }\n",
       "\n",
       "    .dataframe tbody tr th {\n",
       "        vertical-align: top;\n",
       "    }\n",
       "\n",
       "    .dataframe thead th {\n",
       "        text-align: right;\n",
       "    }\n",
       "</style>\n",
       "<table border=\"1\" class=\"dataframe\">\n",
       "  <thead>\n",
       "    <tr style=\"text-align: right;\">\n",
       "      <th></th>\n",
       "      <th>Name</th>\n",
       "      <th>ID</th>\n",
       "      <th>Gender</th>\n",
       "      <th>Salary</th>\n",
       "      <th>Age</th>\n",
       "    </tr>\n",
       "    <tr>\n",
       "      <th>Employee_ID</th>\n",
       "      <th></th>\n",
       "      <th></th>\n",
       "      <th></th>\n",
       "      <th></th>\n",
       "      <th></th>\n",
       "    </tr>\n",
       "  </thead>\n",
       "  <tbody>\n",
       "    <tr>\n",
       "      <th>101</th>\n",
       "      <td>Utkarsh</td>\n",
       "      <td>1</td>\n",
       "      <td>Male</td>\n",
       "      <td>95000</td>\n",
       "      <td>49</td>\n",
       "    </tr>\n",
       "    <tr>\n",
       "      <th>102</th>\n",
       "      <td>Kartik</td>\n",
       "      <td>2</td>\n",
       "      <td>Male</td>\n",
       "      <td>85000</td>\n",
       "      <td>44</td>\n",
       "    </tr>\n",
       "    <tr>\n",
       "      <th>103</th>\n",
       "      <td>Aishwarya</td>\n",
       "      <td>3</td>\n",
       "      <td>Female</td>\n",
       "      <td>75000</td>\n",
       "      <td>49</td>\n",
       "    </tr>\n",
       "    <tr>\n",
       "      <th>104</th>\n",
       "      <td>Anand</td>\n",
       "      <td>4</td>\n",
       "      <td>Male</td>\n",
       "      <td>65000</td>\n",
       "      <td>29</td>\n",
       "    </tr>\n",
       "    <tr>\n",
       "      <th>105</th>\n",
       "      <td>Shalini</td>\n",
       "      <td>5</td>\n",
       "      <td>Female</td>\n",
       "      <td>90000</td>\n",
       "      <td>47</td>\n",
       "    </tr>\n",
       "    <tr>\n",
       "      <th>106</th>\n",
       "      <td>Pratik</td>\n",
       "      <td>6</td>\n",
       "      <td>Male</td>\n",
       "      <td>80000</td>\n",
       "      <td>49</td>\n",
       "    </tr>\n",
       "    <tr>\n",
       "      <th>107</th>\n",
       "      <td>Monalika</td>\n",
       "      <td>7</td>\n",
       "      <td>Female</td>\n",
       "      <td>70000</td>\n",
       "      <td>30</td>\n",
       "    </tr>\n",
       "    <tr>\n",
       "      <th>108</th>\n",
       "      <td>Ayesha</td>\n",
       "      <td>8</td>\n",
       "      <td>Female</td>\n",
       "      <td>60000</td>\n",
       "      <td>26</td>\n",
       "    </tr>\n",
       "    <tr>\n",
       "      <th>109</th>\n",
       "      <td>Anant</td>\n",
       "      <td>9</td>\n",
       "      <td>Male</td>\n",
       "      <td>100000</td>\n",
       "      <td>38</td>\n",
       "    </tr>\n",
       "    <tr>\n",
       "      <th>110</th>\n",
       "      <td>Shamiksha</td>\n",
       "      <td>10</td>\n",
       "      <td>Female</td>\n",
       "      <td>45000</td>\n",
       "      <td>25</td>\n",
       "    </tr>\n",
       "    <tr>\n",
       "      <th>111</th>\n",
       "      <td>Prashant</td>\n",
       "      <td>11</td>\n",
       "      <td>Male</td>\n",
       "      <td>55000</td>\n",
       "      <td>38</td>\n",
       "    </tr>\n",
       "    <tr>\n",
       "      <th>112</th>\n",
       "      <td>Mohini</td>\n",
       "      <td>12</td>\n",
       "      <td>Female</td>\n",
       "      <td>65000</td>\n",
       "      <td>25</td>\n",
       "    </tr>\n",
       "    <tr>\n",
       "      <th>113</th>\n",
       "      <td>Priti</td>\n",
       "      <td>13</td>\n",
       "      <td>Female</td>\n",
       "      <td>71000</td>\n",
       "      <td>43</td>\n",
       "    </tr>\n",
       "  </tbody>\n",
       "</table>\n",
       "</div>"
      ],
      "text/plain": [
       "                  Name  ID  Gender  Salary  Age\n",
       "Employee_ID                                    \n",
       "101            Utkarsh   1    Male   95000   49\n",
       "102             Kartik   2    Male   85000   44\n",
       "103          Aishwarya   3  Female   75000   49\n",
       "104              Anand   4    Male   65000   29\n",
       "105            Shalini   5  Female   90000   47\n",
       "106             Pratik   6    Male   80000   49\n",
       "107           Monalika   7  Female   70000   30\n",
       "108             Ayesha   8  Female   60000   26\n",
       "109              Anant   9    Male  100000   38\n",
       "110          Shamiksha  10  Female   45000   25\n",
       "111           Prashant  11    Male   55000   38\n",
       "112             Mohini  12  Female   65000   25\n",
       "113              Priti  13  Female   71000   43"
      ]
     },
     "execution_count": 137,
     "metadata": {},
     "output_type": "execute_result"
    }
   ],
   "source": [
    "df1['Age'] = np.random.randint(25,50,13)\n",
    "df1"
   ]
  },
  {
   "cell_type": "code",
   "execution_count": 138,
   "id": "fd050040",
   "metadata": {},
   "outputs": [
    {
     "data": {
      "text/html": [
       "<div>\n",
       "<style scoped>\n",
       "    .dataframe tbody tr th:only-of-type {\n",
       "        vertical-align: middle;\n",
       "    }\n",
       "\n",
       "    .dataframe tbody tr th {\n",
       "        vertical-align: top;\n",
       "    }\n",
       "\n",
       "    .dataframe thead th {\n",
       "        text-align: right;\n",
       "    }\n",
       "</style>\n",
       "<table border=\"1\" class=\"dataframe\">\n",
       "  <thead>\n",
       "    <tr style=\"text-align: right;\">\n",
       "      <th></th>\n",
       "      <th>Name</th>\n",
       "      <th>ID</th>\n",
       "      <th>Gender</th>\n",
       "      <th>Salary</th>\n",
       "      <th>Age</th>\n",
       "    </tr>\n",
       "    <tr>\n",
       "      <th>Employee_ID</th>\n",
       "      <th></th>\n",
       "      <th></th>\n",
       "      <th></th>\n",
       "      <th></th>\n",
       "      <th></th>\n",
       "    </tr>\n",
       "  </thead>\n",
       "  <tbody>\n",
       "    <tr>\n",
       "      <th>101</th>\n",
       "      <td>Utkarsh</td>\n",
       "      <td>1</td>\n",
       "      <td>Male</td>\n",
       "      <td>95000</td>\n",
       "      <td>49</td>\n",
       "    </tr>\n",
       "    <tr>\n",
       "      <th>102</th>\n",
       "      <td>Kartik</td>\n",
       "      <td>2</td>\n",
       "      <td>Male</td>\n",
       "      <td>85000</td>\n",
       "      <td>44</td>\n",
       "    </tr>\n",
       "    <tr>\n",
       "      <th>103</th>\n",
       "      <td>Aishwarya</td>\n",
       "      <td>3</td>\n",
       "      <td>Female</td>\n",
       "      <td>75000</td>\n",
       "      <td>49</td>\n",
       "    </tr>\n",
       "    <tr>\n",
       "      <th>104</th>\n",
       "      <td>Anand</td>\n",
       "      <td>4</td>\n",
       "      <td>Male</td>\n",
       "      <td>65000</td>\n",
       "      <td>29</td>\n",
       "    </tr>\n",
       "    <tr>\n",
       "      <th>105</th>\n",
       "      <td>Shalini</td>\n",
       "      <td>5</td>\n",
       "      <td>Female</td>\n",
       "      <td>90000</td>\n",
       "      <td>47</td>\n",
       "    </tr>\n",
       "    <tr>\n",
       "      <th>106</th>\n",
       "      <td>Pratik</td>\n",
       "      <td>6</td>\n",
       "      <td>Male</td>\n",
       "      <td>80000</td>\n",
       "      <td>49</td>\n",
       "    </tr>\n",
       "    <tr>\n",
       "      <th>107</th>\n",
       "      <td>Monalika</td>\n",
       "      <td>7</td>\n",
       "      <td>Female</td>\n",
       "      <td>70000</td>\n",
       "      <td>30</td>\n",
       "    </tr>\n",
       "    <tr>\n",
       "      <th>108</th>\n",
       "      <td>Ayesha</td>\n",
       "      <td>8</td>\n",
       "      <td>Female</td>\n",
       "      <td>60000</td>\n",
       "      <td>26</td>\n",
       "    </tr>\n",
       "    <tr>\n",
       "      <th>109</th>\n",
       "      <td>Anant</td>\n",
       "      <td>9</td>\n",
       "      <td>Male</td>\n",
       "      <td>100000</td>\n",
       "      <td>38</td>\n",
       "    </tr>\n",
       "    <tr>\n",
       "      <th>110</th>\n",
       "      <td>Shamiksha</td>\n",
       "      <td>10</td>\n",
       "      <td>Female</td>\n",
       "      <td>45000</td>\n",
       "      <td>25</td>\n",
       "    </tr>\n",
       "    <tr>\n",
       "      <th>111</th>\n",
       "      <td>Prashant</td>\n",
       "      <td>11</td>\n",
       "      <td>Male</td>\n",
       "      <td>55000</td>\n",
       "      <td>38</td>\n",
       "    </tr>\n",
       "    <tr>\n",
       "      <th>112</th>\n",
       "      <td>Mohini</td>\n",
       "      <td>12</td>\n",
       "      <td>Female</td>\n",
       "      <td>65000</td>\n",
       "      <td>25</td>\n",
       "    </tr>\n",
       "  </tbody>\n",
       "</table>\n",
       "</div>"
      ],
      "text/plain": [
       "                  Name  ID  Gender  Salary  Age\n",
       "Employee_ID                                    \n",
       "101            Utkarsh   1    Male   95000   49\n",
       "102             Kartik   2    Male   85000   44\n",
       "103          Aishwarya   3  Female   75000   49\n",
       "104              Anand   4    Male   65000   29\n",
       "105            Shalini   5  Female   90000   47\n",
       "106             Pratik   6    Male   80000   49\n",
       "107           Monalika   7  Female   70000   30\n",
       "108             Ayesha   8  Female   60000   26\n",
       "109              Anant   9    Male  100000   38\n",
       "110          Shamiksha  10  Female   45000   25\n",
       "111           Prashant  11    Male   55000   38\n",
       "112             Mohini  12  Female   65000   25"
      ]
     },
     "execution_count": 138,
     "metadata": {},
     "output_type": "execute_result"
    }
   ],
   "source": [
    "df1.drop(113, inplace = True, axis = 0)\n",
    "df1"
   ]
  },
  {
   "cell_type": "code",
   "execution_count": 139,
   "id": "5597b528",
   "metadata": {},
   "outputs": [
    {
     "data": {
      "text/html": [
       "<div>\n",
       "<style scoped>\n",
       "    .dataframe tbody tr th:only-of-type {\n",
       "        vertical-align: middle;\n",
       "    }\n",
       "\n",
       "    .dataframe tbody tr th {\n",
       "        vertical-align: top;\n",
       "    }\n",
       "\n",
       "    .dataframe thead th {\n",
       "        text-align: right;\n",
       "    }\n",
       "</style>\n",
       "<table border=\"1\" class=\"dataframe\">\n",
       "  <thead>\n",
       "    <tr style=\"text-align: right;\">\n",
       "      <th></th>\n",
       "      <th>Name</th>\n",
       "      <th>ID</th>\n",
       "      <th>Gender</th>\n",
       "      <th>Salary</th>\n",
       "      <th>Age</th>\n",
       "      <th>City</th>\n",
       "    </tr>\n",
       "    <tr>\n",
       "      <th>Employee_ID</th>\n",
       "      <th></th>\n",
       "      <th></th>\n",
       "      <th></th>\n",
       "      <th></th>\n",
       "      <th></th>\n",
       "      <th></th>\n",
       "    </tr>\n",
       "  </thead>\n",
       "  <tbody>\n",
       "    <tr>\n",
       "      <th>101</th>\n",
       "      <td>Utkarsh</td>\n",
       "      <td>1</td>\n",
       "      <td>Male</td>\n",
       "      <td>95000</td>\n",
       "      <td>49</td>\n",
       "      <td>Jaipur</td>\n",
       "    </tr>\n",
       "    <tr>\n",
       "      <th>102</th>\n",
       "      <td>Kartik</td>\n",
       "      <td>2</td>\n",
       "      <td>Male</td>\n",
       "      <td>85000</td>\n",
       "      <td>44</td>\n",
       "      <td>Jaipur</td>\n",
       "    </tr>\n",
       "    <tr>\n",
       "      <th>103</th>\n",
       "      <td>Aishwarya</td>\n",
       "      <td>3</td>\n",
       "      <td>Female</td>\n",
       "      <td>75000</td>\n",
       "      <td>49</td>\n",
       "      <td>Jaipur</td>\n",
       "    </tr>\n",
       "    <tr>\n",
       "      <th>104</th>\n",
       "      <td>Anand</td>\n",
       "      <td>4</td>\n",
       "      <td>Male</td>\n",
       "      <td>65000</td>\n",
       "      <td>29</td>\n",
       "      <td>Jaipur</td>\n",
       "    </tr>\n",
       "    <tr>\n",
       "      <th>105</th>\n",
       "      <td>Shalini</td>\n",
       "      <td>5</td>\n",
       "      <td>Female</td>\n",
       "      <td>90000</td>\n",
       "      <td>47</td>\n",
       "      <td>Jaipur</td>\n",
       "    </tr>\n",
       "    <tr>\n",
       "      <th>106</th>\n",
       "      <td>Pratik</td>\n",
       "      <td>6</td>\n",
       "      <td>Male</td>\n",
       "      <td>80000</td>\n",
       "      <td>49</td>\n",
       "      <td>Jaipur</td>\n",
       "    </tr>\n",
       "    <tr>\n",
       "      <th>107</th>\n",
       "      <td>Monalika</td>\n",
       "      <td>7</td>\n",
       "      <td>Female</td>\n",
       "      <td>70000</td>\n",
       "      <td>30</td>\n",
       "      <td>Jaipur</td>\n",
       "    </tr>\n",
       "    <tr>\n",
       "      <th>108</th>\n",
       "      <td>Ayesha</td>\n",
       "      <td>8</td>\n",
       "      <td>Female</td>\n",
       "      <td>60000</td>\n",
       "      <td>26</td>\n",
       "      <td>Jaipur</td>\n",
       "    </tr>\n",
       "    <tr>\n",
       "      <th>109</th>\n",
       "      <td>Anant</td>\n",
       "      <td>9</td>\n",
       "      <td>Male</td>\n",
       "      <td>100000</td>\n",
       "      <td>38</td>\n",
       "      <td>Jaipur</td>\n",
       "    </tr>\n",
       "    <tr>\n",
       "      <th>110</th>\n",
       "      <td>Shamiksha</td>\n",
       "      <td>10</td>\n",
       "      <td>Female</td>\n",
       "      <td>45000</td>\n",
       "      <td>25</td>\n",
       "      <td>Jaipur</td>\n",
       "    </tr>\n",
       "    <tr>\n",
       "      <th>111</th>\n",
       "      <td>Prashant</td>\n",
       "      <td>11</td>\n",
       "      <td>Male</td>\n",
       "      <td>55000</td>\n",
       "      <td>38</td>\n",
       "      <td>Jaipur</td>\n",
       "    </tr>\n",
       "    <tr>\n",
       "      <th>112</th>\n",
       "      <td>Mohini</td>\n",
       "      <td>12</td>\n",
       "      <td>Female</td>\n",
       "      <td>65000</td>\n",
       "      <td>25</td>\n",
       "      <td>Jaipur</td>\n",
       "    </tr>\n",
       "  </tbody>\n",
       "</table>\n",
       "</div>"
      ],
      "text/plain": [
       "                  Name  ID  Gender  Salary  Age    City\n",
       "Employee_ID                                            \n",
       "101            Utkarsh   1    Male   95000   49  Jaipur\n",
       "102             Kartik   2    Male   85000   44  Jaipur\n",
       "103          Aishwarya   3  Female   75000   49  Jaipur\n",
       "104              Anand   4    Male   65000   29  Jaipur\n",
       "105            Shalini   5  Female   90000   47  Jaipur\n",
       "106             Pratik   6    Male   80000   49  Jaipur\n",
       "107           Monalika   7  Female   70000   30  Jaipur\n",
       "108             Ayesha   8  Female   60000   26  Jaipur\n",
       "109              Anant   9    Male  100000   38  Jaipur\n",
       "110          Shamiksha  10  Female   45000   25  Jaipur\n",
       "111           Prashant  11    Male   55000   38  Jaipur\n",
       "112             Mohini  12  Female   65000   25  Jaipur"
      ]
     },
     "execution_count": 139,
     "metadata": {},
     "output_type": "execute_result"
    }
   ],
   "source": [
    "df1['City'] = 'Jaipur'\n",
    "df1"
   ]
  },
  {
   "cell_type": "code",
   "execution_count": 141,
   "id": "35488d7c",
   "metadata": {},
   "outputs": [],
   "source": [
    "df1.drop('City', inplace = True, axis = 1)"
   ]
  },
  {
   "cell_type": "code",
   "execution_count": 142,
   "id": "ce207f68",
   "metadata": {},
   "outputs": [
    {
     "data": {
      "text/html": [
       "<div>\n",
       "<style scoped>\n",
       "    .dataframe tbody tr th:only-of-type {\n",
       "        vertical-align: middle;\n",
       "    }\n",
       "\n",
       "    .dataframe tbody tr th {\n",
       "        vertical-align: top;\n",
       "    }\n",
       "\n",
       "    .dataframe thead th {\n",
       "        text-align: right;\n",
       "    }\n",
       "</style>\n",
       "<table border=\"1\" class=\"dataframe\">\n",
       "  <thead>\n",
       "    <tr style=\"text-align: right;\">\n",
       "      <th></th>\n",
       "      <th>Name</th>\n",
       "      <th>ID</th>\n",
       "      <th>Gender</th>\n",
       "      <th>Salary</th>\n",
       "      <th>Age</th>\n",
       "    </tr>\n",
       "    <tr>\n",
       "      <th>Employee_ID</th>\n",
       "      <th></th>\n",
       "      <th></th>\n",
       "      <th></th>\n",
       "      <th></th>\n",
       "      <th></th>\n",
       "    </tr>\n",
       "  </thead>\n",
       "  <tbody>\n",
       "    <tr>\n",
       "      <th>101</th>\n",
       "      <td>Utkarsh</td>\n",
       "      <td>1</td>\n",
       "      <td>Male</td>\n",
       "      <td>95000</td>\n",
       "      <td>49</td>\n",
       "    </tr>\n",
       "    <tr>\n",
       "      <th>102</th>\n",
       "      <td>Kartik</td>\n",
       "      <td>2</td>\n",
       "      <td>Male</td>\n",
       "      <td>85000</td>\n",
       "      <td>44</td>\n",
       "    </tr>\n",
       "    <tr>\n",
       "      <th>103</th>\n",
       "      <td>Aishwarya</td>\n",
       "      <td>3</td>\n",
       "      <td>Female</td>\n",
       "      <td>75000</td>\n",
       "      <td>49</td>\n",
       "    </tr>\n",
       "    <tr>\n",
       "      <th>104</th>\n",
       "      <td>Anand</td>\n",
       "      <td>4</td>\n",
       "      <td>Male</td>\n",
       "      <td>65000</td>\n",
       "      <td>29</td>\n",
       "    </tr>\n",
       "    <tr>\n",
       "      <th>105</th>\n",
       "      <td>Shalini</td>\n",
       "      <td>5</td>\n",
       "      <td>Female</td>\n",
       "      <td>90000</td>\n",
       "      <td>47</td>\n",
       "    </tr>\n",
       "    <tr>\n",
       "      <th>106</th>\n",
       "      <td>Pratik</td>\n",
       "      <td>6</td>\n",
       "      <td>Male</td>\n",
       "      <td>80000</td>\n",
       "      <td>49</td>\n",
       "    </tr>\n",
       "    <tr>\n",
       "      <th>107</th>\n",
       "      <td>Monalika</td>\n",
       "      <td>7</td>\n",
       "      <td>Female</td>\n",
       "      <td>70000</td>\n",
       "      <td>30</td>\n",
       "    </tr>\n",
       "    <tr>\n",
       "      <th>108</th>\n",
       "      <td>Ayesha</td>\n",
       "      <td>8</td>\n",
       "      <td>Female</td>\n",
       "      <td>60000</td>\n",
       "      <td>26</td>\n",
       "    </tr>\n",
       "    <tr>\n",
       "      <th>109</th>\n",
       "      <td>Anant</td>\n",
       "      <td>9</td>\n",
       "      <td>Male</td>\n",
       "      <td>100000</td>\n",
       "      <td>38</td>\n",
       "    </tr>\n",
       "    <tr>\n",
       "      <th>110</th>\n",
       "      <td>Shamiksha</td>\n",
       "      <td>10</td>\n",
       "      <td>Female</td>\n",
       "      <td>45000</td>\n",
       "      <td>25</td>\n",
       "    </tr>\n",
       "    <tr>\n",
       "      <th>111</th>\n",
       "      <td>Prashant</td>\n",
       "      <td>11</td>\n",
       "      <td>Male</td>\n",
       "      <td>55000</td>\n",
       "      <td>38</td>\n",
       "    </tr>\n",
       "    <tr>\n",
       "      <th>112</th>\n",
       "      <td>Mohini</td>\n",
       "      <td>12</td>\n",
       "      <td>Female</td>\n",
       "      <td>65000</td>\n",
       "      <td>25</td>\n",
       "    </tr>\n",
       "  </tbody>\n",
       "</table>\n",
       "</div>"
      ],
      "text/plain": [
       "                  Name  ID  Gender  Salary  Age\n",
       "Employee_ID                                    \n",
       "101            Utkarsh   1    Male   95000   49\n",
       "102             Kartik   2    Male   85000   44\n",
       "103          Aishwarya   3  Female   75000   49\n",
       "104              Anand   4    Male   65000   29\n",
       "105            Shalini   5  Female   90000   47\n",
       "106             Pratik   6    Male   80000   49\n",
       "107           Monalika   7  Female   70000   30\n",
       "108             Ayesha   8  Female   60000   26\n",
       "109              Anant   9    Male  100000   38\n",
       "110          Shamiksha  10  Female   45000   25\n",
       "111           Prashant  11    Male   55000   38\n",
       "112             Mohini  12  Female   65000   25"
      ]
     },
     "execution_count": 142,
     "metadata": {},
     "output_type": "execute_result"
    }
   ],
   "source": [
    "df1"
   ]
  },
  {
   "cell_type": "markdown",
   "id": "2157da43",
   "metadata": {},
   "source": [
    "## Querying Based on Condition"
   ]
  },
  {
   "cell_type": "code",
   "execution_count": 143,
   "id": "27ca9701",
   "metadata": {},
   "outputs": [
    {
     "data": {
      "text/html": [
       "<div>\n",
       "<style scoped>\n",
       "    .dataframe tbody tr th:only-of-type {\n",
       "        vertical-align: middle;\n",
       "    }\n",
       "\n",
       "    .dataframe tbody tr th {\n",
       "        vertical-align: top;\n",
       "    }\n",
       "\n",
       "    .dataframe thead th {\n",
       "        text-align: right;\n",
       "    }\n",
       "</style>\n",
       "<table border=\"1\" class=\"dataframe\">\n",
       "  <thead>\n",
       "    <tr style=\"text-align: right;\">\n",
       "      <th></th>\n",
       "      <th>Name</th>\n",
       "      <th>ID</th>\n",
       "      <th>Gender</th>\n",
       "      <th>Salary</th>\n",
       "      <th>Age</th>\n",
       "    </tr>\n",
       "    <tr>\n",
       "      <th>Employee_ID</th>\n",
       "      <th></th>\n",
       "      <th></th>\n",
       "      <th></th>\n",
       "      <th></th>\n",
       "      <th></th>\n",
       "    </tr>\n",
       "  </thead>\n",
       "  <tbody>\n",
       "    <tr>\n",
       "      <th>101</th>\n",
       "      <td>Utkarsh</td>\n",
       "      <td>1</td>\n",
       "      <td>Male</td>\n",
       "      <td>95000</td>\n",
       "      <td>49</td>\n",
       "    </tr>\n",
       "    <tr>\n",
       "      <th>102</th>\n",
       "      <td>Kartik</td>\n",
       "      <td>2</td>\n",
       "      <td>Male</td>\n",
       "      <td>85000</td>\n",
       "      <td>44</td>\n",
       "    </tr>\n",
       "    <tr>\n",
       "      <th>103</th>\n",
       "      <td>Aishwarya</td>\n",
       "      <td>3</td>\n",
       "      <td>Female</td>\n",
       "      <td>75000</td>\n",
       "      <td>49</td>\n",
       "    </tr>\n",
       "    <tr>\n",
       "      <th>105</th>\n",
       "      <td>Shalini</td>\n",
       "      <td>5</td>\n",
       "      <td>Female</td>\n",
       "      <td>90000</td>\n",
       "      <td>47</td>\n",
       "    </tr>\n",
       "    <tr>\n",
       "      <th>106</th>\n",
       "      <td>Pratik</td>\n",
       "      <td>6</td>\n",
       "      <td>Male</td>\n",
       "      <td>80000</td>\n",
       "      <td>49</td>\n",
       "    </tr>\n",
       "  </tbody>\n",
       "</table>\n",
       "</div>"
      ],
      "text/plain": [
       "                  Name  ID  Gender  Salary  Age\n",
       "Employee_ID                                    \n",
       "101            Utkarsh   1    Male   95000   49\n",
       "102             Kartik   2    Male   85000   44\n",
       "103          Aishwarya   3  Female   75000   49\n",
       "105            Shalini   5  Female   90000   47\n",
       "106             Pratik   6    Male   80000   49"
      ]
     },
     "execution_count": 143,
     "metadata": {},
     "output_type": "execute_result"
    }
   ],
   "source": [
    "df1[df1.Age > 40]"
   ]
  },
  {
   "cell_type": "code",
   "execution_count": 144,
   "id": "497d7beb",
   "metadata": {},
   "outputs": [
    {
     "data": {
      "text/html": [
       "<div>\n",
       "<style scoped>\n",
       "    .dataframe tbody tr th:only-of-type {\n",
       "        vertical-align: middle;\n",
       "    }\n",
       "\n",
       "    .dataframe tbody tr th {\n",
       "        vertical-align: top;\n",
       "    }\n",
       "\n",
       "    .dataframe thead th {\n",
       "        text-align: right;\n",
       "    }\n",
       "</style>\n",
       "<table border=\"1\" class=\"dataframe\">\n",
       "  <thead>\n",
       "    <tr style=\"text-align: right;\">\n",
       "      <th></th>\n",
       "      <th>Name</th>\n",
       "      <th>ID</th>\n",
       "      <th>Gender</th>\n",
       "      <th>Salary</th>\n",
       "      <th>Age</th>\n",
       "    </tr>\n",
       "    <tr>\n",
       "      <th>Employee_ID</th>\n",
       "      <th></th>\n",
       "      <th></th>\n",
       "      <th></th>\n",
       "      <th></th>\n",
       "      <th></th>\n",
       "    </tr>\n",
       "  </thead>\n",
       "  <tbody>\n",
       "    <tr>\n",
       "      <th>104</th>\n",
       "      <td>Anand</td>\n",
       "      <td>4</td>\n",
       "      <td>Male</td>\n",
       "      <td>65000</td>\n",
       "      <td>29</td>\n",
       "    </tr>\n",
       "    <tr>\n",
       "      <th>108</th>\n",
       "      <td>Ayesha</td>\n",
       "      <td>8</td>\n",
       "      <td>Female</td>\n",
       "      <td>60000</td>\n",
       "      <td>26</td>\n",
       "    </tr>\n",
       "    <tr>\n",
       "      <th>110</th>\n",
       "      <td>Shamiksha</td>\n",
       "      <td>10</td>\n",
       "      <td>Female</td>\n",
       "      <td>45000</td>\n",
       "      <td>25</td>\n",
       "    </tr>\n",
       "    <tr>\n",
       "      <th>111</th>\n",
       "      <td>Prashant</td>\n",
       "      <td>11</td>\n",
       "      <td>Male</td>\n",
       "      <td>55000</td>\n",
       "      <td>38</td>\n",
       "    </tr>\n",
       "    <tr>\n",
       "      <th>112</th>\n",
       "      <td>Mohini</td>\n",
       "      <td>12</td>\n",
       "      <td>Female</td>\n",
       "      <td>65000</td>\n",
       "      <td>25</td>\n",
       "    </tr>\n",
       "  </tbody>\n",
       "</table>\n",
       "</div>"
      ],
      "text/plain": [
       "                  Name  ID  Gender  Salary  Age\n",
       "Employee_ID                                    \n",
       "104              Anand   4    Male   65000   29\n",
       "108             Ayesha   8  Female   60000   26\n",
       "110          Shamiksha  10  Female   45000   25\n",
       "111           Prashant  11    Male   55000   38\n",
       "112             Mohini  12  Female   65000   25"
      ]
     },
     "execution_count": 144,
     "metadata": {},
     "output_type": "execute_result"
    }
   ],
   "source": [
    "df1[df1.Salary < 70000]"
   ]
  },
  {
   "cell_type": "code",
   "execution_count": 145,
   "id": "25a66c7f",
   "metadata": {},
   "outputs": [
    {
     "data": {
      "text/html": [
       "<div>\n",
       "<style scoped>\n",
       "    .dataframe tbody tr th:only-of-type {\n",
       "        vertical-align: middle;\n",
       "    }\n",
       "\n",
       "    .dataframe tbody tr th {\n",
       "        vertical-align: top;\n",
       "    }\n",
       "\n",
       "    .dataframe thead th {\n",
       "        text-align: right;\n",
       "    }\n",
       "</style>\n",
       "<table border=\"1\" class=\"dataframe\">\n",
       "  <thead>\n",
       "    <tr style=\"text-align: right;\">\n",
       "      <th></th>\n",
       "      <th>Name</th>\n",
       "      <th>Age</th>\n",
       "    </tr>\n",
       "    <tr>\n",
       "      <th>Employee_ID</th>\n",
       "      <th></th>\n",
       "      <th></th>\n",
       "    </tr>\n",
       "  </thead>\n",
       "  <tbody>\n",
       "    <tr>\n",
       "      <th>104</th>\n",
       "      <td>Anand</td>\n",
       "      <td>29</td>\n",
       "    </tr>\n",
       "    <tr>\n",
       "      <th>108</th>\n",
       "      <td>Ayesha</td>\n",
       "      <td>26</td>\n",
       "    </tr>\n",
       "    <tr>\n",
       "      <th>110</th>\n",
       "      <td>Shamiksha</td>\n",
       "      <td>25</td>\n",
       "    </tr>\n",
       "    <tr>\n",
       "      <th>111</th>\n",
       "      <td>Prashant</td>\n",
       "      <td>38</td>\n",
       "    </tr>\n",
       "    <tr>\n",
       "      <th>112</th>\n",
       "      <td>Mohini</td>\n",
       "      <td>25</td>\n",
       "    </tr>\n",
       "  </tbody>\n",
       "</table>\n",
       "</div>"
      ],
      "text/plain": [
       "                  Name  Age\n",
       "Employee_ID                \n",
       "104              Anand   29\n",
       "108             Ayesha   26\n",
       "110          Shamiksha   25\n",
       "111           Prashant   38\n",
       "112             Mohini   25"
      ]
     },
     "execution_count": 145,
     "metadata": {},
     "output_type": "execute_result"
    }
   ],
   "source": [
    "df1[df1.Salary < 70000][['Name', 'Age']]"
   ]
  },
  {
   "cell_type": "code",
   "execution_count": 147,
   "id": "8271c145",
   "metadata": {},
   "outputs": [
    {
     "data": {
      "text/html": [
       "<div>\n",
       "<style scoped>\n",
       "    .dataframe tbody tr th:only-of-type {\n",
       "        vertical-align: middle;\n",
       "    }\n",
       "\n",
       "    .dataframe tbody tr th {\n",
       "        vertical-align: top;\n",
       "    }\n",
       "\n",
       "    .dataframe thead th {\n",
       "        text-align: right;\n",
       "    }\n",
       "</style>\n",
       "<table border=\"1\" class=\"dataframe\">\n",
       "  <thead>\n",
       "    <tr style=\"text-align: right;\">\n",
       "      <th></th>\n",
       "      <th>Name</th>\n",
       "      <th>ID</th>\n",
       "      <th>Gender</th>\n",
       "      <th>Salary</th>\n",
       "      <th>Age</th>\n",
       "    </tr>\n",
       "    <tr>\n",
       "      <th>Employee_ID</th>\n",
       "      <th></th>\n",
       "      <th></th>\n",
       "      <th></th>\n",
       "      <th></th>\n",
       "      <th></th>\n",
       "    </tr>\n",
       "  </thead>\n",
       "  <tbody>\n",
       "    <tr>\n",
       "      <th>101</th>\n",
       "      <td>Utkarsh</td>\n",
       "      <td>1</td>\n",
       "      <td>Male</td>\n",
       "      <td>95000</td>\n",
       "      <td>49</td>\n",
       "    </tr>\n",
       "    <tr>\n",
       "      <th>102</th>\n",
       "      <td>Kartik</td>\n",
       "      <td>2</td>\n",
       "      <td>Male</td>\n",
       "      <td>85000</td>\n",
       "      <td>44</td>\n",
       "    </tr>\n",
       "    <tr>\n",
       "      <th>104</th>\n",
       "      <td>Anand</td>\n",
       "      <td>4</td>\n",
       "      <td>Male</td>\n",
       "      <td>65000</td>\n",
       "      <td>29</td>\n",
       "    </tr>\n",
       "    <tr>\n",
       "      <th>106</th>\n",
       "      <td>Pratik</td>\n",
       "      <td>6</td>\n",
       "      <td>Male</td>\n",
       "      <td>80000</td>\n",
       "      <td>49</td>\n",
       "    </tr>\n",
       "    <tr>\n",
       "      <th>109</th>\n",
       "      <td>Anant</td>\n",
       "      <td>9</td>\n",
       "      <td>Male</td>\n",
       "      <td>100000</td>\n",
       "      <td>38</td>\n",
       "    </tr>\n",
       "    <tr>\n",
       "      <th>111</th>\n",
       "      <td>Prashant</td>\n",
       "      <td>11</td>\n",
       "      <td>Male</td>\n",
       "      <td>55000</td>\n",
       "      <td>38</td>\n",
       "    </tr>\n",
       "  </tbody>\n",
       "</table>\n",
       "</div>"
      ],
      "text/plain": [
       "                 Name  ID Gender  Salary  Age\n",
       "Employee_ID                                  \n",
       "101           Utkarsh   1   Male   95000   49\n",
       "102            Kartik   2   Male   85000   44\n",
       "104             Anand   4   Male   65000   29\n",
       "106            Pratik   6   Male   80000   49\n",
       "109             Anant   9   Male  100000   38\n",
       "111          Prashant  11   Male   55000   38"
      ]
     },
     "execution_count": 147,
     "metadata": {},
     "output_type": "execute_result"
    }
   ],
   "source": [
    "df1[df1.Gender == 'Male']"
   ]
  },
  {
   "cell_type": "code",
   "execution_count": 148,
   "id": "1d1f80a0",
   "metadata": {},
   "outputs": [
    {
     "name": "stderr",
     "output_type": "stream",
     "text": [
      "<ipython-input-148-2e397ca7b8c5>:1: UserWarning: Boolean Series key will be reindexed to match DataFrame index.\n",
      "  df1[df1.Gender == 'Male'][df1.Salary > 80000]\n"
     ]
    },
    {
     "data": {
      "text/html": [
       "<div>\n",
       "<style scoped>\n",
       "    .dataframe tbody tr th:only-of-type {\n",
       "        vertical-align: middle;\n",
       "    }\n",
       "\n",
       "    .dataframe tbody tr th {\n",
       "        vertical-align: top;\n",
       "    }\n",
       "\n",
       "    .dataframe thead th {\n",
       "        text-align: right;\n",
       "    }\n",
       "</style>\n",
       "<table border=\"1\" class=\"dataframe\">\n",
       "  <thead>\n",
       "    <tr style=\"text-align: right;\">\n",
       "      <th></th>\n",
       "      <th>Name</th>\n",
       "      <th>ID</th>\n",
       "      <th>Gender</th>\n",
       "      <th>Salary</th>\n",
       "      <th>Age</th>\n",
       "    </tr>\n",
       "    <tr>\n",
       "      <th>Employee_ID</th>\n",
       "      <th></th>\n",
       "      <th></th>\n",
       "      <th></th>\n",
       "      <th></th>\n",
       "      <th></th>\n",
       "    </tr>\n",
       "  </thead>\n",
       "  <tbody>\n",
       "    <tr>\n",
       "      <th>101</th>\n",
       "      <td>Utkarsh</td>\n",
       "      <td>1</td>\n",
       "      <td>Male</td>\n",
       "      <td>95000</td>\n",
       "      <td>49</td>\n",
       "    </tr>\n",
       "    <tr>\n",
       "      <th>102</th>\n",
       "      <td>Kartik</td>\n",
       "      <td>2</td>\n",
       "      <td>Male</td>\n",
       "      <td>85000</td>\n",
       "      <td>44</td>\n",
       "    </tr>\n",
       "    <tr>\n",
       "      <th>109</th>\n",
       "      <td>Anant</td>\n",
       "      <td>9</td>\n",
       "      <td>Male</td>\n",
       "      <td>100000</td>\n",
       "      <td>38</td>\n",
       "    </tr>\n",
       "  </tbody>\n",
       "</table>\n",
       "</div>"
      ],
      "text/plain": [
       "                Name  ID Gender  Salary  Age\n",
       "Employee_ID                                 \n",
       "101          Utkarsh   1   Male   95000   49\n",
       "102           Kartik   2   Male   85000   44\n",
       "109            Anant   9   Male  100000   38"
      ]
     },
     "execution_count": 148,
     "metadata": {},
     "output_type": "execute_result"
    }
   ],
   "source": [
    "df1[df1.Gender == 'Male'][df1.Salary > 80000]"
   ]
  },
  {
   "cell_type": "code",
   "execution_count": 149,
   "id": "5d8174d3",
   "metadata": {},
   "outputs": [
    {
     "name": "stderr",
     "output_type": "stream",
     "text": [
      "<ipython-input-149-70260dee9cb2>:1: UserWarning: Boolean Series key will be reindexed to match DataFrame index.\n",
      "  df1[df1.Gender == 'Female'][df1.Salary > 80000]\n"
     ]
    },
    {
     "data": {
      "text/html": [
       "<div>\n",
       "<style scoped>\n",
       "    .dataframe tbody tr th:only-of-type {\n",
       "        vertical-align: middle;\n",
       "    }\n",
       "\n",
       "    .dataframe tbody tr th {\n",
       "        vertical-align: top;\n",
       "    }\n",
       "\n",
       "    .dataframe thead th {\n",
       "        text-align: right;\n",
       "    }\n",
       "</style>\n",
       "<table border=\"1\" class=\"dataframe\">\n",
       "  <thead>\n",
       "    <tr style=\"text-align: right;\">\n",
       "      <th></th>\n",
       "      <th>Name</th>\n",
       "      <th>ID</th>\n",
       "      <th>Gender</th>\n",
       "      <th>Salary</th>\n",
       "      <th>Age</th>\n",
       "    </tr>\n",
       "    <tr>\n",
       "      <th>Employee_ID</th>\n",
       "      <th></th>\n",
       "      <th></th>\n",
       "      <th></th>\n",
       "      <th></th>\n",
       "      <th></th>\n",
       "    </tr>\n",
       "  </thead>\n",
       "  <tbody>\n",
       "    <tr>\n",
       "      <th>105</th>\n",
       "      <td>Shalini</td>\n",
       "      <td>5</td>\n",
       "      <td>Female</td>\n",
       "      <td>90000</td>\n",
       "      <td>47</td>\n",
       "    </tr>\n",
       "  </tbody>\n",
       "</table>\n",
       "</div>"
      ],
      "text/plain": [
       "                Name  ID  Gender  Salary  Age\n",
       "Employee_ID                                  \n",
       "105          Shalini   5  Female   90000   47"
      ]
     },
     "execution_count": 149,
     "metadata": {},
     "output_type": "execute_result"
    }
   ],
   "source": [
    "df1[df1.Gender == 'Female'][df1.Salary > 80000]"
   ]
  },
  {
   "cell_type": "code",
   "execution_count": 150,
   "id": "23c226ff",
   "metadata": {},
   "outputs": [
    {
     "name": "stderr",
     "output_type": "stream",
     "text": [
      "<ipython-input-150-642a35c07123>:1: UserWarning: Boolean Series key will be reindexed to match DataFrame index.\n",
      "  df1[df1.Gender == 'Female'][df1.Age > 45]\n"
     ]
    },
    {
     "data": {
      "text/html": [
       "<div>\n",
       "<style scoped>\n",
       "    .dataframe tbody tr th:only-of-type {\n",
       "        vertical-align: middle;\n",
       "    }\n",
       "\n",
       "    .dataframe tbody tr th {\n",
       "        vertical-align: top;\n",
       "    }\n",
       "\n",
       "    .dataframe thead th {\n",
       "        text-align: right;\n",
       "    }\n",
       "</style>\n",
       "<table border=\"1\" class=\"dataframe\">\n",
       "  <thead>\n",
       "    <tr style=\"text-align: right;\">\n",
       "      <th></th>\n",
       "      <th>Name</th>\n",
       "      <th>ID</th>\n",
       "      <th>Gender</th>\n",
       "      <th>Salary</th>\n",
       "      <th>Age</th>\n",
       "    </tr>\n",
       "    <tr>\n",
       "      <th>Employee_ID</th>\n",
       "      <th></th>\n",
       "      <th></th>\n",
       "      <th></th>\n",
       "      <th></th>\n",
       "      <th></th>\n",
       "    </tr>\n",
       "  </thead>\n",
       "  <tbody>\n",
       "    <tr>\n",
       "      <th>103</th>\n",
       "      <td>Aishwarya</td>\n",
       "      <td>3</td>\n",
       "      <td>Female</td>\n",
       "      <td>75000</td>\n",
       "      <td>49</td>\n",
       "    </tr>\n",
       "    <tr>\n",
       "      <th>105</th>\n",
       "      <td>Shalini</td>\n",
       "      <td>5</td>\n",
       "      <td>Female</td>\n",
       "      <td>90000</td>\n",
       "      <td>47</td>\n",
       "    </tr>\n",
       "  </tbody>\n",
       "</table>\n",
       "</div>"
      ],
      "text/plain": [
       "                  Name  ID  Gender  Salary  Age\n",
       "Employee_ID                                    \n",
       "103          Aishwarya   3  Female   75000   49\n",
       "105            Shalini   5  Female   90000   47"
      ]
     },
     "execution_count": 150,
     "metadata": {},
     "output_type": "execute_result"
    }
   ],
   "source": [
    "df1[df1.Gender == 'Female'][df1.Age > 45]"
   ]
  },
  {
   "cell_type": "code",
   "execution_count": 151,
   "id": "bb6c9a19",
   "metadata": {},
   "outputs": [
    {
     "data": {
      "text/html": [
       "<div>\n",
       "<style scoped>\n",
       "    .dataframe tbody tr th:only-of-type {\n",
       "        vertical-align: middle;\n",
       "    }\n",
       "\n",
       "    .dataframe tbody tr th {\n",
       "        vertical-align: top;\n",
       "    }\n",
       "\n",
       "    .dataframe thead th {\n",
       "        text-align: right;\n",
       "    }\n",
       "</style>\n",
       "<table border=\"1\" class=\"dataframe\">\n",
       "  <thead>\n",
       "    <tr style=\"text-align: right;\">\n",
       "      <th></th>\n",
       "      <th>Name</th>\n",
       "      <th>ID</th>\n",
       "      <th>Gender</th>\n",
       "      <th>Salary</th>\n",
       "      <th>Age</th>\n",
       "    </tr>\n",
       "    <tr>\n",
       "      <th>Employee_ID</th>\n",
       "      <th></th>\n",
       "      <th></th>\n",
       "      <th></th>\n",
       "      <th></th>\n",
       "      <th></th>\n",
       "    </tr>\n",
       "  </thead>\n",
       "  <tbody>\n",
       "    <tr>\n",
       "      <th>101</th>\n",
       "      <td>Utkarsh</td>\n",
       "      <td>1</td>\n",
       "      <td>Male</td>\n",
       "      <td>95000</td>\n",
       "      <td>49</td>\n",
       "    </tr>\n",
       "    <tr>\n",
       "      <th>102</th>\n",
       "      <td>Kartik</td>\n",
       "      <td>2</td>\n",
       "      <td>Male</td>\n",
       "      <td>85000</td>\n",
       "      <td>44</td>\n",
       "    </tr>\n",
       "    <tr>\n",
       "      <th>103</th>\n",
       "      <td>Aishwarya</td>\n",
       "      <td>3</td>\n",
       "      <td>Female</td>\n",
       "      <td>75000</td>\n",
       "      <td>49</td>\n",
       "    </tr>\n",
       "    <tr>\n",
       "      <th>105</th>\n",
       "      <td>Shalini</td>\n",
       "      <td>5</td>\n",
       "      <td>Female</td>\n",
       "      <td>90000</td>\n",
       "      <td>47</td>\n",
       "    </tr>\n",
       "    <tr>\n",
       "      <th>106</th>\n",
       "      <td>Pratik</td>\n",
       "      <td>6</td>\n",
       "      <td>Male</td>\n",
       "      <td>80000</td>\n",
       "      <td>49</td>\n",
       "    </tr>\n",
       "    <tr>\n",
       "      <th>109</th>\n",
       "      <td>Anant</td>\n",
       "      <td>9</td>\n",
       "      <td>Male</td>\n",
       "      <td>100000</td>\n",
       "      <td>38</td>\n",
       "    </tr>\n",
       "  </tbody>\n",
       "</table>\n",
       "</div>"
      ],
      "text/plain": [
       "                  Name  ID  Gender  Salary  Age\n",
       "Employee_ID                                    \n",
       "101            Utkarsh   1    Male   95000   49\n",
       "102             Kartik   2    Male   85000   44\n",
       "103          Aishwarya   3  Female   75000   49\n",
       "105            Shalini   5  Female   90000   47\n",
       "106             Pratik   6    Male   80000   49\n",
       "109              Anant   9    Male  100000   38"
      ]
     },
     "execution_count": 151,
     "metadata": {},
     "output_type": "execute_result"
    }
   ],
   "source": [
    "df1.query('Salary > 70000')"
   ]
  },
  {
   "cell_type": "code",
   "execution_count": 153,
   "id": "b4b37970",
   "metadata": {},
   "outputs": [
    {
     "data": {
      "text/html": [
       "<div>\n",
       "<style scoped>\n",
       "    .dataframe tbody tr th:only-of-type {\n",
       "        vertical-align: middle;\n",
       "    }\n",
       "\n",
       "    .dataframe tbody tr th {\n",
       "        vertical-align: top;\n",
       "    }\n",
       "\n",
       "    .dataframe thead th {\n",
       "        text-align: right;\n",
       "    }\n",
       "</style>\n",
       "<table border=\"1\" class=\"dataframe\">\n",
       "  <thead>\n",
       "    <tr style=\"text-align: right;\">\n",
       "      <th></th>\n",
       "      <th>Name</th>\n",
       "      <th>ID</th>\n",
       "      <th>Gender</th>\n",
       "      <th>Salary</th>\n",
       "      <th>Age</th>\n",
       "    </tr>\n",
       "    <tr>\n",
       "      <th>Employee_ID</th>\n",
       "      <th></th>\n",
       "      <th></th>\n",
       "      <th></th>\n",
       "      <th></th>\n",
       "      <th></th>\n",
       "    </tr>\n",
       "  </thead>\n",
       "  <tbody>\n",
       "    <tr>\n",
       "      <th>101</th>\n",
       "      <td>Utkarsh</td>\n",
       "      <td>1</td>\n",
       "      <td>Male</td>\n",
       "      <td>95000</td>\n",
       "      <td>49</td>\n",
       "    </tr>\n",
       "    <tr>\n",
       "      <th>102</th>\n",
       "      <td>Kartik</td>\n",
       "      <td>2</td>\n",
       "      <td>Male</td>\n",
       "      <td>85000</td>\n",
       "      <td>44</td>\n",
       "    </tr>\n",
       "    <tr>\n",
       "      <th>104</th>\n",
       "      <td>Anand</td>\n",
       "      <td>4</td>\n",
       "      <td>Male</td>\n",
       "      <td>65000</td>\n",
       "      <td>29</td>\n",
       "    </tr>\n",
       "    <tr>\n",
       "      <th>106</th>\n",
       "      <td>Pratik</td>\n",
       "      <td>6</td>\n",
       "      <td>Male</td>\n",
       "      <td>80000</td>\n",
       "      <td>49</td>\n",
       "    </tr>\n",
       "    <tr>\n",
       "      <th>109</th>\n",
       "      <td>Anant</td>\n",
       "      <td>9</td>\n",
       "      <td>Male</td>\n",
       "      <td>100000</td>\n",
       "      <td>38</td>\n",
       "    </tr>\n",
       "    <tr>\n",
       "      <th>111</th>\n",
       "      <td>Prashant</td>\n",
       "      <td>11</td>\n",
       "      <td>Male</td>\n",
       "      <td>55000</td>\n",
       "      <td>38</td>\n",
       "    </tr>\n",
       "  </tbody>\n",
       "</table>\n",
       "</div>"
      ],
      "text/plain": [
       "                 Name  ID Gender  Salary  Age\n",
       "Employee_ID                                  \n",
       "101           Utkarsh   1   Male   95000   49\n",
       "102            Kartik   2   Male   85000   44\n",
       "104             Anand   4   Male   65000   29\n",
       "106            Pratik   6   Male   80000   49\n",
       "109             Anant   9   Male  100000   38\n",
       "111          Prashant  11   Male   55000   38"
      ]
     },
     "execution_count": 153,
     "metadata": {},
     "output_type": "execute_result"
    }
   ],
   "source": [
    "df1.query('Gender == \"Male\"')"
   ]
  },
  {
   "cell_type": "code",
   "execution_count": 154,
   "id": "76706515",
   "metadata": {},
   "outputs": [
    {
     "data": {
      "text/html": [
       "<div>\n",
       "<style scoped>\n",
       "    .dataframe tbody tr th:only-of-type {\n",
       "        vertical-align: middle;\n",
       "    }\n",
       "\n",
       "    .dataframe tbody tr th {\n",
       "        vertical-align: top;\n",
       "    }\n",
       "\n",
       "    .dataframe thead th {\n",
       "        text-align: right;\n",
       "    }\n",
       "</style>\n",
       "<table border=\"1\" class=\"dataframe\">\n",
       "  <thead>\n",
       "    <tr style=\"text-align: right;\">\n",
       "      <th></th>\n",
       "      <th>Name</th>\n",
       "      <th>ID</th>\n",
       "      <th>Gender</th>\n",
       "      <th>Salary</th>\n",
       "      <th>Age</th>\n",
       "    </tr>\n",
       "    <tr>\n",
       "      <th>Employee_ID</th>\n",
       "      <th></th>\n",
       "      <th></th>\n",
       "      <th></th>\n",
       "      <th></th>\n",
       "      <th></th>\n",
       "    </tr>\n",
       "  </thead>\n",
       "  <tbody>\n",
       "    <tr>\n",
       "      <th>101</th>\n",
       "      <td>Utkarsh</td>\n",
       "      <td>1</td>\n",
       "      <td>Male</td>\n",
       "      <td>95000</td>\n",
       "      <td>49</td>\n",
       "    </tr>\n",
       "    <tr>\n",
       "      <th>102</th>\n",
       "      <td>Kartik</td>\n",
       "      <td>2</td>\n",
       "      <td>Male</td>\n",
       "      <td>85000</td>\n",
       "      <td>44</td>\n",
       "    </tr>\n",
       "    <tr>\n",
       "      <th>103</th>\n",
       "      <td>Aishwarya</td>\n",
       "      <td>3</td>\n",
       "      <td>Female</td>\n",
       "      <td>75000</td>\n",
       "      <td>49</td>\n",
       "    </tr>\n",
       "    <tr>\n",
       "      <th>105</th>\n",
       "      <td>Shalini</td>\n",
       "      <td>5</td>\n",
       "      <td>Female</td>\n",
       "      <td>90000</td>\n",
       "      <td>47</td>\n",
       "    </tr>\n",
       "    <tr>\n",
       "      <th>106</th>\n",
       "      <td>Pratik</td>\n",
       "      <td>6</td>\n",
       "      <td>Male</td>\n",
       "      <td>80000</td>\n",
       "      <td>49</td>\n",
       "    </tr>\n",
       "  </tbody>\n",
       "</table>\n",
       "</div>"
      ],
      "text/plain": [
       "                  Name  ID  Gender  Salary  Age\n",
       "Employee_ID                                    \n",
       "101            Utkarsh   1    Male   95000   49\n",
       "102             Kartik   2    Male   85000   44\n",
       "103          Aishwarya   3  Female   75000   49\n",
       "105            Shalini   5  Female   90000   47\n",
       "106             Pratik   6    Male   80000   49"
      ]
     },
     "execution_count": 154,
     "metadata": {},
     "output_type": "execute_result"
    }
   ],
   "source": [
    "df1.query('Salary > 70000 and Age > 40')"
   ]
  },
  {
   "cell_type": "code",
   "execution_count": 156,
   "id": "2c235660",
   "metadata": {},
   "outputs": [
    {
     "data": {
      "text/html": [
       "<div>\n",
       "<style scoped>\n",
       "    .dataframe tbody tr th:only-of-type {\n",
       "        vertical-align: middle;\n",
       "    }\n",
       "\n",
       "    .dataframe tbody tr th {\n",
       "        vertical-align: top;\n",
       "    }\n",
       "\n",
       "    .dataframe thead th {\n",
       "        text-align: right;\n",
       "    }\n",
       "</style>\n",
       "<table border=\"1\" class=\"dataframe\">\n",
       "  <thead>\n",
       "    <tr style=\"text-align: right;\">\n",
       "      <th></th>\n",
       "      <th>Name</th>\n",
       "      <th>ID</th>\n",
       "      <th>Gender</th>\n",
       "      <th>Salary</th>\n",
       "      <th>Age</th>\n",
       "    </tr>\n",
       "    <tr>\n",
       "      <th>Employee_ID</th>\n",
       "      <th></th>\n",
       "      <th></th>\n",
       "      <th></th>\n",
       "      <th></th>\n",
       "      <th></th>\n",
       "    </tr>\n",
       "  </thead>\n",
       "  <tbody>\n",
       "    <tr>\n",
       "      <th>102</th>\n",
       "      <td>Kartik</td>\n",
       "      <td>2</td>\n",
       "      <td>Male</td>\n",
       "      <td>85000</td>\n",
       "      <td>44</td>\n",
       "    </tr>\n",
       "    <tr>\n",
       "      <th>103</th>\n",
       "      <td>Aishwarya</td>\n",
       "      <td>3</td>\n",
       "      <td>Female</td>\n",
       "      <td>75000</td>\n",
       "      <td>49</td>\n",
       "    </tr>\n",
       "    <tr>\n",
       "      <th>106</th>\n",
       "      <td>Pratik</td>\n",
       "      <td>6</td>\n",
       "      <td>Male</td>\n",
       "      <td>80000</td>\n",
       "      <td>49</td>\n",
       "    </tr>\n",
       "  </tbody>\n",
       "</table>\n",
       "</div>"
      ],
      "text/plain": [
       "                  Name  ID  Gender  Salary  Age\n",
       "Employee_ID                                    \n",
       "102             Kartik   2    Male   85000   44\n",
       "103          Aishwarya   3  Female   75000   49\n",
       "106             Pratik   6    Male   80000   49"
      ]
     },
     "execution_count": 156,
     "metadata": {},
     "output_type": "execute_result"
    }
   ],
   "source": [
    "df1.query('Salary > 70000 and Salary < 90000')"
   ]
  },
  {
   "cell_type": "markdown",
   "id": "471741ca",
   "metadata": {},
   "source": [
    "# Important Functions"
   ]
  },
  {
   "cell_type": "code",
   "execution_count": 157,
   "id": "f6053657",
   "metadata": {},
   "outputs": [
    {
     "data": {
      "text/html": [
       "<div>\n",
       "<style scoped>\n",
       "    .dataframe tbody tr th:only-of-type {\n",
       "        vertical-align: middle;\n",
       "    }\n",
       "\n",
       "    .dataframe tbody tr th {\n",
       "        vertical-align: top;\n",
       "    }\n",
       "\n",
       "    .dataframe thead th {\n",
       "        text-align: right;\n",
       "    }\n",
       "</style>\n",
       "<table border=\"1\" class=\"dataframe\">\n",
       "  <thead>\n",
       "    <tr style=\"text-align: right;\">\n",
       "      <th></th>\n",
       "      <th>Name</th>\n",
       "      <th>ID</th>\n",
       "      <th>Gender</th>\n",
       "      <th>Salary</th>\n",
       "      <th>Age</th>\n",
       "    </tr>\n",
       "    <tr>\n",
       "      <th>Employee_ID</th>\n",
       "      <th></th>\n",
       "      <th></th>\n",
       "      <th></th>\n",
       "      <th></th>\n",
       "      <th></th>\n",
       "    </tr>\n",
       "  </thead>\n",
       "  <tbody>\n",
       "    <tr>\n",
       "      <th>101</th>\n",
       "      <td>Utkarsh</td>\n",
       "      <td>1</td>\n",
       "      <td>Male</td>\n",
       "      <td>95000</td>\n",
       "      <td>49</td>\n",
       "    </tr>\n",
       "    <tr>\n",
       "      <th>102</th>\n",
       "      <td>Kartik</td>\n",
       "      <td>2</td>\n",
       "      <td>Male</td>\n",
       "      <td>85000</td>\n",
       "      <td>44</td>\n",
       "    </tr>\n",
       "    <tr>\n",
       "      <th>103</th>\n",
       "      <td>Aishwarya</td>\n",
       "      <td>3</td>\n",
       "      <td>Female</td>\n",
       "      <td>75000</td>\n",
       "      <td>49</td>\n",
       "    </tr>\n",
       "    <tr>\n",
       "      <th>104</th>\n",
       "      <td>Anand</td>\n",
       "      <td>4</td>\n",
       "      <td>Male</td>\n",
       "      <td>65000</td>\n",
       "      <td>29</td>\n",
       "    </tr>\n",
       "    <tr>\n",
       "      <th>105</th>\n",
       "      <td>Shalini</td>\n",
       "      <td>5</td>\n",
       "      <td>Female</td>\n",
       "      <td>90000</td>\n",
       "      <td>47</td>\n",
       "    </tr>\n",
       "    <tr>\n",
       "      <th>106</th>\n",
       "      <td>Pratik</td>\n",
       "      <td>6</td>\n",
       "      <td>Male</td>\n",
       "      <td>80000</td>\n",
       "      <td>49</td>\n",
       "    </tr>\n",
       "    <tr>\n",
       "      <th>107</th>\n",
       "      <td>Monalika</td>\n",
       "      <td>7</td>\n",
       "      <td>Female</td>\n",
       "      <td>70000</td>\n",
       "      <td>30</td>\n",
       "    </tr>\n",
       "    <tr>\n",
       "      <th>108</th>\n",
       "      <td>Ayesha</td>\n",
       "      <td>8</td>\n",
       "      <td>Female</td>\n",
       "      <td>60000</td>\n",
       "      <td>26</td>\n",
       "    </tr>\n",
       "    <tr>\n",
       "      <th>109</th>\n",
       "      <td>Anant</td>\n",
       "      <td>9</td>\n",
       "      <td>Male</td>\n",
       "      <td>100000</td>\n",
       "      <td>38</td>\n",
       "    </tr>\n",
       "    <tr>\n",
       "      <th>110</th>\n",
       "      <td>Shamiksha</td>\n",
       "      <td>10</td>\n",
       "      <td>Female</td>\n",
       "      <td>45000</td>\n",
       "      <td>25</td>\n",
       "    </tr>\n",
       "    <tr>\n",
       "      <th>111</th>\n",
       "      <td>Prashant</td>\n",
       "      <td>11</td>\n",
       "      <td>Male</td>\n",
       "      <td>55000</td>\n",
       "      <td>38</td>\n",
       "    </tr>\n",
       "    <tr>\n",
       "      <th>112</th>\n",
       "      <td>Mohini</td>\n",
       "      <td>12</td>\n",
       "      <td>Female</td>\n",
       "      <td>65000</td>\n",
       "      <td>25</td>\n",
       "    </tr>\n",
       "  </tbody>\n",
       "</table>\n",
       "</div>"
      ],
      "text/plain": [
       "                  Name  ID  Gender  Salary  Age\n",
       "Employee_ID                                    \n",
       "101            Utkarsh   1    Male   95000   49\n",
       "102             Kartik   2    Male   85000   44\n",
       "103          Aishwarya   3  Female   75000   49\n",
       "104              Anand   4    Male   65000   29\n",
       "105            Shalini   5  Female   90000   47\n",
       "106             Pratik   6    Male   80000   49\n",
       "107           Monalika   7  Female   70000   30\n",
       "108             Ayesha   8  Female   60000   26\n",
       "109              Anant   9    Male  100000   38\n",
       "110          Shamiksha  10  Female   45000   25\n",
       "111           Prashant  11    Male   55000   38\n",
       "112             Mohini  12  Female   65000   25"
      ]
     },
     "execution_count": 157,
     "metadata": {},
     "output_type": "execute_result"
    }
   ],
   "source": [
    "df1"
   ]
  },
  {
   "cell_type": "code",
   "execution_count": 161,
   "id": "87744141",
   "metadata": {},
   "outputs": [
    {
     "data": {
      "text/html": [
       "<div>\n",
       "<style scoped>\n",
       "    .dataframe tbody tr th:only-of-type {\n",
       "        vertical-align: middle;\n",
       "    }\n",
       "\n",
       "    .dataframe tbody tr th {\n",
       "        vertical-align: top;\n",
       "    }\n",
       "\n",
       "    .dataframe thead th {\n",
       "        text-align: right;\n",
       "    }\n",
       "</style>\n",
       "<table border=\"1\" class=\"dataframe\">\n",
       "  <thead>\n",
       "    <tr style=\"text-align: right;\">\n",
       "      <th></th>\n",
       "      <th>Name</th>\n",
       "      <th>ID</th>\n",
       "      <th>Gender</th>\n",
       "      <th>Salary</th>\n",
       "      <th>Age</th>\n",
       "    </tr>\n",
       "    <tr>\n",
       "      <th>Employee_ID</th>\n",
       "      <th></th>\n",
       "      <th></th>\n",
       "      <th></th>\n",
       "      <th></th>\n",
       "      <th></th>\n",
       "    </tr>\n",
       "  </thead>\n",
       "  <tbody>\n",
       "    <tr>\n",
       "      <th>101</th>\n",
       "      <td>Utkarsh</td>\n",
       "      <td>1</td>\n",
       "      <td>Male</td>\n",
       "      <td>95000.0</td>\n",
       "      <td>49</td>\n",
       "    </tr>\n",
       "    <tr>\n",
       "      <th>102</th>\n",
       "      <td>Kartik</td>\n",
       "      <td>2</td>\n",
       "      <td>Male</td>\n",
       "      <td>85000.0</td>\n",
       "      <td>44</td>\n",
       "    </tr>\n",
       "    <tr>\n",
       "      <th>103</th>\n",
       "      <td>Aishwarya</td>\n",
       "      <td>3</td>\n",
       "      <td>Female</td>\n",
       "      <td>75000.0</td>\n",
       "      <td>49</td>\n",
       "    </tr>\n",
       "    <tr>\n",
       "      <th>104</th>\n",
       "      <td>Anand</td>\n",
       "      <td>4</td>\n",
       "      <td>Male</td>\n",
       "      <td>65000.0</td>\n",
       "      <td>29</td>\n",
       "    </tr>\n",
       "    <tr>\n",
       "      <th>105</th>\n",
       "      <td>Shalini</td>\n",
       "      <td>5</td>\n",
       "      <td>Female</td>\n",
       "      <td>90000.0</td>\n",
       "      <td>47</td>\n",
       "    </tr>\n",
       "    <tr>\n",
       "      <th>106</th>\n",
       "      <td>Pratik</td>\n",
       "      <td>6</td>\n",
       "      <td>Male</td>\n",
       "      <td>80000.0</td>\n",
       "      <td>49</td>\n",
       "    </tr>\n",
       "    <tr>\n",
       "      <th>107</th>\n",
       "      <td>Monalika</td>\n",
       "      <td>7</td>\n",
       "      <td>Female</td>\n",
       "      <td>70000.0</td>\n",
       "      <td>30</td>\n",
       "    </tr>\n",
       "    <tr>\n",
       "      <th>108</th>\n",
       "      <td>Ayesha</td>\n",
       "      <td>8</td>\n",
       "      <td>Female</td>\n",
       "      <td>60000.0</td>\n",
       "      <td>26</td>\n",
       "    </tr>\n",
       "    <tr>\n",
       "      <th>109</th>\n",
       "      <td>Anant</td>\n",
       "      <td>9</td>\n",
       "      <td>Male</td>\n",
       "      <td>100000.0</td>\n",
       "      <td>38</td>\n",
       "    </tr>\n",
       "    <tr>\n",
       "      <th>110</th>\n",
       "      <td>Shamiksha</td>\n",
       "      <td>10</td>\n",
       "      <td>Female</td>\n",
       "      <td>45000.0</td>\n",
       "      <td>25</td>\n",
       "    </tr>\n",
       "    <tr>\n",
       "      <th>111</th>\n",
       "      <td>Prashant</td>\n",
       "      <td>11</td>\n",
       "      <td>Male</td>\n",
       "      <td>55000.0</td>\n",
       "      <td>38</td>\n",
       "    </tr>\n",
       "    <tr>\n",
       "      <th>112</th>\n",
       "      <td>Mohini</td>\n",
       "      <td>12</td>\n",
       "      <td>Female</td>\n",
       "      <td>65000.0</td>\n",
       "      <td>25</td>\n",
       "    </tr>\n",
       "    <tr>\n",
       "      <th>113</th>\n",
       "      <td>Anant</td>\n",
       "      <td>9</td>\n",
       "      <td>Male</td>\n",
       "      <td>100000.0</td>\n",
       "      <td>38</td>\n",
       "    </tr>\n",
       "    <tr>\n",
       "      <th>114</th>\n",
       "      <td>Shamiksha</td>\n",
       "      <td>10</td>\n",
       "      <td>Female</td>\n",
       "      <td>45000.0</td>\n",
       "      <td>25</td>\n",
       "    </tr>\n",
       "    <tr>\n",
       "      <th>115</th>\n",
       "      <td>Kavita</td>\n",
       "      <td>15</td>\n",
       "      <td>NaN</td>\n",
       "      <td>NaN</td>\n",
       "      <td>30</td>\n",
       "    </tr>\n",
       "    <tr>\n",
       "      <th>116</th>\n",
       "      <td>Pratik</td>\n",
       "      <td>16</td>\n",
       "      <td>NaN</td>\n",
       "      <td>NaN</td>\n",
       "      <td>32</td>\n",
       "    </tr>\n",
       "  </tbody>\n",
       "</table>\n",
       "</div>"
      ],
      "text/plain": [
       "                  Name  ID  Gender    Salary  Age\n",
       "Employee_ID                                      \n",
       "101            Utkarsh   1    Male   95000.0   49\n",
       "102             Kartik   2    Male   85000.0   44\n",
       "103          Aishwarya   3  Female   75000.0   49\n",
       "104              Anand   4    Male   65000.0   29\n",
       "105            Shalini   5  Female   90000.0   47\n",
       "106             Pratik   6    Male   80000.0   49\n",
       "107           Monalika   7  Female   70000.0   30\n",
       "108             Ayesha   8  Female   60000.0   26\n",
       "109              Anant   9    Male  100000.0   38\n",
       "110          Shamiksha  10  Female   45000.0   25\n",
       "111           Prashant  11    Male   55000.0   38\n",
       "112             Mohini  12  Female   65000.0   25\n",
       "113              Anant   9    Male  100000.0   38\n",
       "114          Shamiksha  10  Female   45000.0   25\n",
       "115             Kavita  15     NaN       NaN   30\n",
       "116             Pratik  16     NaN       NaN   32"
      ]
     },
     "execution_count": 161,
     "metadata": {},
     "output_type": "execute_result"
    }
   ],
   "source": [
    "df1.loc[113] = df1.loc[109]\n",
    "df1.loc[114] = df1.loc[110]\n",
    "df1.loc[115] = ['Kavita', 15, np.nan, np.nan, 30]\n",
    "df1.loc[116] = ['Pratik', 16, np.nan, np.nan, 32]\n",
    "df1"
   ]
  },
  {
   "cell_type": "code",
   "execution_count": 162,
   "id": "8d2ae8d3",
   "metadata": {},
   "outputs": [
    {
     "data": {
      "text/html": [
       "<div>\n",
       "<style scoped>\n",
       "    .dataframe tbody tr th:only-of-type {\n",
       "        vertical-align: middle;\n",
       "    }\n",
       "\n",
       "    .dataframe tbody tr th {\n",
       "        vertical-align: top;\n",
       "    }\n",
       "\n",
       "    .dataframe thead th {\n",
       "        text-align: right;\n",
       "    }\n",
       "</style>\n",
       "<table border=\"1\" class=\"dataframe\">\n",
       "  <thead>\n",
       "    <tr style=\"text-align: right;\">\n",
       "      <th></th>\n",
       "      <th>Name</th>\n",
       "      <th>ID</th>\n",
       "      <th>Gender</th>\n",
       "      <th>Salary</th>\n",
       "      <th>Age</th>\n",
       "    </tr>\n",
       "    <tr>\n",
       "      <th>Employee_ID</th>\n",
       "      <th></th>\n",
       "      <th></th>\n",
       "      <th></th>\n",
       "      <th></th>\n",
       "      <th></th>\n",
       "    </tr>\n",
       "  </thead>\n",
       "  <tbody>\n",
       "    <tr>\n",
       "      <th>101</th>\n",
       "      <td>Utkarsh</td>\n",
       "      <td>1</td>\n",
       "      <td>Male</td>\n",
       "      <td>95000.0</td>\n",
       "      <td>49</td>\n",
       "    </tr>\n",
       "    <tr>\n",
       "      <th>102</th>\n",
       "      <td>Kartik</td>\n",
       "      <td>2</td>\n",
       "      <td>Male</td>\n",
       "      <td>85000.0</td>\n",
       "      <td>44</td>\n",
       "    </tr>\n",
       "    <tr>\n",
       "      <th>103</th>\n",
       "      <td>Aishwarya</td>\n",
       "      <td>3</td>\n",
       "      <td>Female</td>\n",
       "      <td>75000.0</td>\n",
       "      <td>49</td>\n",
       "    </tr>\n",
       "    <tr>\n",
       "      <th>104</th>\n",
       "      <td>Anand</td>\n",
       "      <td>4</td>\n",
       "      <td>Male</td>\n",
       "      <td>65000.0</td>\n",
       "      <td>29</td>\n",
       "    </tr>\n",
       "    <tr>\n",
       "      <th>105</th>\n",
       "      <td>Shalini</td>\n",
       "      <td>5</td>\n",
       "      <td>Female</td>\n",
       "      <td>90000.0</td>\n",
       "      <td>47</td>\n",
       "    </tr>\n",
       "  </tbody>\n",
       "</table>\n",
       "</div>"
      ],
      "text/plain": [
       "                  Name  ID  Gender   Salary  Age\n",
       "Employee_ID                                     \n",
       "101            Utkarsh   1    Male  95000.0   49\n",
       "102             Kartik   2    Male  85000.0   44\n",
       "103          Aishwarya   3  Female  75000.0   49\n",
       "104              Anand   4    Male  65000.0   29\n",
       "105            Shalini   5  Female  90000.0   47"
      ]
     },
     "execution_count": 162,
     "metadata": {},
     "output_type": "execute_result"
    }
   ],
   "source": [
    "df1.head()"
   ]
  },
  {
   "cell_type": "code",
   "execution_count": 163,
   "id": "94302efe",
   "metadata": {},
   "outputs": [
    {
     "data": {
      "text/html": [
       "<div>\n",
       "<style scoped>\n",
       "    .dataframe tbody tr th:only-of-type {\n",
       "        vertical-align: middle;\n",
       "    }\n",
       "\n",
       "    .dataframe tbody tr th {\n",
       "        vertical-align: top;\n",
       "    }\n",
       "\n",
       "    .dataframe thead th {\n",
       "        text-align: right;\n",
       "    }\n",
       "</style>\n",
       "<table border=\"1\" class=\"dataframe\">\n",
       "  <thead>\n",
       "    <tr style=\"text-align: right;\">\n",
       "      <th></th>\n",
       "      <th>Name</th>\n",
       "      <th>ID</th>\n",
       "      <th>Gender</th>\n",
       "      <th>Salary</th>\n",
       "      <th>Age</th>\n",
       "    </tr>\n",
       "    <tr>\n",
       "      <th>Employee_ID</th>\n",
       "      <th></th>\n",
       "      <th></th>\n",
       "      <th></th>\n",
       "      <th></th>\n",
       "      <th></th>\n",
       "    </tr>\n",
       "  </thead>\n",
       "  <tbody>\n",
       "    <tr>\n",
       "      <th>101</th>\n",
       "      <td>Utkarsh</td>\n",
       "      <td>1</td>\n",
       "      <td>Male</td>\n",
       "      <td>95000.0</td>\n",
       "      <td>49</td>\n",
       "    </tr>\n",
       "    <tr>\n",
       "      <th>102</th>\n",
       "      <td>Kartik</td>\n",
       "      <td>2</td>\n",
       "      <td>Male</td>\n",
       "      <td>85000.0</td>\n",
       "      <td>44</td>\n",
       "    </tr>\n",
       "    <tr>\n",
       "      <th>103</th>\n",
       "      <td>Aishwarya</td>\n",
       "      <td>3</td>\n",
       "      <td>Female</td>\n",
       "      <td>75000.0</td>\n",
       "      <td>49</td>\n",
       "    </tr>\n",
       "    <tr>\n",
       "      <th>104</th>\n",
       "      <td>Anand</td>\n",
       "      <td>4</td>\n",
       "      <td>Male</td>\n",
       "      <td>65000.0</td>\n",
       "      <td>29</td>\n",
       "    </tr>\n",
       "    <tr>\n",
       "      <th>105</th>\n",
       "      <td>Shalini</td>\n",
       "      <td>5</td>\n",
       "      <td>Female</td>\n",
       "      <td>90000.0</td>\n",
       "      <td>47</td>\n",
       "    </tr>\n",
       "    <tr>\n",
       "      <th>106</th>\n",
       "      <td>Pratik</td>\n",
       "      <td>6</td>\n",
       "      <td>Male</td>\n",
       "      <td>80000.0</td>\n",
       "      <td>49</td>\n",
       "    </tr>\n",
       "    <tr>\n",
       "      <th>107</th>\n",
       "      <td>Monalika</td>\n",
       "      <td>7</td>\n",
       "      <td>Female</td>\n",
       "      <td>70000.0</td>\n",
       "      <td>30</td>\n",
       "    </tr>\n",
       "    <tr>\n",
       "      <th>108</th>\n",
       "      <td>Ayesha</td>\n",
       "      <td>8</td>\n",
       "      <td>Female</td>\n",
       "      <td>60000.0</td>\n",
       "      <td>26</td>\n",
       "    </tr>\n",
       "    <tr>\n",
       "      <th>109</th>\n",
       "      <td>Anant</td>\n",
       "      <td>9</td>\n",
       "      <td>Male</td>\n",
       "      <td>100000.0</td>\n",
       "      <td>38</td>\n",
       "    </tr>\n",
       "    <tr>\n",
       "      <th>110</th>\n",
       "      <td>Shamiksha</td>\n",
       "      <td>10</td>\n",
       "      <td>Female</td>\n",
       "      <td>45000.0</td>\n",
       "      <td>25</td>\n",
       "    </tr>\n",
       "  </tbody>\n",
       "</table>\n",
       "</div>"
      ],
      "text/plain": [
       "                  Name  ID  Gender    Salary  Age\n",
       "Employee_ID                                      \n",
       "101            Utkarsh   1    Male   95000.0   49\n",
       "102             Kartik   2    Male   85000.0   44\n",
       "103          Aishwarya   3  Female   75000.0   49\n",
       "104              Anand   4    Male   65000.0   29\n",
       "105            Shalini   5  Female   90000.0   47\n",
       "106             Pratik   6    Male   80000.0   49\n",
       "107           Monalika   7  Female   70000.0   30\n",
       "108             Ayesha   8  Female   60000.0   26\n",
       "109              Anant   9    Male  100000.0   38\n",
       "110          Shamiksha  10  Female   45000.0   25"
      ]
     },
     "execution_count": 163,
     "metadata": {},
     "output_type": "execute_result"
    }
   ],
   "source": [
    "df1.head(10)"
   ]
  },
  {
   "cell_type": "code",
   "execution_count": 165,
   "id": "ce96cdc1",
   "metadata": {},
   "outputs": [
    {
     "data": {
      "text/html": [
       "<div>\n",
       "<style scoped>\n",
       "    .dataframe tbody tr th:only-of-type {\n",
       "        vertical-align: middle;\n",
       "    }\n",
       "\n",
       "    .dataframe tbody tr th {\n",
       "        vertical-align: top;\n",
       "    }\n",
       "\n",
       "    .dataframe thead th {\n",
       "        text-align: right;\n",
       "    }\n",
       "</style>\n",
       "<table border=\"1\" class=\"dataframe\">\n",
       "  <thead>\n",
       "    <tr style=\"text-align: right;\">\n",
       "      <th></th>\n",
       "      <th>Name</th>\n",
       "      <th>ID</th>\n",
       "      <th>Gender</th>\n",
       "      <th>Salary</th>\n",
       "      <th>Age</th>\n",
       "    </tr>\n",
       "    <tr>\n",
       "      <th>Employee_ID</th>\n",
       "      <th></th>\n",
       "      <th></th>\n",
       "      <th></th>\n",
       "      <th></th>\n",
       "      <th></th>\n",
       "    </tr>\n",
       "  </thead>\n",
       "  <tbody>\n",
       "    <tr>\n",
       "      <th>112</th>\n",
       "      <td>Mohini</td>\n",
       "      <td>12</td>\n",
       "      <td>Female</td>\n",
       "      <td>65000.0</td>\n",
       "      <td>25</td>\n",
       "    </tr>\n",
       "    <tr>\n",
       "      <th>113</th>\n",
       "      <td>Anant</td>\n",
       "      <td>9</td>\n",
       "      <td>Male</td>\n",
       "      <td>100000.0</td>\n",
       "      <td>38</td>\n",
       "    </tr>\n",
       "    <tr>\n",
       "      <th>114</th>\n",
       "      <td>Shamiksha</td>\n",
       "      <td>10</td>\n",
       "      <td>Female</td>\n",
       "      <td>45000.0</td>\n",
       "      <td>25</td>\n",
       "    </tr>\n",
       "    <tr>\n",
       "      <th>115</th>\n",
       "      <td>Kavita</td>\n",
       "      <td>15</td>\n",
       "      <td>NaN</td>\n",
       "      <td>NaN</td>\n",
       "      <td>30</td>\n",
       "    </tr>\n",
       "    <tr>\n",
       "      <th>116</th>\n",
       "      <td>Pratik</td>\n",
       "      <td>16</td>\n",
       "      <td>NaN</td>\n",
       "      <td>NaN</td>\n",
       "      <td>32</td>\n",
       "    </tr>\n",
       "  </tbody>\n",
       "</table>\n",
       "</div>"
      ],
      "text/plain": [
       "                  Name  ID  Gender    Salary  Age\n",
       "Employee_ID                                      \n",
       "112             Mohini  12  Female   65000.0   25\n",
       "113              Anant   9    Male  100000.0   38\n",
       "114          Shamiksha  10  Female   45000.0   25\n",
       "115             Kavita  15     NaN       NaN   30\n",
       "116             Pratik  16     NaN       NaN   32"
      ]
     },
     "execution_count": 165,
     "metadata": {},
     "output_type": "execute_result"
    }
   ],
   "source": [
    "df1.tail()"
   ]
  },
  {
   "cell_type": "code",
   "execution_count": 166,
   "id": "50f34f4e",
   "metadata": {},
   "outputs": [
    {
     "data": {
      "text/html": [
       "<div>\n",
       "<style scoped>\n",
       "    .dataframe tbody tr th:only-of-type {\n",
       "        vertical-align: middle;\n",
       "    }\n",
       "\n",
       "    .dataframe tbody tr th {\n",
       "        vertical-align: top;\n",
       "    }\n",
       "\n",
       "    .dataframe thead th {\n",
       "        text-align: right;\n",
       "    }\n",
       "</style>\n",
       "<table border=\"1\" class=\"dataframe\">\n",
       "  <thead>\n",
       "    <tr style=\"text-align: right;\">\n",
       "      <th></th>\n",
       "      <th>Name</th>\n",
       "      <th>ID</th>\n",
       "      <th>Gender</th>\n",
       "      <th>Salary</th>\n",
       "      <th>Age</th>\n",
       "    </tr>\n",
       "    <tr>\n",
       "      <th>Employee_ID</th>\n",
       "      <th></th>\n",
       "      <th></th>\n",
       "      <th></th>\n",
       "      <th></th>\n",
       "      <th></th>\n",
       "    </tr>\n",
       "  </thead>\n",
       "  <tbody>\n",
       "    <tr>\n",
       "      <th>111</th>\n",
       "      <td>Prashant</td>\n",
       "      <td>11</td>\n",
       "      <td>Male</td>\n",
       "      <td>55000.0</td>\n",
       "      <td>38</td>\n",
       "    </tr>\n",
       "    <tr>\n",
       "      <th>112</th>\n",
       "      <td>Mohini</td>\n",
       "      <td>12</td>\n",
       "      <td>Female</td>\n",
       "      <td>65000.0</td>\n",
       "      <td>25</td>\n",
       "    </tr>\n",
       "    <tr>\n",
       "      <th>113</th>\n",
       "      <td>Anant</td>\n",
       "      <td>9</td>\n",
       "      <td>Male</td>\n",
       "      <td>100000.0</td>\n",
       "      <td>38</td>\n",
       "    </tr>\n",
       "    <tr>\n",
       "      <th>114</th>\n",
       "      <td>Shamiksha</td>\n",
       "      <td>10</td>\n",
       "      <td>Female</td>\n",
       "      <td>45000.0</td>\n",
       "      <td>25</td>\n",
       "    </tr>\n",
       "    <tr>\n",
       "      <th>115</th>\n",
       "      <td>Kavita</td>\n",
       "      <td>15</td>\n",
       "      <td>NaN</td>\n",
       "      <td>NaN</td>\n",
       "      <td>30</td>\n",
       "    </tr>\n",
       "    <tr>\n",
       "      <th>116</th>\n",
       "      <td>Pratik</td>\n",
       "      <td>16</td>\n",
       "      <td>NaN</td>\n",
       "      <td>NaN</td>\n",
       "      <td>32</td>\n",
       "    </tr>\n",
       "  </tbody>\n",
       "</table>\n",
       "</div>"
      ],
      "text/plain": [
       "                  Name  ID  Gender    Salary  Age\n",
       "Employee_ID                                      \n",
       "111           Prashant  11    Male   55000.0   38\n",
       "112             Mohini  12  Female   65000.0   25\n",
       "113              Anant   9    Male  100000.0   38\n",
       "114          Shamiksha  10  Female   45000.0   25\n",
       "115             Kavita  15     NaN       NaN   30\n",
       "116             Pratik  16     NaN       NaN   32"
      ]
     },
     "execution_count": 166,
     "metadata": {},
     "output_type": "execute_result"
    }
   ],
   "source": [
    "df1.tail(6)"
   ]
  },
  {
   "cell_type": "code",
   "execution_count": 167,
   "id": "103f678c",
   "metadata": {},
   "outputs": [
    {
     "data": {
      "text/plain": [
       "Name      0\n",
       "ID        0\n",
       "Gender    2\n",
       "Salary    2\n",
       "Age       0\n",
       "dtype: int64"
      ]
     },
     "execution_count": 167,
     "metadata": {},
     "output_type": "execute_result"
    }
   ],
   "source": [
    "# Check for null values\n",
    "df1.isnull().sum()"
   ]
  },
  {
   "cell_type": "code",
   "execution_count": 168,
   "id": "0a28cafe",
   "metadata": {},
   "outputs": [
    {
     "data": {
      "text/plain": [
       "2"
      ]
     },
     "execution_count": 168,
     "metadata": {},
     "output_type": "execute_result"
    }
   ],
   "source": [
    "# Check for duplicate values\n",
    "df1.duplicated().sum()"
   ]
  },
  {
   "cell_type": "code",
   "execution_count": 169,
   "id": "a888ba5f",
   "metadata": {},
   "outputs": [
    {
     "data": {
      "text/html": [
       "<div>\n",
       "<style scoped>\n",
       "    .dataframe tbody tr th:only-of-type {\n",
       "        vertical-align: middle;\n",
       "    }\n",
       "\n",
       "    .dataframe tbody tr th {\n",
       "        vertical-align: top;\n",
       "    }\n",
       "\n",
       "    .dataframe thead th {\n",
       "        text-align: right;\n",
       "    }\n",
       "</style>\n",
       "<table border=\"1\" class=\"dataframe\">\n",
       "  <thead>\n",
       "    <tr style=\"text-align: right;\">\n",
       "      <th></th>\n",
       "      <th>Name</th>\n",
       "      <th>ID</th>\n",
       "      <th>Gender</th>\n",
       "      <th>Salary</th>\n",
       "      <th>Age</th>\n",
       "    </tr>\n",
       "    <tr>\n",
       "      <th>Employee_ID</th>\n",
       "      <th></th>\n",
       "      <th></th>\n",
       "      <th></th>\n",
       "      <th></th>\n",
       "      <th></th>\n",
       "    </tr>\n",
       "  </thead>\n",
       "  <tbody>\n",
       "    <tr>\n",
       "      <th>101</th>\n",
       "      <td>Utkarsh</td>\n",
       "      <td>1</td>\n",
       "      <td>Male</td>\n",
       "      <td>95000.0</td>\n",
       "      <td>49</td>\n",
       "    </tr>\n",
       "    <tr>\n",
       "      <th>102</th>\n",
       "      <td>Kartik</td>\n",
       "      <td>2</td>\n",
       "      <td>Male</td>\n",
       "      <td>85000.0</td>\n",
       "      <td>44</td>\n",
       "    </tr>\n",
       "    <tr>\n",
       "      <th>103</th>\n",
       "      <td>Aishwarya</td>\n",
       "      <td>3</td>\n",
       "      <td>Female</td>\n",
       "      <td>75000.0</td>\n",
       "      <td>49</td>\n",
       "    </tr>\n",
       "    <tr>\n",
       "      <th>104</th>\n",
       "      <td>Anand</td>\n",
       "      <td>4</td>\n",
       "      <td>Male</td>\n",
       "      <td>65000.0</td>\n",
       "      <td>29</td>\n",
       "    </tr>\n",
       "    <tr>\n",
       "      <th>105</th>\n",
       "      <td>Shalini</td>\n",
       "      <td>5</td>\n",
       "      <td>Female</td>\n",
       "      <td>90000.0</td>\n",
       "      <td>47</td>\n",
       "    </tr>\n",
       "    <tr>\n",
       "      <th>106</th>\n",
       "      <td>Pratik</td>\n",
       "      <td>6</td>\n",
       "      <td>Male</td>\n",
       "      <td>80000.0</td>\n",
       "      <td>49</td>\n",
       "    </tr>\n",
       "    <tr>\n",
       "      <th>107</th>\n",
       "      <td>Monalika</td>\n",
       "      <td>7</td>\n",
       "      <td>Female</td>\n",
       "      <td>70000.0</td>\n",
       "      <td>30</td>\n",
       "    </tr>\n",
       "    <tr>\n",
       "      <th>108</th>\n",
       "      <td>Ayesha</td>\n",
       "      <td>8</td>\n",
       "      <td>Female</td>\n",
       "      <td>60000.0</td>\n",
       "      <td>26</td>\n",
       "    </tr>\n",
       "    <tr>\n",
       "      <th>109</th>\n",
       "      <td>Anant</td>\n",
       "      <td>9</td>\n",
       "      <td>Male</td>\n",
       "      <td>100000.0</td>\n",
       "      <td>38</td>\n",
       "    </tr>\n",
       "    <tr>\n",
       "      <th>110</th>\n",
       "      <td>Shamiksha</td>\n",
       "      <td>10</td>\n",
       "      <td>Female</td>\n",
       "      <td>45000.0</td>\n",
       "      <td>25</td>\n",
       "    </tr>\n",
       "    <tr>\n",
       "      <th>111</th>\n",
       "      <td>Prashant</td>\n",
       "      <td>11</td>\n",
       "      <td>Male</td>\n",
       "      <td>55000.0</td>\n",
       "      <td>38</td>\n",
       "    </tr>\n",
       "    <tr>\n",
       "      <th>112</th>\n",
       "      <td>Mohini</td>\n",
       "      <td>12</td>\n",
       "      <td>Female</td>\n",
       "      <td>65000.0</td>\n",
       "      <td>25</td>\n",
       "    </tr>\n",
       "    <tr>\n",
       "      <th>115</th>\n",
       "      <td>Kavita</td>\n",
       "      <td>15</td>\n",
       "      <td>NaN</td>\n",
       "      <td>NaN</td>\n",
       "      <td>30</td>\n",
       "    </tr>\n",
       "    <tr>\n",
       "      <th>116</th>\n",
       "      <td>Pratik</td>\n",
       "      <td>16</td>\n",
       "      <td>NaN</td>\n",
       "      <td>NaN</td>\n",
       "      <td>32</td>\n",
       "    </tr>\n",
       "  </tbody>\n",
       "</table>\n",
       "</div>"
      ],
      "text/plain": [
       "                  Name  ID  Gender    Salary  Age\n",
       "Employee_ID                                      \n",
       "101            Utkarsh   1    Male   95000.0   49\n",
       "102             Kartik   2    Male   85000.0   44\n",
       "103          Aishwarya   3  Female   75000.0   49\n",
       "104              Anand   4    Male   65000.0   29\n",
       "105            Shalini   5  Female   90000.0   47\n",
       "106             Pratik   6    Male   80000.0   49\n",
       "107           Monalika   7  Female   70000.0   30\n",
       "108             Ayesha   8  Female   60000.0   26\n",
       "109              Anant   9    Male  100000.0   38\n",
       "110          Shamiksha  10  Female   45000.0   25\n",
       "111           Prashant  11    Male   55000.0   38\n",
       "112             Mohini  12  Female   65000.0   25\n",
       "115             Kavita  15     NaN       NaN   30\n",
       "116             Pratik  16     NaN       NaN   32"
      ]
     },
     "execution_count": 169,
     "metadata": {},
     "output_type": "execute_result"
    }
   ],
   "source": [
    "# To drop duplicate records\n",
    "df1.drop_duplicates(inplace = True)\n",
    "df1"
   ]
  },
  {
   "cell_type": "code",
   "execution_count": 170,
   "id": "db3217de",
   "metadata": {},
   "outputs": [
    {
     "data": {
      "text/plain": [
       "Name      13\n",
       "ID        14\n",
       "Gender     2\n",
       "Salary    11\n",
       "Age        9\n",
       "dtype: int64"
      ]
     },
     "execution_count": 170,
     "metadata": {},
     "output_type": "execute_result"
    }
   ],
   "source": [
    "df1.nunique()"
   ]
  },
  {
   "cell_type": "code",
   "execution_count": 171,
   "id": "c0e34c46",
   "metadata": {},
   "outputs": [
    {
     "data": {
      "text/plain": [
       "array(['Utkarsh', 'Kartik', 'Aishwarya', 'Anand', 'Shalini', 'Pratik',\n",
       "       'Monalika', 'Ayesha', 'Anant', 'Shamiksha', 'Prashant', 'Mohini',\n",
       "       'Kavita'], dtype=object)"
      ]
     },
     "execution_count": 171,
     "metadata": {},
     "output_type": "execute_result"
    }
   ],
   "source": [
    "df1['Name'].unique()"
   ]
  },
  {
   "cell_type": "code",
   "execution_count": 172,
   "id": "95912278",
   "metadata": {},
   "outputs": [
    {
     "data": {
      "text/plain": [
       "array(['Male', 'Female', nan], dtype=object)"
      ]
     },
     "execution_count": 172,
     "metadata": {},
     "output_type": "execute_result"
    }
   ],
   "source": [
    "df1['Gender'].unique()"
   ]
  },
  {
   "cell_type": "code",
   "execution_count": 173,
   "id": "2a63210f",
   "metadata": {},
   "outputs": [
    {
     "data": {
      "text/html": [
       "<div>\n",
       "<style scoped>\n",
       "    .dataframe tbody tr th:only-of-type {\n",
       "        vertical-align: middle;\n",
       "    }\n",
       "\n",
       "    .dataframe tbody tr th {\n",
       "        vertical-align: top;\n",
       "    }\n",
       "\n",
       "    .dataframe thead th {\n",
       "        text-align: right;\n",
       "    }\n",
       "</style>\n",
       "<table border=\"1\" class=\"dataframe\">\n",
       "  <thead>\n",
       "    <tr style=\"text-align: right;\">\n",
       "      <th></th>\n",
       "      <th>Name</th>\n",
       "      <th>ID</th>\n",
       "      <th>Gender</th>\n",
       "      <th>Salary</th>\n",
       "      <th>Age</th>\n",
       "    </tr>\n",
       "    <tr>\n",
       "      <th>Employee_ID</th>\n",
       "      <th></th>\n",
       "      <th></th>\n",
       "      <th></th>\n",
       "      <th></th>\n",
       "      <th></th>\n",
       "    </tr>\n",
       "  </thead>\n",
       "  <tbody>\n",
       "    <tr>\n",
       "      <th>101</th>\n",
       "      <td>Utkarsh</td>\n",
       "      <td>1</td>\n",
       "      <td>Male</td>\n",
       "      <td>95000.0</td>\n",
       "      <td>49</td>\n",
       "    </tr>\n",
       "    <tr>\n",
       "      <th>102</th>\n",
       "      <td>Kartik</td>\n",
       "      <td>2</td>\n",
       "      <td>Male</td>\n",
       "      <td>85000.0</td>\n",
       "      <td>44</td>\n",
       "    </tr>\n",
       "    <tr>\n",
       "      <th>103</th>\n",
       "      <td>Aishwarya</td>\n",
       "      <td>3</td>\n",
       "      <td>Female</td>\n",
       "      <td>75000.0</td>\n",
       "      <td>49</td>\n",
       "    </tr>\n",
       "    <tr>\n",
       "      <th>104</th>\n",
       "      <td>Anand</td>\n",
       "      <td>4</td>\n",
       "      <td>Male</td>\n",
       "      <td>65000.0</td>\n",
       "      <td>29</td>\n",
       "    </tr>\n",
       "    <tr>\n",
       "      <th>105</th>\n",
       "      <td>Shalini</td>\n",
       "      <td>5</td>\n",
       "      <td>Female</td>\n",
       "      <td>90000.0</td>\n",
       "      <td>47</td>\n",
       "    </tr>\n",
       "    <tr>\n",
       "      <th>106</th>\n",
       "      <td>Pratik</td>\n",
       "      <td>6</td>\n",
       "      <td>Male</td>\n",
       "      <td>80000.0</td>\n",
       "      <td>49</td>\n",
       "    </tr>\n",
       "    <tr>\n",
       "      <th>107</th>\n",
       "      <td>Monalika</td>\n",
       "      <td>7</td>\n",
       "      <td>Female</td>\n",
       "      <td>70000.0</td>\n",
       "      <td>30</td>\n",
       "    </tr>\n",
       "    <tr>\n",
       "      <th>108</th>\n",
       "      <td>Ayesha</td>\n",
       "      <td>8</td>\n",
       "      <td>Female</td>\n",
       "      <td>60000.0</td>\n",
       "      <td>26</td>\n",
       "    </tr>\n",
       "    <tr>\n",
       "      <th>109</th>\n",
       "      <td>Anant</td>\n",
       "      <td>9</td>\n",
       "      <td>Male</td>\n",
       "      <td>100000.0</td>\n",
       "      <td>38</td>\n",
       "    </tr>\n",
       "    <tr>\n",
       "      <th>110</th>\n",
       "      <td>Shamiksha</td>\n",
       "      <td>10</td>\n",
       "      <td>Female</td>\n",
       "      <td>45000.0</td>\n",
       "      <td>25</td>\n",
       "    </tr>\n",
       "    <tr>\n",
       "      <th>111</th>\n",
       "      <td>Prashant</td>\n",
       "      <td>11</td>\n",
       "      <td>Male</td>\n",
       "      <td>55000.0</td>\n",
       "      <td>38</td>\n",
       "    </tr>\n",
       "    <tr>\n",
       "      <th>112</th>\n",
       "      <td>Mohini</td>\n",
       "      <td>12</td>\n",
       "      <td>Female</td>\n",
       "      <td>65000.0</td>\n",
       "      <td>25</td>\n",
       "    </tr>\n",
       "    <tr>\n",
       "      <th>115</th>\n",
       "      <td>Kavita</td>\n",
       "      <td>15</td>\n",
       "      <td>NaN</td>\n",
       "      <td>NaN</td>\n",
       "      <td>30</td>\n",
       "    </tr>\n",
       "    <tr>\n",
       "      <th>116</th>\n",
       "      <td>Pratik</td>\n",
       "      <td>16</td>\n",
       "      <td>NaN</td>\n",
       "      <td>NaN</td>\n",
       "      <td>32</td>\n",
       "    </tr>\n",
       "  </tbody>\n",
       "</table>\n",
       "</div>"
      ],
      "text/plain": [
       "                  Name  ID  Gender    Salary  Age\n",
       "Employee_ID                                      \n",
       "101            Utkarsh   1    Male   95000.0   49\n",
       "102             Kartik   2    Male   85000.0   44\n",
       "103          Aishwarya   3  Female   75000.0   49\n",
       "104              Anand   4    Male   65000.0   29\n",
       "105            Shalini   5  Female   90000.0   47\n",
       "106             Pratik   6    Male   80000.0   49\n",
       "107           Monalika   7  Female   70000.0   30\n",
       "108             Ayesha   8  Female   60000.0   26\n",
       "109              Anant   9    Male  100000.0   38\n",
       "110          Shamiksha  10  Female   45000.0   25\n",
       "111           Prashant  11    Male   55000.0   38\n",
       "112             Mohini  12  Female   65000.0   25\n",
       "115             Kavita  15     NaN       NaN   30\n",
       "116             Pratik  16     NaN       NaN   32"
      ]
     },
     "execution_count": 173,
     "metadata": {},
     "output_type": "execute_result"
    }
   ],
   "source": [
    "df1.sort_index()"
   ]
  },
  {
   "cell_type": "code",
   "execution_count": 175,
   "id": "1b8bbb68",
   "metadata": {},
   "outputs": [
    {
     "data": {
      "text/html": [
       "<div>\n",
       "<style scoped>\n",
       "    .dataframe tbody tr th:only-of-type {\n",
       "        vertical-align: middle;\n",
       "    }\n",
       "\n",
       "    .dataframe tbody tr th {\n",
       "        vertical-align: top;\n",
       "    }\n",
       "\n",
       "    .dataframe thead th {\n",
       "        text-align: right;\n",
       "    }\n",
       "</style>\n",
       "<table border=\"1\" class=\"dataframe\">\n",
       "  <thead>\n",
       "    <tr style=\"text-align: right;\">\n",
       "      <th></th>\n",
       "      <th>Name</th>\n",
       "      <th>ID</th>\n",
       "      <th>Gender</th>\n",
       "      <th>Salary</th>\n",
       "      <th>Age</th>\n",
       "    </tr>\n",
       "    <tr>\n",
       "      <th>Employee_ID</th>\n",
       "      <th></th>\n",
       "      <th></th>\n",
       "      <th></th>\n",
       "      <th></th>\n",
       "      <th></th>\n",
       "    </tr>\n",
       "  </thead>\n",
       "  <tbody>\n",
       "    <tr>\n",
       "      <th>116</th>\n",
       "      <td>Pratik</td>\n",
       "      <td>16</td>\n",
       "      <td>NaN</td>\n",
       "      <td>NaN</td>\n",
       "      <td>32</td>\n",
       "    </tr>\n",
       "    <tr>\n",
       "      <th>115</th>\n",
       "      <td>Kavita</td>\n",
       "      <td>15</td>\n",
       "      <td>NaN</td>\n",
       "      <td>NaN</td>\n",
       "      <td>30</td>\n",
       "    </tr>\n",
       "    <tr>\n",
       "      <th>112</th>\n",
       "      <td>Mohini</td>\n",
       "      <td>12</td>\n",
       "      <td>Female</td>\n",
       "      <td>65000.0</td>\n",
       "      <td>25</td>\n",
       "    </tr>\n",
       "    <tr>\n",
       "      <th>111</th>\n",
       "      <td>Prashant</td>\n",
       "      <td>11</td>\n",
       "      <td>Male</td>\n",
       "      <td>55000.0</td>\n",
       "      <td>38</td>\n",
       "    </tr>\n",
       "    <tr>\n",
       "      <th>110</th>\n",
       "      <td>Shamiksha</td>\n",
       "      <td>10</td>\n",
       "      <td>Female</td>\n",
       "      <td>45000.0</td>\n",
       "      <td>25</td>\n",
       "    </tr>\n",
       "    <tr>\n",
       "      <th>109</th>\n",
       "      <td>Anant</td>\n",
       "      <td>9</td>\n",
       "      <td>Male</td>\n",
       "      <td>100000.0</td>\n",
       "      <td>38</td>\n",
       "    </tr>\n",
       "    <tr>\n",
       "      <th>108</th>\n",
       "      <td>Ayesha</td>\n",
       "      <td>8</td>\n",
       "      <td>Female</td>\n",
       "      <td>60000.0</td>\n",
       "      <td>26</td>\n",
       "    </tr>\n",
       "    <tr>\n",
       "      <th>107</th>\n",
       "      <td>Monalika</td>\n",
       "      <td>7</td>\n",
       "      <td>Female</td>\n",
       "      <td>70000.0</td>\n",
       "      <td>30</td>\n",
       "    </tr>\n",
       "    <tr>\n",
       "      <th>106</th>\n",
       "      <td>Pratik</td>\n",
       "      <td>6</td>\n",
       "      <td>Male</td>\n",
       "      <td>80000.0</td>\n",
       "      <td>49</td>\n",
       "    </tr>\n",
       "    <tr>\n",
       "      <th>105</th>\n",
       "      <td>Shalini</td>\n",
       "      <td>5</td>\n",
       "      <td>Female</td>\n",
       "      <td>90000.0</td>\n",
       "      <td>47</td>\n",
       "    </tr>\n",
       "    <tr>\n",
       "      <th>104</th>\n",
       "      <td>Anand</td>\n",
       "      <td>4</td>\n",
       "      <td>Male</td>\n",
       "      <td>65000.0</td>\n",
       "      <td>29</td>\n",
       "    </tr>\n",
       "    <tr>\n",
       "      <th>103</th>\n",
       "      <td>Aishwarya</td>\n",
       "      <td>3</td>\n",
       "      <td>Female</td>\n",
       "      <td>75000.0</td>\n",
       "      <td>49</td>\n",
       "    </tr>\n",
       "    <tr>\n",
       "      <th>102</th>\n",
       "      <td>Kartik</td>\n",
       "      <td>2</td>\n",
       "      <td>Male</td>\n",
       "      <td>85000.0</td>\n",
       "      <td>44</td>\n",
       "    </tr>\n",
       "    <tr>\n",
       "      <th>101</th>\n",
       "      <td>Utkarsh</td>\n",
       "      <td>1</td>\n",
       "      <td>Male</td>\n",
       "      <td>95000.0</td>\n",
       "      <td>49</td>\n",
       "    </tr>\n",
       "  </tbody>\n",
       "</table>\n",
       "</div>"
      ],
      "text/plain": [
       "                  Name  ID  Gender    Salary  Age\n",
       "Employee_ID                                      \n",
       "116             Pratik  16     NaN       NaN   32\n",
       "115             Kavita  15     NaN       NaN   30\n",
       "112             Mohini  12  Female   65000.0   25\n",
       "111           Prashant  11    Male   55000.0   38\n",
       "110          Shamiksha  10  Female   45000.0   25\n",
       "109              Anant   9    Male  100000.0   38\n",
       "108             Ayesha   8  Female   60000.0   26\n",
       "107           Monalika   7  Female   70000.0   30\n",
       "106             Pratik   6    Male   80000.0   49\n",
       "105            Shalini   5  Female   90000.0   47\n",
       "104              Anand   4    Male   65000.0   29\n",
       "103          Aishwarya   3  Female   75000.0   49\n",
       "102             Kartik   2    Male   85000.0   44\n",
       "101            Utkarsh   1    Male   95000.0   49"
      ]
     },
     "execution_count": 175,
     "metadata": {},
     "output_type": "execute_result"
    }
   ],
   "source": [
    "df1.sort_index(ascending = False)"
   ]
  },
  {
   "cell_type": "code",
   "execution_count": 176,
   "id": "a0440b6a",
   "metadata": {},
   "outputs": [
    {
     "data": {
      "text/html": [
       "<div>\n",
       "<style scoped>\n",
       "    .dataframe tbody tr th:only-of-type {\n",
       "        vertical-align: middle;\n",
       "    }\n",
       "\n",
       "    .dataframe tbody tr th {\n",
       "        vertical-align: top;\n",
       "    }\n",
       "\n",
       "    .dataframe thead th {\n",
       "        text-align: right;\n",
       "    }\n",
       "</style>\n",
       "<table border=\"1\" class=\"dataframe\">\n",
       "  <thead>\n",
       "    <tr style=\"text-align: right;\">\n",
       "      <th></th>\n",
       "      <th>Name</th>\n",
       "      <th>ID</th>\n",
       "      <th>Gender</th>\n",
       "      <th>Salary</th>\n",
       "      <th>Age</th>\n",
       "    </tr>\n",
       "    <tr>\n",
       "      <th>Employee_ID</th>\n",
       "      <th></th>\n",
       "      <th></th>\n",
       "      <th></th>\n",
       "      <th></th>\n",
       "      <th></th>\n",
       "    </tr>\n",
       "  </thead>\n",
       "  <tbody>\n",
       "    <tr>\n",
       "      <th>110</th>\n",
       "      <td>Shamiksha</td>\n",
       "      <td>10</td>\n",
       "      <td>Female</td>\n",
       "      <td>45000.0</td>\n",
       "      <td>25</td>\n",
       "    </tr>\n",
       "    <tr>\n",
       "      <th>111</th>\n",
       "      <td>Prashant</td>\n",
       "      <td>11</td>\n",
       "      <td>Male</td>\n",
       "      <td>55000.0</td>\n",
       "      <td>38</td>\n",
       "    </tr>\n",
       "    <tr>\n",
       "      <th>108</th>\n",
       "      <td>Ayesha</td>\n",
       "      <td>8</td>\n",
       "      <td>Female</td>\n",
       "      <td>60000.0</td>\n",
       "      <td>26</td>\n",
       "    </tr>\n",
       "    <tr>\n",
       "      <th>104</th>\n",
       "      <td>Anand</td>\n",
       "      <td>4</td>\n",
       "      <td>Male</td>\n",
       "      <td>65000.0</td>\n",
       "      <td>29</td>\n",
       "    </tr>\n",
       "    <tr>\n",
       "      <th>112</th>\n",
       "      <td>Mohini</td>\n",
       "      <td>12</td>\n",
       "      <td>Female</td>\n",
       "      <td>65000.0</td>\n",
       "      <td>25</td>\n",
       "    </tr>\n",
       "    <tr>\n",
       "      <th>107</th>\n",
       "      <td>Monalika</td>\n",
       "      <td>7</td>\n",
       "      <td>Female</td>\n",
       "      <td>70000.0</td>\n",
       "      <td>30</td>\n",
       "    </tr>\n",
       "    <tr>\n",
       "      <th>103</th>\n",
       "      <td>Aishwarya</td>\n",
       "      <td>3</td>\n",
       "      <td>Female</td>\n",
       "      <td>75000.0</td>\n",
       "      <td>49</td>\n",
       "    </tr>\n",
       "    <tr>\n",
       "      <th>106</th>\n",
       "      <td>Pratik</td>\n",
       "      <td>6</td>\n",
       "      <td>Male</td>\n",
       "      <td>80000.0</td>\n",
       "      <td>49</td>\n",
       "    </tr>\n",
       "    <tr>\n",
       "      <th>102</th>\n",
       "      <td>Kartik</td>\n",
       "      <td>2</td>\n",
       "      <td>Male</td>\n",
       "      <td>85000.0</td>\n",
       "      <td>44</td>\n",
       "    </tr>\n",
       "    <tr>\n",
       "      <th>105</th>\n",
       "      <td>Shalini</td>\n",
       "      <td>5</td>\n",
       "      <td>Female</td>\n",
       "      <td>90000.0</td>\n",
       "      <td>47</td>\n",
       "    </tr>\n",
       "    <tr>\n",
       "      <th>101</th>\n",
       "      <td>Utkarsh</td>\n",
       "      <td>1</td>\n",
       "      <td>Male</td>\n",
       "      <td>95000.0</td>\n",
       "      <td>49</td>\n",
       "    </tr>\n",
       "    <tr>\n",
       "      <th>109</th>\n",
       "      <td>Anant</td>\n",
       "      <td>9</td>\n",
       "      <td>Male</td>\n",
       "      <td>100000.0</td>\n",
       "      <td>38</td>\n",
       "    </tr>\n",
       "    <tr>\n",
       "      <th>115</th>\n",
       "      <td>Kavita</td>\n",
       "      <td>15</td>\n",
       "      <td>NaN</td>\n",
       "      <td>NaN</td>\n",
       "      <td>30</td>\n",
       "    </tr>\n",
       "    <tr>\n",
       "      <th>116</th>\n",
       "      <td>Pratik</td>\n",
       "      <td>16</td>\n",
       "      <td>NaN</td>\n",
       "      <td>NaN</td>\n",
       "      <td>32</td>\n",
       "    </tr>\n",
       "  </tbody>\n",
       "</table>\n",
       "</div>"
      ],
      "text/plain": [
       "                  Name  ID  Gender    Salary  Age\n",
       "Employee_ID                                      \n",
       "110          Shamiksha  10  Female   45000.0   25\n",
       "111           Prashant  11    Male   55000.0   38\n",
       "108             Ayesha   8  Female   60000.0   26\n",
       "104              Anand   4    Male   65000.0   29\n",
       "112             Mohini  12  Female   65000.0   25\n",
       "107           Monalika   7  Female   70000.0   30\n",
       "103          Aishwarya   3  Female   75000.0   49\n",
       "106             Pratik   6    Male   80000.0   49\n",
       "102             Kartik   2    Male   85000.0   44\n",
       "105            Shalini   5  Female   90000.0   47\n",
       "101            Utkarsh   1    Male   95000.0   49\n",
       "109              Anant   9    Male  100000.0   38\n",
       "115             Kavita  15     NaN       NaN   30\n",
       "116             Pratik  16     NaN       NaN   32"
      ]
     },
     "execution_count": 176,
     "metadata": {},
     "output_type": "execute_result"
    }
   ],
   "source": [
    "df1.sort_values(by = 'Salary')"
   ]
  },
  {
   "cell_type": "code",
   "execution_count": 177,
   "id": "a917d7da",
   "metadata": {},
   "outputs": [
    {
     "data": {
      "text/html": [
       "<div>\n",
       "<style scoped>\n",
       "    .dataframe tbody tr th:only-of-type {\n",
       "        vertical-align: middle;\n",
       "    }\n",
       "\n",
       "    .dataframe tbody tr th {\n",
       "        vertical-align: top;\n",
       "    }\n",
       "\n",
       "    .dataframe thead th {\n",
       "        text-align: right;\n",
       "    }\n",
       "</style>\n",
       "<table border=\"1\" class=\"dataframe\">\n",
       "  <thead>\n",
       "    <tr style=\"text-align: right;\">\n",
       "      <th></th>\n",
       "      <th>Name</th>\n",
       "      <th>ID</th>\n",
       "      <th>Gender</th>\n",
       "      <th>Salary</th>\n",
       "      <th>Age</th>\n",
       "    </tr>\n",
       "    <tr>\n",
       "      <th>Employee_ID</th>\n",
       "      <th></th>\n",
       "      <th></th>\n",
       "      <th></th>\n",
       "      <th></th>\n",
       "      <th></th>\n",
       "    </tr>\n",
       "  </thead>\n",
       "  <tbody>\n",
       "    <tr>\n",
       "      <th>109</th>\n",
       "      <td>Anant</td>\n",
       "      <td>9</td>\n",
       "      <td>Male</td>\n",
       "      <td>100000.0</td>\n",
       "      <td>38</td>\n",
       "    </tr>\n",
       "    <tr>\n",
       "      <th>101</th>\n",
       "      <td>Utkarsh</td>\n",
       "      <td>1</td>\n",
       "      <td>Male</td>\n",
       "      <td>95000.0</td>\n",
       "      <td>49</td>\n",
       "    </tr>\n",
       "    <tr>\n",
       "      <th>105</th>\n",
       "      <td>Shalini</td>\n",
       "      <td>5</td>\n",
       "      <td>Female</td>\n",
       "      <td>90000.0</td>\n",
       "      <td>47</td>\n",
       "    </tr>\n",
       "    <tr>\n",
       "      <th>102</th>\n",
       "      <td>Kartik</td>\n",
       "      <td>2</td>\n",
       "      <td>Male</td>\n",
       "      <td>85000.0</td>\n",
       "      <td>44</td>\n",
       "    </tr>\n",
       "    <tr>\n",
       "      <th>106</th>\n",
       "      <td>Pratik</td>\n",
       "      <td>6</td>\n",
       "      <td>Male</td>\n",
       "      <td>80000.0</td>\n",
       "      <td>49</td>\n",
       "    </tr>\n",
       "    <tr>\n",
       "      <th>103</th>\n",
       "      <td>Aishwarya</td>\n",
       "      <td>3</td>\n",
       "      <td>Female</td>\n",
       "      <td>75000.0</td>\n",
       "      <td>49</td>\n",
       "    </tr>\n",
       "    <tr>\n",
       "      <th>107</th>\n",
       "      <td>Monalika</td>\n",
       "      <td>7</td>\n",
       "      <td>Female</td>\n",
       "      <td>70000.0</td>\n",
       "      <td>30</td>\n",
       "    </tr>\n",
       "    <tr>\n",
       "      <th>104</th>\n",
       "      <td>Anand</td>\n",
       "      <td>4</td>\n",
       "      <td>Male</td>\n",
       "      <td>65000.0</td>\n",
       "      <td>29</td>\n",
       "    </tr>\n",
       "    <tr>\n",
       "      <th>112</th>\n",
       "      <td>Mohini</td>\n",
       "      <td>12</td>\n",
       "      <td>Female</td>\n",
       "      <td>65000.0</td>\n",
       "      <td>25</td>\n",
       "    </tr>\n",
       "    <tr>\n",
       "      <th>108</th>\n",
       "      <td>Ayesha</td>\n",
       "      <td>8</td>\n",
       "      <td>Female</td>\n",
       "      <td>60000.0</td>\n",
       "      <td>26</td>\n",
       "    </tr>\n",
       "    <tr>\n",
       "      <th>111</th>\n",
       "      <td>Prashant</td>\n",
       "      <td>11</td>\n",
       "      <td>Male</td>\n",
       "      <td>55000.0</td>\n",
       "      <td>38</td>\n",
       "    </tr>\n",
       "    <tr>\n",
       "      <th>110</th>\n",
       "      <td>Shamiksha</td>\n",
       "      <td>10</td>\n",
       "      <td>Female</td>\n",
       "      <td>45000.0</td>\n",
       "      <td>25</td>\n",
       "    </tr>\n",
       "    <tr>\n",
       "      <th>115</th>\n",
       "      <td>Kavita</td>\n",
       "      <td>15</td>\n",
       "      <td>NaN</td>\n",
       "      <td>NaN</td>\n",
       "      <td>30</td>\n",
       "    </tr>\n",
       "    <tr>\n",
       "      <th>116</th>\n",
       "      <td>Pratik</td>\n",
       "      <td>16</td>\n",
       "      <td>NaN</td>\n",
       "      <td>NaN</td>\n",
       "      <td>32</td>\n",
       "    </tr>\n",
       "  </tbody>\n",
       "</table>\n",
       "</div>"
      ],
      "text/plain": [
       "                  Name  ID  Gender    Salary  Age\n",
       "Employee_ID                                      \n",
       "109              Anant   9    Male  100000.0   38\n",
       "101            Utkarsh   1    Male   95000.0   49\n",
       "105            Shalini   5  Female   90000.0   47\n",
       "102             Kartik   2    Male   85000.0   44\n",
       "106             Pratik   6    Male   80000.0   49\n",
       "103          Aishwarya   3  Female   75000.0   49\n",
       "107           Monalika   7  Female   70000.0   30\n",
       "104              Anand   4    Male   65000.0   29\n",
       "112             Mohini  12  Female   65000.0   25\n",
       "108             Ayesha   8  Female   60000.0   26\n",
       "111           Prashant  11    Male   55000.0   38\n",
       "110          Shamiksha  10  Female   45000.0   25\n",
       "115             Kavita  15     NaN       NaN   30\n",
       "116             Pratik  16     NaN       NaN   32"
      ]
     },
     "execution_count": 177,
     "metadata": {},
     "output_type": "execute_result"
    }
   ],
   "source": [
    "df1.sort_values(by = 'Salary', ascending = False)"
   ]
  },
  {
   "cell_type": "code",
   "execution_count": 178,
   "id": "6d5d4938",
   "metadata": {},
   "outputs": [
    {
     "data": {
      "text/html": [
       "<div>\n",
       "<style scoped>\n",
       "    .dataframe tbody tr th:only-of-type {\n",
       "        vertical-align: middle;\n",
       "    }\n",
       "\n",
       "    .dataframe tbody tr th {\n",
       "        vertical-align: top;\n",
       "    }\n",
       "\n",
       "    .dataframe thead th {\n",
       "        text-align: right;\n",
       "    }\n",
       "</style>\n",
       "<table border=\"1\" class=\"dataframe\">\n",
       "  <thead>\n",
       "    <tr style=\"text-align: right;\">\n",
       "      <th></th>\n",
       "      <th>Name</th>\n",
       "      <th>ID</th>\n",
       "      <th>Gender</th>\n",
       "      <th>Salary</th>\n",
       "      <th>Age</th>\n",
       "    </tr>\n",
       "    <tr>\n",
       "      <th>Employee_ID</th>\n",
       "      <th></th>\n",
       "      <th></th>\n",
       "      <th></th>\n",
       "      <th></th>\n",
       "      <th></th>\n",
       "    </tr>\n",
       "  </thead>\n",
       "  <tbody>\n",
       "    <tr>\n",
       "      <th>103</th>\n",
       "      <td>Aishwarya</td>\n",
       "      <td>3</td>\n",
       "      <td>Female</td>\n",
       "      <td>75000.0</td>\n",
       "      <td>49</td>\n",
       "    </tr>\n",
       "    <tr>\n",
       "      <th>104</th>\n",
       "      <td>Anand</td>\n",
       "      <td>4</td>\n",
       "      <td>Male</td>\n",
       "      <td>65000.0</td>\n",
       "      <td>29</td>\n",
       "    </tr>\n",
       "    <tr>\n",
       "      <th>109</th>\n",
       "      <td>Anant</td>\n",
       "      <td>9</td>\n",
       "      <td>Male</td>\n",
       "      <td>100000.0</td>\n",
       "      <td>38</td>\n",
       "    </tr>\n",
       "    <tr>\n",
       "      <th>108</th>\n",
       "      <td>Ayesha</td>\n",
       "      <td>8</td>\n",
       "      <td>Female</td>\n",
       "      <td>60000.0</td>\n",
       "      <td>26</td>\n",
       "    </tr>\n",
       "    <tr>\n",
       "      <th>102</th>\n",
       "      <td>Kartik</td>\n",
       "      <td>2</td>\n",
       "      <td>Male</td>\n",
       "      <td>85000.0</td>\n",
       "      <td>44</td>\n",
       "    </tr>\n",
       "    <tr>\n",
       "      <th>115</th>\n",
       "      <td>Kavita</td>\n",
       "      <td>15</td>\n",
       "      <td>NaN</td>\n",
       "      <td>NaN</td>\n",
       "      <td>30</td>\n",
       "    </tr>\n",
       "    <tr>\n",
       "      <th>112</th>\n",
       "      <td>Mohini</td>\n",
       "      <td>12</td>\n",
       "      <td>Female</td>\n",
       "      <td>65000.0</td>\n",
       "      <td>25</td>\n",
       "    </tr>\n",
       "    <tr>\n",
       "      <th>107</th>\n",
       "      <td>Monalika</td>\n",
       "      <td>7</td>\n",
       "      <td>Female</td>\n",
       "      <td>70000.0</td>\n",
       "      <td>30</td>\n",
       "    </tr>\n",
       "    <tr>\n",
       "      <th>111</th>\n",
       "      <td>Prashant</td>\n",
       "      <td>11</td>\n",
       "      <td>Male</td>\n",
       "      <td>55000.0</td>\n",
       "      <td>38</td>\n",
       "    </tr>\n",
       "    <tr>\n",
       "      <th>106</th>\n",
       "      <td>Pratik</td>\n",
       "      <td>6</td>\n",
       "      <td>Male</td>\n",
       "      <td>80000.0</td>\n",
       "      <td>49</td>\n",
       "    </tr>\n",
       "    <tr>\n",
       "      <th>116</th>\n",
       "      <td>Pratik</td>\n",
       "      <td>16</td>\n",
       "      <td>NaN</td>\n",
       "      <td>NaN</td>\n",
       "      <td>32</td>\n",
       "    </tr>\n",
       "    <tr>\n",
       "      <th>105</th>\n",
       "      <td>Shalini</td>\n",
       "      <td>5</td>\n",
       "      <td>Female</td>\n",
       "      <td>90000.0</td>\n",
       "      <td>47</td>\n",
       "    </tr>\n",
       "    <tr>\n",
       "      <th>110</th>\n",
       "      <td>Shamiksha</td>\n",
       "      <td>10</td>\n",
       "      <td>Female</td>\n",
       "      <td>45000.0</td>\n",
       "      <td>25</td>\n",
       "    </tr>\n",
       "    <tr>\n",
       "      <th>101</th>\n",
       "      <td>Utkarsh</td>\n",
       "      <td>1</td>\n",
       "      <td>Male</td>\n",
       "      <td>95000.0</td>\n",
       "      <td>49</td>\n",
       "    </tr>\n",
       "  </tbody>\n",
       "</table>\n",
       "</div>"
      ],
      "text/plain": [
       "                  Name  ID  Gender    Salary  Age\n",
       "Employee_ID                                      \n",
       "103          Aishwarya   3  Female   75000.0   49\n",
       "104              Anand   4    Male   65000.0   29\n",
       "109              Anant   9    Male  100000.0   38\n",
       "108             Ayesha   8  Female   60000.0   26\n",
       "102             Kartik   2    Male   85000.0   44\n",
       "115             Kavita  15     NaN       NaN   30\n",
       "112             Mohini  12  Female   65000.0   25\n",
       "107           Monalika   7  Female   70000.0   30\n",
       "111           Prashant  11    Male   55000.0   38\n",
       "106             Pratik   6    Male   80000.0   49\n",
       "116             Pratik  16     NaN       NaN   32\n",
       "105            Shalini   5  Female   90000.0   47\n",
       "110          Shamiksha  10  Female   45000.0   25\n",
       "101            Utkarsh   1    Male   95000.0   49"
      ]
     },
     "execution_count": 178,
     "metadata": {},
     "output_type": "execute_result"
    }
   ],
   "source": [
    "df1.sort_values(by = 'Name')"
   ]
  },
  {
   "cell_type": "code",
   "execution_count": 180,
   "id": "bbfff344",
   "metadata": {},
   "outputs": [
    {
     "data": {
      "text/html": [
       "<div>\n",
       "<style scoped>\n",
       "    .dataframe tbody tr th:only-of-type {\n",
       "        vertical-align: middle;\n",
       "    }\n",
       "\n",
       "    .dataframe tbody tr th {\n",
       "        vertical-align: top;\n",
       "    }\n",
       "\n",
       "    .dataframe thead th {\n",
       "        text-align: right;\n",
       "    }\n",
       "</style>\n",
       "<table border=\"1\" class=\"dataframe\">\n",
       "  <thead>\n",
       "    <tr style=\"text-align: right;\">\n",
       "      <th></th>\n",
       "      <th>Name</th>\n",
       "      <th>ID</th>\n",
       "      <th>Gender</th>\n",
       "      <th>Salary</th>\n",
       "      <th>Age</th>\n",
       "    </tr>\n",
       "    <tr>\n",
       "      <th>Employee_ID</th>\n",
       "      <th></th>\n",
       "      <th></th>\n",
       "      <th></th>\n",
       "      <th></th>\n",
       "      <th></th>\n",
       "    </tr>\n",
       "  </thead>\n",
       "  <tbody>\n",
       "    <tr>\n",
       "      <th>110</th>\n",
       "      <td>Shamiksha</td>\n",
       "      <td>10</td>\n",
       "      <td>Female</td>\n",
       "      <td>45000.0</td>\n",
       "      <td>25</td>\n",
       "    </tr>\n",
       "    <tr>\n",
       "      <th>112</th>\n",
       "      <td>Mohini</td>\n",
       "      <td>12</td>\n",
       "      <td>Female</td>\n",
       "      <td>65000.0</td>\n",
       "      <td>25</td>\n",
       "    </tr>\n",
       "    <tr>\n",
       "      <th>108</th>\n",
       "      <td>Ayesha</td>\n",
       "      <td>8</td>\n",
       "      <td>Female</td>\n",
       "      <td>60000.0</td>\n",
       "      <td>26</td>\n",
       "    </tr>\n",
       "    <tr>\n",
       "      <th>104</th>\n",
       "      <td>Anand</td>\n",
       "      <td>4</td>\n",
       "      <td>Male</td>\n",
       "      <td>65000.0</td>\n",
       "      <td>29</td>\n",
       "    </tr>\n",
       "    <tr>\n",
       "      <th>107</th>\n",
       "      <td>Monalika</td>\n",
       "      <td>7</td>\n",
       "      <td>Female</td>\n",
       "      <td>70000.0</td>\n",
       "      <td>30</td>\n",
       "    </tr>\n",
       "    <tr>\n",
       "      <th>115</th>\n",
       "      <td>Kavita</td>\n",
       "      <td>15</td>\n",
       "      <td>NaN</td>\n",
       "      <td>NaN</td>\n",
       "      <td>30</td>\n",
       "    </tr>\n",
       "    <tr>\n",
       "      <th>116</th>\n",
       "      <td>Pratik</td>\n",
       "      <td>16</td>\n",
       "      <td>NaN</td>\n",
       "      <td>NaN</td>\n",
       "      <td>32</td>\n",
       "    </tr>\n",
       "    <tr>\n",
       "      <th>111</th>\n",
       "      <td>Prashant</td>\n",
       "      <td>11</td>\n",
       "      <td>Male</td>\n",
       "      <td>55000.0</td>\n",
       "      <td>38</td>\n",
       "    </tr>\n",
       "    <tr>\n",
       "      <th>109</th>\n",
       "      <td>Anant</td>\n",
       "      <td>9</td>\n",
       "      <td>Male</td>\n",
       "      <td>100000.0</td>\n",
       "      <td>38</td>\n",
       "    </tr>\n",
       "    <tr>\n",
       "      <th>102</th>\n",
       "      <td>Kartik</td>\n",
       "      <td>2</td>\n",
       "      <td>Male</td>\n",
       "      <td>85000.0</td>\n",
       "      <td>44</td>\n",
       "    </tr>\n",
       "    <tr>\n",
       "      <th>105</th>\n",
       "      <td>Shalini</td>\n",
       "      <td>5</td>\n",
       "      <td>Female</td>\n",
       "      <td>90000.0</td>\n",
       "      <td>47</td>\n",
       "    </tr>\n",
       "    <tr>\n",
       "      <th>103</th>\n",
       "      <td>Aishwarya</td>\n",
       "      <td>3</td>\n",
       "      <td>Female</td>\n",
       "      <td>75000.0</td>\n",
       "      <td>49</td>\n",
       "    </tr>\n",
       "    <tr>\n",
       "      <th>106</th>\n",
       "      <td>Pratik</td>\n",
       "      <td>6</td>\n",
       "      <td>Male</td>\n",
       "      <td>80000.0</td>\n",
       "      <td>49</td>\n",
       "    </tr>\n",
       "    <tr>\n",
       "      <th>101</th>\n",
       "      <td>Utkarsh</td>\n",
       "      <td>1</td>\n",
       "      <td>Male</td>\n",
       "      <td>95000.0</td>\n",
       "      <td>49</td>\n",
       "    </tr>\n",
       "  </tbody>\n",
       "</table>\n",
       "</div>"
      ],
      "text/plain": [
       "                  Name  ID  Gender    Salary  Age\n",
       "Employee_ID                                      \n",
       "110          Shamiksha  10  Female   45000.0   25\n",
       "112             Mohini  12  Female   65000.0   25\n",
       "108             Ayesha   8  Female   60000.0   26\n",
       "104              Anand   4    Male   65000.0   29\n",
       "107           Monalika   7  Female   70000.0   30\n",
       "115             Kavita  15     NaN       NaN   30\n",
       "116             Pratik  16     NaN       NaN   32\n",
       "111           Prashant  11    Male   55000.0   38\n",
       "109              Anant   9    Male  100000.0   38\n",
       "102             Kartik   2    Male   85000.0   44\n",
       "105            Shalini   5  Female   90000.0   47\n",
       "103          Aishwarya   3  Female   75000.0   49\n",
       "106             Pratik   6    Male   80000.0   49\n",
       "101            Utkarsh   1    Male   95000.0   49"
      ]
     },
     "execution_count": 180,
     "metadata": {},
     "output_type": "execute_result"
    }
   ],
   "source": [
    "df1.sort_values(by = ['Age','Salary'])"
   ]
  },
  {
   "cell_type": "code",
   "execution_count": 181,
   "id": "5ac0124a",
   "metadata": {},
   "outputs": [
    {
     "data": {
      "text/html": [
       "<div>\n",
       "<style scoped>\n",
       "    .dataframe tbody tr th:only-of-type {\n",
       "        vertical-align: middle;\n",
       "    }\n",
       "\n",
       "    .dataframe tbody tr th {\n",
       "        vertical-align: top;\n",
       "    }\n",
       "\n",
       "    .dataframe thead th {\n",
       "        text-align: right;\n",
       "    }\n",
       "</style>\n",
       "<table border=\"1\" class=\"dataframe\">\n",
       "  <thead>\n",
       "    <tr style=\"text-align: right;\">\n",
       "      <th></th>\n",
       "      <th>Name</th>\n",
       "      <th>ID</th>\n",
       "      <th>Gender</th>\n",
       "      <th>Salary</th>\n",
       "      <th>Age</th>\n",
       "    </tr>\n",
       "    <tr>\n",
       "      <th>Employee_ID</th>\n",
       "      <th></th>\n",
       "      <th></th>\n",
       "      <th></th>\n",
       "      <th></th>\n",
       "      <th></th>\n",
       "    </tr>\n",
       "  </thead>\n",
       "  <tbody>\n",
       "    <tr>\n",
       "      <th>101</th>\n",
       "      <td>Utkarsh</td>\n",
       "      <td>1</td>\n",
       "      <td>Male</td>\n",
       "      <td>95000.0</td>\n",
       "      <td>49</td>\n",
       "    </tr>\n",
       "    <tr>\n",
       "      <th>102</th>\n",
       "      <td>Kartik</td>\n",
       "      <td>2</td>\n",
       "      <td>Male</td>\n",
       "      <td>85000.0</td>\n",
       "      <td>44</td>\n",
       "    </tr>\n",
       "    <tr>\n",
       "      <th>103</th>\n",
       "      <td>Aishwarya</td>\n",
       "      <td>3</td>\n",
       "      <td>Female</td>\n",
       "      <td>75000.0</td>\n",
       "      <td>49</td>\n",
       "    </tr>\n",
       "    <tr>\n",
       "      <th>104</th>\n",
       "      <td>Anand</td>\n",
       "      <td>4</td>\n",
       "      <td>Male</td>\n",
       "      <td>65000.0</td>\n",
       "      <td>29</td>\n",
       "    </tr>\n",
       "    <tr>\n",
       "      <th>105</th>\n",
       "      <td>Shalini</td>\n",
       "      <td>5</td>\n",
       "      <td>Female</td>\n",
       "      <td>90000.0</td>\n",
       "      <td>47</td>\n",
       "    </tr>\n",
       "    <tr>\n",
       "      <th>106</th>\n",
       "      <td>Pratik</td>\n",
       "      <td>6</td>\n",
       "      <td>Male</td>\n",
       "      <td>80000.0</td>\n",
       "      <td>49</td>\n",
       "    </tr>\n",
       "    <tr>\n",
       "      <th>107</th>\n",
       "      <td>Monalika</td>\n",
       "      <td>7</td>\n",
       "      <td>Female</td>\n",
       "      <td>70000.0</td>\n",
       "      <td>30</td>\n",
       "    </tr>\n",
       "    <tr>\n",
       "      <th>108</th>\n",
       "      <td>Ayesha</td>\n",
       "      <td>8</td>\n",
       "      <td>Female</td>\n",
       "      <td>60000.0</td>\n",
       "      <td>26</td>\n",
       "    </tr>\n",
       "    <tr>\n",
       "      <th>109</th>\n",
       "      <td>Anant</td>\n",
       "      <td>9</td>\n",
       "      <td>Male</td>\n",
       "      <td>100000.0</td>\n",
       "      <td>38</td>\n",
       "    </tr>\n",
       "    <tr>\n",
       "      <th>110</th>\n",
       "      <td>Shamiksha</td>\n",
       "      <td>10</td>\n",
       "      <td>Female</td>\n",
       "      <td>45000.0</td>\n",
       "      <td>25</td>\n",
       "    </tr>\n",
       "    <tr>\n",
       "      <th>111</th>\n",
       "      <td>Prashant</td>\n",
       "      <td>11</td>\n",
       "      <td>Male</td>\n",
       "      <td>55000.0</td>\n",
       "      <td>38</td>\n",
       "    </tr>\n",
       "    <tr>\n",
       "      <th>112</th>\n",
       "      <td>Mohini</td>\n",
       "      <td>12</td>\n",
       "      <td>Female</td>\n",
       "      <td>65000.0</td>\n",
       "      <td>25</td>\n",
       "    </tr>\n",
       "    <tr>\n",
       "      <th>115</th>\n",
       "      <td>Kavita</td>\n",
       "      <td>15</td>\n",
       "      <td>NaN</td>\n",
       "      <td>NaN</td>\n",
       "      <td>30</td>\n",
       "    </tr>\n",
       "    <tr>\n",
       "      <th>116</th>\n",
       "      <td>Pratik</td>\n",
       "      <td>16</td>\n",
       "      <td>NaN</td>\n",
       "      <td>NaN</td>\n",
       "      <td>32</td>\n",
       "    </tr>\n",
       "    <tr>\n",
       "      <th>101</th>\n",
       "      <td>Utkarsh</td>\n",
       "      <td>1</td>\n",
       "      <td>Male</td>\n",
       "      <td>95000.0</td>\n",
       "      <td>49</td>\n",
       "    </tr>\n",
       "    <tr>\n",
       "      <th>102</th>\n",
       "      <td>Kartik</td>\n",
       "      <td>2</td>\n",
       "      <td>Male</td>\n",
       "      <td>85000.0</td>\n",
       "      <td>44</td>\n",
       "    </tr>\n",
       "    <tr>\n",
       "      <th>103</th>\n",
       "      <td>Aishwarya</td>\n",
       "      <td>3</td>\n",
       "      <td>Female</td>\n",
       "      <td>75000.0</td>\n",
       "      <td>49</td>\n",
       "    </tr>\n",
       "    <tr>\n",
       "      <th>104</th>\n",
       "      <td>Anand</td>\n",
       "      <td>4</td>\n",
       "      <td>Male</td>\n",
       "      <td>65000.0</td>\n",
       "      <td>29</td>\n",
       "    </tr>\n",
       "    <tr>\n",
       "      <th>105</th>\n",
       "      <td>Shalini</td>\n",
       "      <td>5</td>\n",
       "      <td>Female</td>\n",
       "      <td>90000.0</td>\n",
       "      <td>47</td>\n",
       "    </tr>\n",
       "    <tr>\n",
       "      <th>106</th>\n",
       "      <td>Pratik</td>\n",
       "      <td>6</td>\n",
       "      <td>Male</td>\n",
       "      <td>80000.0</td>\n",
       "      <td>49</td>\n",
       "    </tr>\n",
       "    <tr>\n",
       "      <th>107</th>\n",
       "      <td>Monalika</td>\n",
       "      <td>7</td>\n",
       "      <td>Female</td>\n",
       "      <td>70000.0</td>\n",
       "      <td>30</td>\n",
       "    </tr>\n",
       "    <tr>\n",
       "      <th>108</th>\n",
       "      <td>Ayesha</td>\n",
       "      <td>8</td>\n",
       "      <td>Female</td>\n",
       "      <td>60000.0</td>\n",
       "      <td>26</td>\n",
       "    </tr>\n",
       "    <tr>\n",
       "      <th>109</th>\n",
       "      <td>Anant</td>\n",
       "      <td>9</td>\n",
       "      <td>Male</td>\n",
       "      <td>100000.0</td>\n",
       "      <td>38</td>\n",
       "    </tr>\n",
       "    <tr>\n",
       "      <th>110</th>\n",
       "      <td>Shamiksha</td>\n",
       "      <td>10</td>\n",
       "      <td>Female</td>\n",
       "      <td>45000.0</td>\n",
       "      <td>25</td>\n",
       "    </tr>\n",
       "    <tr>\n",
       "      <th>111</th>\n",
       "      <td>Prashant</td>\n",
       "      <td>11</td>\n",
       "      <td>Male</td>\n",
       "      <td>55000.0</td>\n",
       "      <td>38</td>\n",
       "    </tr>\n",
       "    <tr>\n",
       "      <th>112</th>\n",
       "      <td>Mohini</td>\n",
       "      <td>12</td>\n",
       "      <td>Female</td>\n",
       "      <td>65000.0</td>\n",
       "      <td>25</td>\n",
       "    </tr>\n",
       "    <tr>\n",
       "      <th>115</th>\n",
       "      <td>Kavita</td>\n",
       "      <td>15</td>\n",
       "      <td>NaN</td>\n",
       "      <td>NaN</td>\n",
       "      <td>30</td>\n",
       "    </tr>\n",
       "    <tr>\n",
       "      <th>116</th>\n",
       "      <td>Pratik</td>\n",
       "      <td>16</td>\n",
       "      <td>NaN</td>\n",
       "      <td>NaN</td>\n",
       "      <td>32</td>\n",
       "    </tr>\n",
       "  </tbody>\n",
       "</table>\n",
       "</div>"
      ],
      "text/plain": [
       "                  Name  ID  Gender    Salary  Age\n",
       "Employee_ID                                      \n",
       "101            Utkarsh   1    Male   95000.0   49\n",
       "102             Kartik   2    Male   85000.0   44\n",
       "103          Aishwarya   3  Female   75000.0   49\n",
       "104              Anand   4    Male   65000.0   29\n",
       "105            Shalini   5  Female   90000.0   47\n",
       "106             Pratik   6    Male   80000.0   49\n",
       "107           Monalika   7  Female   70000.0   30\n",
       "108             Ayesha   8  Female   60000.0   26\n",
       "109              Anant   9    Male  100000.0   38\n",
       "110          Shamiksha  10  Female   45000.0   25\n",
       "111           Prashant  11    Male   55000.0   38\n",
       "112             Mohini  12  Female   65000.0   25\n",
       "115             Kavita  15     NaN       NaN   30\n",
       "116             Pratik  16     NaN       NaN   32\n",
       "101            Utkarsh   1    Male   95000.0   49\n",
       "102             Kartik   2    Male   85000.0   44\n",
       "103          Aishwarya   3  Female   75000.0   49\n",
       "104              Anand   4    Male   65000.0   29\n",
       "105            Shalini   5  Female   90000.0   47\n",
       "106             Pratik   6    Male   80000.0   49\n",
       "107           Monalika   7  Female   70000.0   30\n",
       "108             Ayesha   8  Female   60000.0   26\n",
       "109              Anant   9    Male  100000.0   38\n",
       "110          Shamiksha  10  Female   45000.0   25\n",
       "111           Prashant  11    Male   55000.0   38\n",
       "112             Mohini  12  Female   65000.0   25\n",
       "115             Kavita  15     NaN       NaN   30\n",
       "116             Pratik  16     NaN       NaN   32"
      ]
     },
     "execution_count": 181,
     "metadata": {},
     "output_type": "execute_result"
    }
   ],
   "source": [
    "pd.concat([df1,df1],axis = 0)"
   ]
  },
  {
   "cell_type": "code",
   "execution_count": 182,
   "id": "21f218f6",
   "metadata": {},
   "outputs": [
    {
     "data": {
      "text/html": [
       "<div>\n",
       "<style scoped>\n",
       "    .dataframe tbody tr th:only-of-type {\n",
       "        vertical-align: middle;\n",
       "    }\n",
       "\n",
       "    .dataframe tbody tr th {\n",
       "        vertical-align: top;\n",
       "    }\n",
       "\n",
       "    .dataframe thead th {\n",
       "        text-align: right;\n",
       "    }\n",
       "</style>\n",
       "<table border=\"1\" class=\"dataframe\">\n",
       "  <thead>\n",
       "    <tr style=\"text-align: right;\">\n",
       "      <th></th>\n",
       "      <th>Name</th>\n",
       "      <th>ID</th>\n",
       "      <th>Gender</th>\n",
       "      <th>Salary</th>\n",
       "      <th>Age</th>\n",
       "      <th>Name</th>\n",
       "      <th>ID</th>\n",
       "      <th>Gender</th>\n",
       "      <th>Salary</th>\n",
       "      <th>Age</th>\n",
       "    </tr>\n",
       "    <tr>\n",
       "      <th>Employee_ID</th>\n",
       "      <th></th>\n",
       "      <th></th>\n",
       "      <th></th>\n",
       "      <th></th>\n",
       "      <th></th>\n",
       "      <th></th>\n",
       "      <th></th>\n",
       "      <th></th>\n",
       "      <th></th>\n",
       "      <th></th>\n",
       "    </tr>\n",
       "  </thead>\n",
       "  <tbody>\n",
       "    <tr>\n",
       "      <th>101</th>\n",
       "      <td>Utkarsh</td>\n",
       "      <td>1</td>\n",
       "      <td>Male</td>\n",
       "      <td>95000.0</td>\n",
       "      <td>49</td>\n",
       "      <td>Utkarsh</td>\n",
       "      <td>1</td>\n",
       "      <td>Male</td>\n",
       "      <td>95000.0</td>\n",
       "      <td>49</td>\n",
       "    </tr>\n",
       "    <tr>\n",
       "      <th>102</th>\n",
       "      <td>Kartik</td>\n",
       "      <td>2</td>\n",
       "      <td>Male</td>\n",
       "      <td>85000.0</td>\n",
       "      <td>44</td>\n",
       "      <td>Kartik</td>\n",
       "      <td>2</td>\n",
       "      <td>Male</td>\n",
       "      <td>85000.0</td>\n",
       "      <td>44</td>\n",
       "    </tr>\n",
       "    <tr>\n",
       "      <th>103</th>\n",
       "      <td>Aishwarya</td>\n",
       "      <td>3</td>\n",
       "      <td>Female</td>\n",
       "      <td>75000.0</td>\n",
       "      <td>49</td>\n",
       "      <td>Aishwarya</td>\n",
       "      <td>3</td>\n",
       "      <td>Female</td>\n",
       "      <td>75000.0</td>\n",
       "      <td>49</td>\n",
       "    </tr>\n",
       "    <tr>\n",
       "      <th>104</th>\n",
       "      <td>Anand</td>\n",
       "      <td>4</td>\n",
       "      <td>Male</td>\n",
       "      <td>65000.0</td>\n",
       "      <td>29</td>\n",
       "      <td>Anand</td>\n",
       "      <td>4</td>\n",
       "      <td>Male</td>\n",
       "      <td>65000.0</td>\n",
       "      <td>29</td>\n",
       "    </tr>\n",
       "    <tr>\n",
       "      <th>105</th>\n",
       "      <td>Shalini</td>\n",
       "      <td>5</td>\n",
       "      <td>Female</td>\n",
       "      <td>90000.0</td>\n",
       "      <td>47</td>\n",
       "      <td>Shalini</td>\n",
       "      <td>5</td>\n",
       "      <td>Female</td>\n",
       "      <td>90000.0</td>\n",
       "      <td>47</td>\n",
       "    </tr>\n",
       "    <tr>\n",
       "      <th>106</th>\n",
       "      <td>Pratik</td>\n",
       "      <td>6</td>\n",
       "      <td>Male</td>\n",
       "      <td>80000.0</td>\n",
       "      <td>49</td>\n",
       "      <td>Pratik</td>\n",
       "      <td>6</td>\n",
       "      <td>Male</td>\n",
       "      <td>80000.0</td>\n",
       "      <td>49</td>\n",
       "    </tr>\n",
       "    <tr>\n",
       "      <th>107</th>\n",
       "      <td>Monalika</td>\n",
       "      <td>7</td>\n",
       "      <td>Female</td>\n",
       "      <td>70000.0</td>\n",
       "      <td>30</td>\n",
       "      <td>Monalika</td>\n",
       "      <td>7</td>\n",
       "      <td>Female</td>\n",
       "      <td>70000.0</td>\n",
       "      <td>30</td>\n",
       "    </tr>\n",
       "    <tr>\n",
       "      <th>108</th>\n",
       "      <td>Ayesha</td>\n",
       "      <td>8</td>\n",
       "      <td>Female</td>\n",
       "      <td>60000.0</td>\n",
       "      <td>26</td>\n",
       "      <td>Ayesha</td>\n",
       "      <td>8</td>\n",
       "      <td>Female</td>\n",
       "      <td>60000.0</td>\n",
       "      <td>26</td>\n",
       "    </tr>\n",
       "    <tr>\n",
       "      <th>109</th>\n",
       "      <td>Anant</td>\n",
       "      <td>9</td>\n",
       "      <td>Male</td>\n",
       "      <td>100000.0</td>\n",
       "      <td>38</td>\n",
       "      <td>Anant</td>\n",
       "      <td>9</td>\n",
       "      <td>Male</td>\n",
       "      <td>100000.0</td>\n",
       "      <td>38</td>\n",
       "    </tr>\n",
       "    <tr>\n",
       "      <th>110</th>\n",
       "      <td>Shamiksha</td>\n",
       "      <td>10</td>\n",
       "      <td>Female</td>\n",
       "      <td>45000.0</td>\n",
       "      <td>25</td>\n",
       "      <td>Shamiksha</td>\n",
       "      <td>10</td>\n",
       "      <td>Female</td>\n",
       "      <td>45000.0</td>\n",
       "      <td>25</td>\n",
       "    </tr>\n",
       "    <tr>\n",
       "      <th>111</th>\n",
       "      <td>Prashant</td>\n",
       "      <td>11</td>\n",
       "      <td>Male</td>\n",
       "      <td>55000.0</td>\n",
       "      <td>38</td>\n",
       "      <td>Prashant</td>\n",
       "      <td>11</td>\n",
       "      <td>Male</td>\n",
       "      <td>55000.0</td>\n",
       "      <td>38</td>\n",
       "    </tr>\n",
       "    <tr>\n",
       "      <th>112</th>\n",
       "      <td>Mohini</td>\n",
       "      <td>12</td>\n",
       "      <td>Female</td>\n",
       "      <td>65000.0</td>\n",
       "      <td>25</td>\n",
       "      <td>Mohini</td>\n",
       "      <td>12</td>\n",
       "      <td>Female</td>\n",
       "      <td>65000.0</td>\n",
       "      <td>25</td>\n",
       "    </tr>\n",
       "    <tr>\n",
       "      <th>115</th>\n",
       "      <td>Kavita</td>\n",
       "      <td>15</td>\n",
       "      <td>NaN</td>\n",
       "      <td>NaN</td>\n",
       "      <td>30</td>\n",
       "      <td>Kavita</td>\n",
       "      <td>15</td>\n",
       "      <td>NaN</td>\n",
       "      <td>NaN</td>\n",
       "      <td>30</td>\n",
       "    </tr>\n",
       "    <tr>\n",
       "      <th>116</th>\n",
       "      <td>Pratik</td>\n",
       "      <td>16</td>\n",
       "      <td>NaN</td>\n",
       "      <td>NaN</td>\n",
       "      <td>32</td>\n",
       "      <td>Pratik</td>\n",
       "      <td>16</td>\n",
       "      <td>NaN</td>\n",
       "      <td>NaN</td>\n",
       "      <td>32</td>\n",
       "    </tr>\n",
       "  </tbody>\n",
       "</table>\n",
       "</div>"
      ],
      "text/plain": [
       "                  Name  ID  Gender    Salary  Age       Name  ID  Gender  \\\n",
       "Employee_ID                                                                \n",
       "101            Utkarsh   1    Male   95000.0   49    Utkarsh   1    Male   \n",
       "102             Kartik   2    Male   85000.0   44     Kartik   2    Male   \n",
       "103          Aishwarya   3  Female   75000.0   49  Aishwarya   3  Female   \n",
       "104              Anand   4    Male   65000.0   29      Anand   4    Male   \n",
       "105            Shalini   5  Female   90000.0   47    Shalini   5  Female   \n",
       "106             Pratik   6    Male   80000.0   49     Pratik   6    Male   \n",
       "107           Monalika   7  Female   70000.0   30   Monalika   7  Female   \n",
       "108             Ayesha   8  Female   60000.0   26     Ayesha   8  Female   \n",
       "109              Anant   9    Male  100000.0   38      Anant   9    Male   \n",
       "110          Shamiksha  10  Female   45000.0   25  Shamiksha  10  Female   \n",
       "111           Prashant  11    Male   55000.0   38   Prashant  11    Male   \n",
       "112             Mohini  12  Female   65000.0   25     Mohini  12  Female   \n",
       "115             Kavita  15     NaN       NaN   30     Kavita  15     NaN   \n",
       "116             Pratik  16     NaN       NaN   32     Pratik  16     NaN   \n",
       "\n",
       "               Salary  Age  \n",
       "Employee_ID                 \n",
       "101           95000.0   49  \n",
       "102           85000.0   44  \n",
       "103           75000.0   49  \n",
       "104           65000.0   29  \n",
       "105           90000.0   47  \n",
       "106           80000.0   49  \n",
       "107           70000.0   30  \n",
       "108           60000.0   26  \n",
       "109          100000.0   38  \n",
       "110           45000.0   25  \n",
       "111           55000.0   38  \n",
       "112           65000.0   25  \n",
       "115               NaN   30  \n",
       "116               NaN   32  "
      ]
     },
     "execution_count": 182,
     "metadata": {},
     "output_type": "execute_result"
    }
   ],
   "source": [
    "pd.concat([df1,df1], axis = 1)"
   ]
  },
  {
   "cell_type": "code",
   "execution_count": 183,
   "id": "960e0391",
   "metadata": {},
   "outputs": [
    {
     "data": {
      "text/plain": [
       "Name       ID  Gender  Salary    Age\n",
       "Aishwarya  3   Female  75000.0   49     1\n",
       "Anand      4   Male    65000.0   29     1\n",
       "Anant      9   Male    100000.0  38     1\n",
       "Ayesha     8   Female  60000.0   26     1\n",
       "Kartik     2   Male    85000.0   44     1\n",
       "Mohini     12  Female  65000.0   25     1\n",
       "Monalika   7   Female  70000.0   30     1\n",
       "Prashant   11  Male    55000.0   38     1\n",
       "Pratik     6   Male    80000.0   49     1\n",
       "Shalini    5   Female  90000.0   47     1\n",
       "Shamiksha  10  Female  45000.0   25     1\n",
       "Utkarsh    1   Male    95000.0   49     1\n",
       "dtype: int64"
      ]
     },
     "execution_count": 183,
     "metadata": {},
     "output_type": "execute_result"
    }
   ],
   "source": [
    "df1.value_counts()"
   ]
  },
  {
   "cell_type": "code",
   "execution_count": 184,
   "id": "fbff35aa",
   "metadata": {},
   "outputs": [
    {
     "data": {
      "text/plain": [
       "65000.0     2\n",
       "45000.0     1\n",
       "55000.0     1\n",
       "90000.0     1\n",
       "100000.0    1\n",
       "95000.0     1\n",
       "80000.0     1\n",
       "60000.0     1\n",
       "85000.0     1\n",
       "70000.0     1\n",
       "75000.0     1\n",
       "Name: Salary, dtype: int64"
      ]
     },
     "execution_count": 184,
     "metadata": {},
     "output_type": "execute_result"
    }
   ],
   "source": [
    "df1.Salary.value_counts()"
   ]
  },
  {
   "cell_type": "code",
   "execution_count": 185,
   "id": "04ebd5cd",
   "metadata": {},
   "outputs": [
    {
     "data": {
      "text/plain": [
       "Male      6\n",
       "Female    6\n",
       "Name: Gender, dtype: int64"
      ]
     },
     "execution_count": 185,
     "metadata": {},
     "output_type": "execute_result"
    }
   ],
   "source": [
    "df1.Gender.value_counts()"
   ]
  },
  {
   "cell_type": "code",
   "execution_count": 186,
   "id": "86a3c2f7",
   "metadata": {},
   "outputs": [
    {
     "data": {
      "text/html": [
       "<div>\n",
       "<style scoped>\n",
       "    .dataframe tbody tr th:only-of-type {\n",
       "        vertical-align: middle;\n",
       "    }\n",
       "\n",
       "    .dataframe tbody tr th {\n",
       "        vertical-align: top;\n",
       "    }\n",
       "\n",
       "    .dataframe thead th {\n",
       "        text-align: right;\n",
       "    }\n",
       "</style>\n",
       "<table border=\"1\" class=\"dataframe\">\n",
       "  <thead>\n",
       "    <tr style=\"text-align: right;\">\n",
       "      <th></th>\n",
       "      <th>ID</th>\n",
       "      <th>Salary</th>\n",
       "      <th>Age</th>\n",
       "    </tr>\n",
       "  </thead>\n",
       "  <tbody>\n",
       "    <tr>\n",
       "      <th>count</th>\n",
       "      <td>14.000000</td>\n",
       "      <td>12.000000</td>\n",
       "      <td>14.000000</td>\n",
       "    </tr>\n",
       "    <tr>\n",
       "      <th>mean</th>\n",
       "      <td>7.785714</td>\n",
       "      <td>73750.000000</td>\n",
       "      <td>36.500000</td>\n",
       "    </tr>\n",
       "    <tr>\n",
       "      <th>std</th>\n",
       "      <td>4.660448</td>\n",
       "      <td>16804.355496</td>\n",
       "      <td>9.509105</td>\n",
       "    </tr>\n",
       "    <tr>\n",
       "      <th>min</th>\n",
       "      <td>1.000000</td>\n",
       "      <td>45000.000000</td>\n",
       "      <td>25.000000</td>\n",
       "    </tr>\n",
       "    <tr>\n",
       "      <th>25%</th>\n",
       "      <td>4.250000</td>\n",
       "      <td>63750.000000</td>\n",
       "      <td>29.250000</td>\n",
       "    </tr>\n",
       "    <tr>\n",
       "      <th>50%</th>\n",
       "      <td>7.500000</td>\n",
       "      <td>72500.000000</td>\n",
       "      <td>35.000000</td>\n",
       "    </tr>\n",
       "    <tr>\n",
       "      <th>75%</th>\n",
       "      <td>10.750000</td>\n",
       "      <td>86250.000000</td>\n",
       "      <td>46.250000</td>\n",
       "    </tr>\n",
       "    <tr>\n",
       "      <th>max</th>\n",
       "      <td>16.000000</td>\n",
       "      <td>100000.000000</td>\n",
       "      <td>49.000000</td>\n",
       "    </tr>\n",
       "  </tbody>\n",
       "</table>\n",
       "</div>"
      ],
      "text/plain": [
       "              ID         Salary        Age\n",
       "count  14.000000      12.000000  14.000000\n",
       "mean    7.785714   73750.000000  36.500000\n",
       "std     4.660448   16804.355496   9.509105\n",
       "min     1.000000   45000.000000  25.000000\n",
       "25%     4.250000   63750.000000  29.250000\n",
       "50%     7.500000   72500.000000  35.000000\n",
       "75%    10.750000   86250.000000  46.250000\n",
       "max    16.000000  100000.000000  49.000000"
      ]
     },
     "execution_count": 186,
     "metadata": {},
     "output_type": "execute_result"
    }
   ],
   "source": [
    "df1.describe()"
   ]
  },
  {
   "cell_type": "code",
   "execution_count": 187,
   "id": "45acf7c6",
   "metadata": {},
   "outputs": [
    {
     "data": {
      "text/plain": [
       "Name      14\n",
       "ID        14\n",
       "Gender    12\n",
       "Salary    12\n",
       "Age       14\n",
       "dtype: int64"
      ]
     },
     "execution_count": 187,
     "metadata": {},
     "output_type": "execute_result"
    }
   ],
   "source": [
    "df1.count()"
   ]
  },
  {
   "cell_type": "code",
   "execution_count": 188,
   "id": "54b300c6",
   "metadata": {},
   "outputs": [
    {
     "data": {
      "text/plain": [
       "ID            7.785714\n",
       "Salary    73750.000000\n",
       "Age          36.500000\n",
       "dtype: float64"
      ]
     },
     "execution_count": 188,
     "metadata": {},
     "output_type": "execute_result"
    }
   ],
   "source": [
    "df1.mean()"
   ]
  },
  {
   "cell_type": "code",
   "execution_count": 189,
   "id": "82777292",
   "metadata": {},
   "outputs": [
    {
     "data": {
      "text/plain": [
       "ID        2.171978e+01\n",
       "Salary    2.823864e+08\n",
       "Age       9.042308e+01\n",
       "dtype: float64"
      ]
     },
     "execution_count": 189,
     "metadata": {},
     "output_type": "execute_result"
    }
   ],
   "source": [
    "df1.var()"
   ]
  },
  {
   "cell_type": "code",
   "execution_count": 190,
   "id": "c85aee3c",
   "metadata": {},
   "outputs": [
    {
     "data": {
      "text/plain": [
       "73750.0"
      ]
     },
     "execution_count": 190,
     "metadata": {},
     "output_type": "execute_result"
    }
   ],
   "source": [
    "df1.Salary.mean()"
   ]
  },
  {
   "cell_type": "code",
   "execution_count": 191,
   "id": "10dc7e16",
   "metadata": {},
   "outputs": [
    {
     "data": {
      "text/plain": [
       "ID            4.660448\n",
       "Salary    16804.355496\n",
       "Age           9.509105\n",
       "dtype: float64"
      ]
     },
     "execution_count": 191,
     "metadata": {},
     "output_type": "execute_result"
    }
   ],
   "source": [
    "df1.std()"
   ]
  },
  {
   "cell_type": "code",
   "execution_count": 192,
   "id": "7501c50e",
   "metadata": {},
   "outputs": [
    {
     "data": {
      "text/plain": [
       "ID            7.5\n",
       "Salary    72500.0\n",
       "Age          35.0\n",
       "dtype: float64"
      ]
     },
     "execution_count": 192,
     "metadata": {},
     "output_type": "execute_result"
    }
   ],
   "source": [
    "df1.median()"
   ]
  },
  {
   "cell_type": "code",
   "execution_count": 194,
   "id": "0b764e14",
   "metadata": {},
   "outputs": [
    {
     "data": {
      "text/plain": [
       "0    49\n",
       "dtype: int64"
      ]
     },
     "execution_count": 194,
     "metadata": {},
     "output_type": "execute_result"
    }
   ],
   "source": [
    "df1['Age'].mode()"
   ]
  },
  {
   "cell_type": "code",
   "execution_count": 195,
   "id": "48811410",
   "metadata": {},
   "outputs": [
    {
     "data": {
      "text/plain": [
       "Employee_ID\n",
       "101    308.220700\n",
       "102    291.547595\n",
       "103    273.861279\n",
       "104    254.950976\n",
       "105    300.000000\n",
       "106    282.842712\n",
       "107    264.575131\n",
       "108    244.948974\n",
       "109    316.227766\n",
       "110    212.132034\n",
       "111    234.520788\n",
       "112    254.950976\n",
       "115           NaN\n",
       "116           NaN\n",
       "Name: Salary, dtype: float64"
      ]
     },
     "execution_count": 195,
     "metadata": {},
     "output_type": "execute_result"
    }
   ],
   "source": [
    "df1['Salary'].apply(np.sqrt)"
   ]
  },
  {
   "cell_type": "code",
   "execution_count": 196,
   "id": "f49111af",
   "metadata": {},
   "outputs": [
    {
     "data": {
      "text/plain": [
       "Employee_ID\n",
       "101    104500.0\n",
       "102     93500.0\n",
       "103     82500.0\n",
       "104     71500.0\n",
       "105     99000.0\n",
       "106     88000.0\n",
       "107     77000.0\n",
       "108     66000.0\n",
       "109    110000.0\n",
       "110     49500.0\n",
       "111     60500.0\n",
       "112     71500.0\n",
       "115         NaN\n",
       "116         NaN\n",
       "Name: Salary, dtype: float64"
      ]
     },
     "execution_count": 196,
     "metadata": {},
     "output_type": "execute_result"
    }
   ],
   "source": [
    "df1['Salary'].apply(lambda num : 1.1 * num)"
   ]
  },
  {
   "cell_type": "code",
   "execution_count": 198,
   "id": "d7f8b150",
   "metadata": {},
   "outputs": [
    {
     "data": {
      "text/plain": [
       "Employee_ID\n",
       "101      Utkarsh\n",
       "102       Kartik\n",
       "103    Aishwarya\n",
       "104        Anand\n",
       "105      Shalini\n",
       "106       Pratik\n",
       "107     Monalika\n",
       "108       Ayesha\n",
       "109        Anant\n",
       "110    Shamiksha\n",
       "111     Prashant\n",
       "112       Mohini\n",
       "115       Kavita\n",
       "116       Pratik\n",
       "Name: Name, dtype: object"
      ]
     },
     "execution_count": 198,
     "metadata": {},
     "output_type": "execute_result"
    }
   ],
   "source": [
    "df1.Name.apply(lambda name : name.split()[0])"
   ]
  },
  {
   "cell_type": "code",
   "execution_count": 199,
   "id": "82238e9c",
   "metadata": {},
   "outputs": [
    {
     "data": {
      "text/plain": [
       "29.25"
      ]
     },
     "execution_count": 199,
     "metadata": {},
     "output_type": "execute_result"
    }
   ],
   "source": [
    "df1.Age.quantile(0.25)"
   ]
  },
  {
   "cell_type": "code",
   "execution_count": 200,
   "id": "7ad74995",
   "metadata": {},
   "outputs": [
    {
     "data": {
      "text/plain": [
       "35.0"
      ]
     },
     "execution_count": 200,
     "metadata": {},
     "output_type": "execute_result"
    }
   ],
   "source": [
    "df1.Age.quantile(0.5)"
   ]
  },
  {
   "cell_type": "code",
   "execution_count": 201,
   "id": "3c8941e7",
   "metadata": {},
   "outputs": [
    {
     "data": {
      "text/plain": [
       "46.25"
      ]
     },
     "execution_count": 201,
     "metadata": {},
     "output_type": "execute_result"
    }
   ],
   "source": [
    "df1.Age.quantile(0.75)"
   ]
  },
  {
   "cell_type": "code",
   "execution_count": 207,
   "id": "4199bf14",
   "metadata": {},
   "outputs": [
    {
     "data": {
      "text/plain": [
       "Gender\n",
       "Female    33.666667\n",
       "Male      41.166667\n",
       "Name: Age, dtype: float64"
      ]
     },
     "execution_count": 207,
     "metadata": {},
     "output_type": "execute_result"
    }
   ],
   "source": [
    "df1.groupby(by = 'Gender')['Age'].mean()"
   ]
  },
  {
   "cell_type": "code",
   "execution_count": 208,
   "id": "d635a1c9",
   "metadata": {},
   "outputs": [
    {
     "data": {
      "text/plain": [
       "Gender\n",
       "Female    67500.0\n",
       "Male      80000.0\n",
       "Name: Salary, dtype: float64"
      ]
     },
     "execution_count": 208,
     "metadata": {},
     "output_type": "execute_result"
    }
   ],
   "source": [
    "df1.groupby(by = 'Gender')['Salary'].mean()"
   ]
  },
  {
   "cell_type": "code",
   "execution_count": 209,
   "id": "8fe3d2ea",
   "metadata": {},
   "outputs": [
    {
     "data": {
      "text/html": [
       "<div>\n",
       "<style scoped>\n",
       "    .dataframe tbody tr th:only-of-type {\n",
       "        vertical-align: middle;\n",
       "    }\n",
       "\n",
       "    .dataframe tbody tr th {\n",
       "        vertical-align: top;\n",
       "    }\n",
       "\n",
       "    .dataframe thead th {\n",
       "        text-align: right;\n",
       "    }\n",
       "</style>\n",
       "<table border=\"1\" class=\"dataframe\">\n",
       "  <thead>\n",
       "    <tr style=\"text-align: right;\">\n",
       "      <th></th>\n",
       "      <th>ID</th>\n",
       "      <th>Salary</th>\n",
       "      <th>Age</th>\n",
       "    </tr>\n",
       "  </thead>\n",
       "  <tbody>\n",
       "    <tr>\n",
       "      <th>ID</th>\n",
       "      <td>1.000000</td>\n",
       "      <td>-0.551406</td>\n",
       "      <td>-0.624005</td>\n",
       "    </tr>\n",
       "    <tr>\n",
       "      <th>Salary</th>\n",
       "      <td>-0.551406</td>\n",
       "      <td>1.000000</td>\n",
       "      <td>0.697623</td>\n",
       "    </tr>\n",
       "    <tr>\n",
       "      <th>Age</th>\n",
       "      <td>-0.624005</td>\n",
       "      <td>0.697623</td>\n",
       "      <td>1.000000</td>\n",
       "    </tr>\n",
       "  </tbody>\n",
       "</table>\n",
       "</div>"
      ],
      "text/plain": [
       "              ID    Salary       Age\n",
       "ID      1.000000 -0.551406 -0.624005\n",
       "Salary -0.551406  1.000000  0.697623\n",
       "Age    -0.624005  0.697623  1.000000"
      ]
     },
     "execution_count": 209,
     "metadata": {},
     "output_type": "execute_result"
    }
   ],
   "source": [
    "df1.corr()"
   ]
  },
  {
   "cell_type": "markdown",
   "id": "3832f147",
   "metadata": {},
   "source": [
    "# -------------------------------------------------------------------------------------\n",
    "## Dealing With CSV Files"
   ]
  },
  {
   "cell_type": "code",
   "execution_count": 210,
   "id": "0841dad2",
   "metadata": {},
   "outputs": [
    {
     "data": {
      "text/html": [
       "<div>\n",
       "<style scoped>\n",
       "    .dataframe tbody tr th:only-of-type {\n",
       "        vertical-align: middle;\n",
       "    }\n",
       "\n",
       "    .dataframe tbody tr th {\n",
       "        vertical-align: top;\n",
       "    }\n",
       "\n",
       "    .dataframe thead th {\n",
       "        text-align: right;\n",
       "    }\n",
       "</style>\n",
       "<table border=\"1\" class=\"dataframe\">\n",
       "  <thead>\n",
       "    <tr style=\"text-align: right;\">\n",
       "      <th></th>\n",
       "      <th>symboling</th>\n",
       "      <th>normalized-losses</th>\n",
       "      <th>make</th>\n",
       "      <th>fuel-type</th>\n",
       "      <th>aspiration</th>\n",
       "      <th>num-of-doors</th>\n",
       "      <th>body-style</th>\n",
       "      <th>drive-wheels</th>\n",
       "      <th>engine-location</th>\n",
       "      <th>wheel-base</th>\n",
       "      <th>...</th>\n",
       "      <th>engine-size</th>\n",
       "      <th>fuel-system</th>\n",
       "      <th>bore</th>\n",
       "      <th>stroke</th>\n",
       "      <th>compression-ratio</th>\n",
       "      <th>horsepower</th>\n",
       "      <th>peak-rpm</th>\n",
       "      <th>city-mpg</th>\n",
       "      <th>highway-mpg</th>\n",
       "      <th>price</th>\n",
       "    </tr>\n",
       "  </thead>\n",
       "  <tbody>\n",
       "    <tr>\n",
       "      <th>0</th>\n",
       "      <td>3</td>\n",
       "      <td>?</td>\n",
       "      <td>alfa-romero</td>\n",
       "      <td>gas</td>\n",
       "      <td>std</td>\n",
       "      <td>two</td>\n",
       "      <td>convertible</td>\n",
       "      <td>rwd</td>\n",
       "      <td>front</td>\n",
       "      <td>88.6</td>\n",
       "      <td>...</td>\n",
       "      <td>130</td>\n",
       "      <td>mpfi</td>\n",
       "      <td>3.47</td>\n",
       "      <td>2.68</td>\n",
       "      <td>9.0</td>\n",
       "      <td>111</td>\n",
       "      <td>5000</td>\n",
       "      <td>21</td>\n",
       "      <td>27</td>\n",
       "      <td>13495</td>\n",
       "    </tr>\n",
       "    <tr>\n",
       "      <th>1</th>\n",
       "      <td>3</td>\n",
       "      <td>?</td>\n",
       "      <td>alfa-romero</td>\n",
       "      <td>gas</td>\n",
       "      <td>std</td>\n",
       "      <td>two</td>\n",
       "      <td>convertible</td>\n",
       "      <td>rwd</td>\n",
       "      <td>front</td>\n",
       "      <td>88.6</td>\n",
       "      <td>...</td>\n",
       "      <td>130</td>\n",
       "      <td>mpfi</td>\n",
       "      <td>3.47</td>\n",
       "      <td>2.68</td>\n",
       "      <td>9.0</td>\n",
       "      <td>111</td>\n",
       "      <td>5000</td>\n",
       "      <td>21</td>\n",
       "      <td>27</td>\n",
       "      <td>16500</td>\n",
       "    </tr>\n",
       "    <tr>\n",
       "      <th>2</th>\n",
       "      <td>1</td>\n",
       "      <td>?</td>\n",
       "      <td>alfa-romero</td>\n",
       "      <td>gas</td>\n",
       "      <td>std</td>\n",
       "      <td>two</td>\n",
       "      <td>hatchback</td>\n",
       "      <td>rwd</td>\n",
       "      <td>front</td>\n",
       "      <td>94.5</td>\n",
       "      <td>...</td>\n",
       "      <td>152</td>\n",
       "      <td>mpfi</td>\n",
       "      <td>2.68</td>\n",
       "      <td>3.47</td>\n",
       "      <td>9.0</td>\n",
       "      <td>154</td>\n",
       "      <td>5000</td>\n",
       "      <td>19</td>\n",
       "      <td>26</td>\n",
       "      <td>16500</td>\n",
       "    </tr>\n",
       "    <tr>\n",
       "      <th>3</th>\n",
       "      <td>2</td>\n",
       "      <td>164</td>\n",
       "      <td>audi</td>\n",
       "      <td>gas</td>\n",
       "      <td>std</td>\n",
       "      <td>four</td>\n",
       "      <td>sedan</td>\n",
       "      <td>fwd</td>\n",
       "      <td>front</td>\n",
       "      <td>99.8</td>\n",
       "      <td>...</td>\n",
       "      <td>109</td>\n",
       "      <td>mpfi</td>\n",
       "      <td>3.19</td>\n",
       "      <td>3.4</td>\n",
       "      <td>10.0</td>\n",
       "      <td>102</td>\n",
       "      <td>5500</td>\n",
       "      <td>24</td>\n",
       "      <td>30</td>\n",
       "      <td>13950</td>\n",
       "    </tr>\n",
       "    <tr>\n",
       "      <th>4</th>\n",
       "      <td>2</td>\n",
       "      <td>164</td>\n",
       "      <td>audi</td>\n",
       "      <td>gas</td>\n",
       "      <td>std</td>\n",
       "      <td>four</td>\n",
       "      <td>sedan</td>\n",
       "      <td>4wd</td>\n",
       "      <td>front</td>\n",
       "      <td>99.4</td>\n",
       "      <td>...</td>\n",
       "      <td>136</td>\n",
       "      <td>mpfi</td>\n",
       "      <td>3.19</td>\n",
       "      <td>3.4</td>\n",
       "      <td>8.0</td>\n",
       "      <td>115</td>\n",
       "      <td>5500</td>\n",
       "      <td>18</td>\n",
       "      <td>22</td>\n",
       "      <td>17450</td>\n",
       "    </tr>\n",
       "    <tr>\n",
       "      <th>5</th>\n",
       "      <td>2</td>\n",
       "      <td>?</td>\n",
       "      <td>audi</td>\n",
       "      <td>gas</td>\n",
       "      <td>std</td>\n",
       "      <td>two</td>\n",
       "      <td>sedan</td>\n",
       "      <td>fwd</td>\n",
       "      <td>front</td>\n",
       "      <td>99.8</td>\n",
       "      <td>...</td>\n",
       "      <td>136</td>\n",
       "      <td>mpfi</td>\n",
       "      <td>3.19</td>\n",
       "      <td>3.4</td>\n",
       "      <td>8.5</td>\n",
       "      <td>110</td>\n",
       "      <td>5500</td>\n",
       "      <td>19</td>\n",
       "      <td>25</td>\n",
       "      <td>15250</td>\n",
       "    </tr>\n",
       "    <tr>\n",
       "      <th>6</th>\n",
       "      <td>1</td>\n",
       "      <td>158</td>\n",
       "      <td>audi</td>\n",
       "      <td>gas</td>\n",
       "      <td>std</td>\n",
       "      <td>four</td>\n",
       "      <td>sedan</td>\n",
       "      <td>fwd</td>\n",
       "      <td>front</td>\n",
       "      <td>105.8</td>\n",
       "      <td>...</td>\n",
       "      <td>136</td>\n",
       "      <td>mpfi</td>\n",
       "      <td>3.19</td>\n",
       "      <td>3.4</td>\n",
       "      <td>8.5</td>\n",
       "      <td>110</td>\n",
       "      <td>5500</td>\n",
       "      <td>19</td>\n",
       "      <td>25</td>\n",
       "      <td>17710</td>\n",
       "    </tr>\n",
       "    <tr>\n",
       "      <th>7</th>\n",
       "      <td>1</td>\n",
       "      <td>?</td>\n",
       "      <td>audi</td>\n",
       "      <td>gas</td>\n",
       "      <td>std</td>\n",
       "      <td>four</td>\n",
       "      <td>wagon</td>\n",
       "      <td>fwd</td>\n",
       "      <td>front</td>\n",
       "      <td>105.8</td>\n",
       "      <td>...</td>\n",
       "      <td>136</td>\n",
       "      <td>mpfi</td>\n",
       "      <td>3.19</td>\n",
       "      <td>3.4</td>\n",
       "      <td>8.5</td>\n",
       "      <td>110</td>\n",
       "      <td>5500</td>\n",
       "      <td>19</td>\n",
       "      <td>25</td>\n",
       "      <td>18920</td>\n",
       "    </tr>\n",
       "    <tr>\n",
       "      <th>8</th>\n",
       "      <td>1</td>\n",
       "      <td>158</td>\n",
       "      <td>audi</td>\n",
       "      <td>gas</td>\n",
       "      <td>turbo</td>\n",
       "      <td>four</td>\n",
       "      <td>sedan</td>\n",
       "      <td>fwd</td>\n",
       "      <td>front</td>\n",
       "      <td>105.8</td>\n",
       "      <td>...</td>\n",
       "      <td>131</td>\n",
       "      <td>mpfi</td>\n",
       "      <td>3.13</td>\n",
       "      <td>3.4</td>\n",
       "      <td>8.3</td>\n",
       "      <td>140</td>\n",
       "      <td>5500</td>\n",
       "      <td>17</td>\n",
       "      <td>20</td>\n",
       "      <td>23875</td>\n",
       "    </tr>\n",
       "    <tr>\n",
       "      <th>9</th>\n",
       "      <td>0</td>\n",
       "      <td>?</td>\n",
       "      <td>audi</td>\n",
       "      <td>gas</td>\n",
       "      <td>turbo</td>\n",
       "      <td>two</td>\n",
       "      <td>hatchback</td>\n",
       "      <td>4wd</td>\n",
       "      <td>front</td>\n",
       "      <td>99.5</td>\n",
       "      <td>...</td>\n",
       "      <td>131</td>\n",
       "      <td>mpfi</td>\n",
       "      <td>3.13</td>\n",
       "      <td>3.4</td>\n",
       "      <td>7.0</td>\n",
       "      <td>160</td>\n",
       "      <td>5500</td>\n",
       "      <td>16</td>\n",
       "      <td>22</td>\n",
       "      <td>?</td>\n",
       "    </tr>\n",
       "  </tbody>\n",
       "</table>\n",
       "<p>10 rows × 26 columns</p>\n",
       "</div>"
      ],
      "text/plain": [
       "   symboling normalized-losses         make fuel-type aspiration num-of-doors  \\\n",
       "0          3                 ?  alfa-romero       gas        std          two   \n",
       "1          3                 ?  alfa-romero       gas        std          two   \n",
       "2          1                 ?  alfa-romero       gas        std          two   \n",
       "3          2               164         audi       gas        std         four   \n",
       "4          2               164         audi       gas        std         four   \n",
       "5          2                 ?         audi       gas        std          two   \n",
       "6          1               158         audi       gas        std         four   \n",
       "7          1                 ?         audi       gas        std         four   \n",
       "8          1               158         audi       gas      turbo         four   \n",
       "9          0                 ?         audi       gas      turbo          two   \n",
       "\n",
       "    body-style drive-wheels engine-location  wheel-base  ...  engine-size  \\\n",
       "0  convertible          rwd           front        88.6  ...          130   \n",
       "1  convertible          rwd           front        88.6  ...          130   \n",
       "2    hatchback          rwd           front        94.5  ...          152   \n",
       "3        sedan          fwd           front        99.8  ...          109   \n",
       "4        sedan          4wd           front        99.4  ...          136   \n",
       "5        sedan          fwd           front        99.8  ...          136   \n",
       "6        sedan          fwd           front       105.8  ...          136   \n",
       "7        wagon          fwd           front       105.8  ...          136   \n",
       "8        sedan          fwd           front       105.8  ...          131   \n",
       "9    hatchback          4wd           front        99.5  ...          131   \n",
       "\n",
       "   fuel-system  bore  stroke compression-ratio horsepower  peak-rpm city-mpg  \\\n",
       "0         mpfi  3.47    2.68               9.0        111      5000       21   \n",
       "1         mpfi  3.47    2.68               9.0        111      5000       21   \n",
       "2         mpfi  2.68    3.47               9.0        154      5000       19   \n",
       "3         mpfi  3.19     3.4              10.0        102      5500       24   \n",
       "4         mpfi  3.19     3.4               8.0        115      5500       18   \n",
       "5         mpfi  3.19     3.4               8.5        110      5500       19   \n",
       "6         mpfi  3.19     3.4               8.5        110      5500       19   \n",
       "7         mpfi  3.19     3.4               8.5        110      5500       19   \n",
       "8         mpfi  3.13     3.4               8.3        140      5500       17   \n",
       "9         mpfi  3.13     3.4               7.0        160      5500       16   \n",
       "\n",
       "  highway-mpg  price  \n",
       "0          27  13495  \n",
       "1          27  16500  \n",
       "2          26  16500  \n",
       "3          30  13950  \n",
       "4          22  17450  \n",
       "5          25  15250  \n",
       "6          25  17710  \n",
       "7          25  18920  \n",
       "8          20  23875  \n",
       "9          22      ?  \n",
       "\n",
       "[10 rows x 26 columns]"
      ]
     },
     "execution_count": 210,
     "metadata": {},
     "output_type": "execute_result"
    }
   ],
   "source": [
    "data = pd.read_csv('Automobile_Data.csv')\n",
    "data.head(10)"
   ]
  },
  {
   "cell_type": "code",
   "execution_count": 211,
   "id": "c7632867",
   "metadata": {},
   "outputs": [
    {
     "name": "stdout",
     "output_type": "stream",
     "text": [
      "<class 'pandas.core.frame.DataFrame'>\n",
      "RangeIndex: 205 entries, 0 to 204\n",
      "Data columns (total 26 columns):\n",
      " #   Column             Non-Null Count  Dtype  \n",
      "---  ------             --------------  -----  \n",
      " 0   symboling          205 non-null    int64  \n",
      " 1   normalized-losses  205 non-null    object \n",
      " 2   make               205 non-null    object \n",
      " 3   fuel-type          205 non-null    object \n",
      " 4   aspiration         205 non-null    object \n",
      " 5   num-of-doors       205 non-null    object \n",
      " 6   body-style         205 non-null    object \n",
      " 7   drive-wheels       205 non-null    object \n",
      " 8   engine-location    205 non-null    object \n",
      " 9   wheel-base         205 non-null    float64\n",
      " 10  length             205 non-null    float64\n",
      " 11  width              205 non-null    float64\n",
      " 12  height             205 non-null    float64\n",
      " 13  curb-weight        205 non-null    int64  \n",
      " 14  engine-type        205 non-null    object \n",
      " 15  num-of-cylinders   205 non-null    object \n",
      " 16  engine-size        205 non-null    int64  \n",
      " 17  fuel-system        205 non-null    object \n",
      " 18  bore               205 non-null    object \n",
      " 19  stroke             205 non-null    object \n",
      " 20  compression-ratio  205 non-null    float64\n",
      " 21  horsepower         205 non-null    object \n",
      " 22  peak-rpm           205 non-null    object \n",
      " 23  city-mpg           205 non-null    int64  \n",
      " 24  highway-mpg        205 non-null    int64  \n",
      " 25  price              205 non-null    object \n",
      "dtypes: float64(5), int64(5), object(16)\n",
      "memory usage: 41.8+ KB\n"
     ]
    }
   ],
   "source": [
    "data.info()"
   ]
  },
  {
   "cell_type": "code",
   "execution_count": 212,
   "id": "f44a8f13",
   "metadata": {},
   "outputs": [
    {
     "data": {
      "text/plain": [
       "Index(['symboling', 'normalized-losses', 'make', 'fuel-type', 'aspiration',\n",
       "       'num-of-doors', 'body-style', 'drive-wheels', 'engine-location',\n",
       "       'wheel-base', 'length', 'width', 'height', 'curb-weight', 'engine-type',\n",
       "       'num-of-cylinders', 'engine-size', 'fuel-system', 'bore', 'stroke',\n",
       "       'compression-ratio', 'horsepower', 'peak-rpm', 'city-mpg',\n",
       "       'highway-mpg', 'price'],\n",
       "      dtype='object')"
      ]
     },
     "execution_count": 212,
     "metadata": {},
     "output_type": "execute_result"
    }
   ],
   "source": [
    "data.columns"
   ]
  },
  {
   "cell_type": "code",
   "execution_count": 213,
   "id": "6f0a21d8",
   "metadata": {},
   "outputs": [
    {
     "data": {
      "text/plain": [
       "0"
      ]
     },
     "execution_count": 213,
     "metadata": {},
     "output_type": "execute_result"
    }
   ],
   "source": [
    "data.duplicated().sum()"
   ]
  },
  {
   "cell_type": "code",
   "execution_count": 217,
   "id": "518f584b",
   "metadata": {},
   "outputs": [],
   "source": [
    "data.replace('?', np.nan, inplace =True)"
   ]
  },
  {
   "cell_type": "code",
   "execution_count": 218,
   "id": "875a6bf6",
   "metadata": {},
   "outputs": [
    {
     "data": {
      "text/plain": [
       "symboling             0\n",
       "normalized-losses    41\n",
       "make                  0\n",
       "fuel-type             0\n",
       "aspiration            0\n",
       "num-of-doors          2\n",
       "body-style            0\n",
       "drive-wheels          0\n",
       "engine-location       0\n",
       "wheel-base            0\n",
       "length                0\n",
       "width                 0\n",
       "height                0\n",
       "curb-weight           0\n",
       "engine-type           0\n",
       "num-of-cylinders      0\n",
       "engine-size           0\n",
       "fuel-system           0\n",
       "bore                  4\n",
       "stroke                4\n",
       "compression-ratio     0\n",
       "horsepower            2\n",
       "peak-rpm              2\n",
       "city-mpg              0\n",
       "highway-mpg           0\n",
       "price                 4\n",
       "dtype: int64"
      ]
     },
     "execution_count": 218,
     "metadata": {},
     "output_type": "execute_result"
    }
   ],
   "source": [
    "data.isnull().sum()"
   ]
  },
  {
   "cell_type": "code",
   "execution_count": 219,
   "id": "820dd0a6",
   "metadata": {},
   "outputs": [
    {
     "data": {
      "text/plain": [
       "symboling              6\n",
       "normalized-losses     51\n",
       "make                  22\n",
       "fuel-type              2\n",
       "aspiration             2\n",
       "num-of-doors           2\n",
       "body-style             5\n",
       "drive-wheels           3\n",
       "engine-location        2\n",
       "wheel-base            53\n",
       "length                75\n",
       "width                 44\n",
       "height                49\n",
       "curb-weight          171\n",
       "engine-type            7\n",
       "num-of-cylinders       7\n",
       "engine-size           44\n",
       "fuel-system            8\n",
       "bore                  38\n",
       "stroke                36\n",
       "compression-ratio     32\n",
       "horsepower            59\n",
       "peak-rpm              23\n",
       "city-mpg              29\n",
       "highway-mpg           30\n",
       "price                186\n",
       "dtype: int64"
      ]
     },
     "execution_count": 219,
     "metadata": {},
     "output_type": "execute_result"
    }
   ],
   "source": [
    "data.nunique()"
   ]
  },
  {
   "cell_type": "code",
   "execution_count": 220,
   "id": "d4e6250f",
   "metadata": {},
   "outputs": [
    {
     "name": "stdout",
     "output_type": "stream",
     "text": [
      "Fuel Types   :  ['gas' 'diesel']\n",
      "Body Styles  :  ['convertible' 'hatchback' 'sedan' 'wagon' 'hardtop']\n",
      "Drive Wheels :  ['rwd' 'fwd' '4wd']\n",
      "Fuel System  :  ['mpfi' '2bbl' 'mfi' '1bbl' 'spfi' '4bbl' 'idi' 'spdi']\n",
      "Engine Type  :  ['dohc' 'ohcv' 'ohc' 'l' 'rotor' 'ohcf' 'dohcv']\n"
     ]
    }
   ],
   "source": [
    "print('Fuel Types   : ',data['fuel-type'].unique())\n",
    "print('Body Styles  : ',data['body-style'].unique())\n",
    "print('Drive Wheels : ',data['drive-wheels'].unique())\n",
    "print('Fuel System  : ',data['fuel-system'].unique())\n",
    "print('Engine Type  : ',data['engine-type'].unique())"
   ]
  },
  {
   "cell_type": "code",
   "execution_count": 224,
   "id": "016db9ba",
   "metadata": {},
   "outputs": [
    {
     "data": {
      "text/plain": [
       "25.21951219512195"
      ]
     },
     "execution_count": 224,
     "metadata": {},
     "output_type": "execute_result"
    }
   ],
   "source": [
    "data['city-mpg'].mean()"
   ]
  },
  {
   "cell_type": "code",
   "execution_count": 225,
   "id": "df530671",
   "metadata": {},
   "outputs": [
    {
     "data": {
      "text/plain": [
       "fuel-type\n",
       "diesel    30.30000\n",
       "gas       24.67027\n",
       "Name: city-mpg, dtype: float64"
      ]
     },
     "execution_count": 225,
     "metadata": {},
     "output_type": "execute_result"
    }
   ],
   "source": [
    "data.groupby(by = 'fuel-type')['city-mpg'].mean()"
   ]
  },
  {
   "cell_type": "code",
   "execution_count": 226,
   "id": "9dbb1151",
   "metadata": {},
   "outputs": [
    {
     "data": {
      "text/plain": [
       "sedan          96\n",
       "hatchback      70\n",
       "wagon          25\n",
       "hardtop         8\n",
       "convertible     6\n",
       "Name: body-style, dtype: int64"
      ]
     },
     "execution_count": 226,
     "metadata": {},
     "output_type": "execute_result"
    }
   ],
   "source": [
    "data['body-style'].value_counts()"
   ]
  },
  {
   "cell_type": "code",
   "execution_count": 228,
   "id": "e46995d1",
   "metadata": {},
   "outputs": [
    {
     "data": {
      "text/plain": [
       "body-style\n",
       "convertible    26.000000\n",
       "hardtop        27.250000\n",
       "hatchback      32.171429\n",
       "sedan          30.833333\n",
       "wagon          28.720000\n",
       "Name: highway-mpg, dtype: float64"
      ]
     },
     "execution_count": 228,
     "metadata": {},
     "output_type": "execute_result"
    }
   ],
   "source": [
    "data.groupby(by = 'body-style')['highway-mpg'].mean()"
   ]
  },
  {
   "cell_type": "code",
   "execution_count": 231,
   "id": "7946f1ca",
   "metadata": {},
   "outputs": [
    {
     "data": {
      "text/plain": [
       "engine-size\n",
       "326    17.000000\n",
       "308    16.000000\n",
       "304    16.000000\n",
       "258    19.000000\n",
       "234    18.000000\n",
       "209    21.333333\n",
       "203    28.000000\n",
       "194    25.000000\n",
       "183    25.000000\n",
       "181    23.666667\n",
       "173    23.000000\n",
       "171    24.000000\n",
       "164    27.000000\n",
       "161    24.000000\n",
       "156    24.000000\n",
       "152    29.166667\n",
       "151    27.000000\n",
       "146    30.000000\n",
       "145    27.000000\n",
       "141    27.142857\n",
       "140    25.500000\n",
       "136    24.200000\n",
       "134    31.500000\n",
       "132    31.000000\n",
       "131    21.000000\n",
       "130    24.500000\n",
       "122    32.533333\n",
       "121    27.333333\n",
       "120    26.857143\n",
       "119    29.000000\n",
       "111    29.000000\n",
       "110    33.083333\n",
       "109    31.625000\n",
       "108    30.076923\n",
       "103    50.000000\n",
       "98     33.785714\n",
       "97     38.642857\n",
       "92     37.400000\n",
       "91     36.600000\n",
       "90     40.166667\n",
       "80     23.000000\n",
       "79     42.000000\n",
       "70     23.000000\n",
       "61     53.000000\n",
       "Name: highway-mpg, dtype: float64"
      ]
     },
     "execution_count": 231,
     "metadata": {},
     "output_type": "execute_result"
    }
   ],
   "source": [
    "data.groupby(by = 'engine-size')['highway-mpg'].mean().sort_index(ascending = False)"
   ]
  },
  {
   "cell_type": "code",
   "execution_count": 232,
   "id": "5a69c035",
   "metadata": {},
   "outputs": [
    {
     "data": {
      "text/plain": [
       "body-style   fuel-type\n",
       "convertible  gas          20.500000\n",
       "hardtop      diesel       22.000000\n",
       "             gas          21.571429\n",
       "hatchback    diesel       38.000000\n",
       "             gas          26.144928\n",
       "sedan        diesel       31.600000\n",
       "             gas          24.160494\n",
       "wagon        diesel       24.000000\n",
       "             gas          24.045455\n",
       "Name: city-mpg, dtype: float64"
      ]
     },
     "execution_count": 232,
     "metadata": {},
     "output_type": "execute_result"
    }
   ],
   "source": [
    "data.groupby(by = ['body-style','fuel-type'])['city-mpg'].mean()"
   ]
  },
  {
   "cell_type": "code",
   "execution_count": null,
   "id": "2c5a0672",
   "metadata": {},
   "outputs": [],
   "source": []
  }
 ],
 "metadata": {
  "kernelspec": {
   "display_name": "Python 3 (ipykernel)",
   "language": "python",
   "name": "python3"
  },
  "language_info": {
   "codemirror_mode": {
    "name": "ipython",
    "version": 3
   },
   "file_extension": ".py",
   "mimetype": "text/x-python",
   "name": "python",
   "nbconvert_exporter": "python",
   "pygments_lexer": "ipython3",
   "version": "3.9.7"
  }
 },
 "nbformat": 4,
 "nbformat_minor": 5
}
