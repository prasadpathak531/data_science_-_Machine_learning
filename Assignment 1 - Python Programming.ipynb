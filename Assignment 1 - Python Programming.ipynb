{
 "cells": [
  {
   "cell_type": "markdown",
   "id": "q75YDgmuZcq9",
   "metadata": {
    "id": "q75YDgmuZcq9",
    "tags": []
   },
   "source": [
    "# Assessment - 1 Gradable\n",
    "\n",
    "- Each question carries 5 marks\n",
    "- Marks will be assigned in terms of:\n",
    "    \n",
    "    **1. Expected output**\n",
    "    \n",
    "    **2. Quality and Explainability of code**\n",
    "\n",
    "    ***Go back through the script and type a comment above each line explaining in English what it does.***\n",
    "\n",
    "    **3. Copied code, if found, will result in 0 marks for that question. To avoid this make as much comments in the code to explain the approach**"
   ]
  },
  {
   "cell_type": "markdown",
   "id": "ZgxGrB5OZcrS",
   "metadata": {
    "id": "ZgxGrB5OZcrS"
   },
   "source": [
    "### 1. \n",
    "\n",
    "Go through the string below and if the length of a word is even print \"even!\"\n",
    "\n",
    "sting = 'I know how to print every word in this sentence that has an even number of letters'\n"
   ]
  },
  {
   "cell_type": "code",
   "execution_count": null,
   "id": "8-_t6yjNZcrX",
   "metadata": {
    "id": "8-_t6yjNZcrX"
   },
   "outputs": [],
   "source": []
  },
  {
   "cell_type": "code",
   "execution_count": null,
   "id": "PFuZ_DQXZcra",
   "metadata": {
    "id": "PFuZ_DQXZcra"
   },
   "outputs": [],
   "source": []
  },
  {
   "cell_type": "markdown",
   "id": "Rn6SHp1YZcrb",
   "metadata": {
    "id": "Rn6SHp1YZcrb"
   },
   "source": [
    "### 2. \n",
    "\n",
    "Write a function ``clap_tap`` that prints the integers from 1 to 100. But for multiples of three print \"Clap\" instead of the number, and for the multiples of five print \"Tap\". For numbers which are multiples of both three and five print \"ClapTap\"."
   ]
  },
  {
   "cell_type": "code",
   "execution_count": null,
   "id": "u-kkSikPZcrc",
   "metadata": {
    "id": "u-kkSikPZcrc"
   },
   "outputs": [],
   "source": []
  },
  {
   "cell_type": "code",
   "execution_count": null,
   "id": "B93YGi5_Zcrc",
   "metadata": {
    "id": "B93YGi5_Zcrc"
   },
   "outputs": [],
   "source": []
  },
  {
   "cell_type": "markdown",
   "id": "cJC8ggy0Zcrd",
   "metadata": {
    "id": "cJC8ggy0Zcrd"
   },
   "source": [
    "### 3. \n",
    "\n",
    "ANIMAL CRACKERS: Write a function takes a two-word string and returns True if both words begin with same letter and returns True if both words begin with same letter\n",
    "- animal_crackers('Levelheaded Lion') --> True\n",
    "- animal_crackers('Cute Kangaroo') --> False"
   ]
  },
  {
   "cell_type": "code",
   "execution_count": null,
   "id": "yb9G-FniZcrf",
   "metadata": {
    "id": "yb9G-FniZcrf"
   },
   "outputs": [],
   "source": []
  },
  {
   "cell_type": "code",
   "execution_count": null,
   "id": "QAJz2MewZcrf",
   "metadata": {
    "id": "QAJz2MewZcrf"
   },
   "outputs": [],
   "source": []
  },
  {
   "cell_type": "markdown",
   "id": "cHv27m3KZcrg",
   "metadata": {
    "id": "cHv27m3KZcrg",
    "tags": []
   },
   "source": [
    "### 4. \n",
    "\n",
    "Create a function ``lets_find_88`` Given a list of ints, return True if the array contains a 8 next to a 8 somewhere.\n",
    "- lets_find_88([1, 8, 8]) → True\n",
    "- lets_find_88([1, 8, 1, 8]) → False\n",
    "- lets_find_88([8, 1, 8]) → False"
   ]
  },
  {
   "cell_type": "code",
   "execution_count": null,
   "id": "w6-NSUHMZcrh",
   "metadata": {
    "id": "w6-NSUHMZcrh"
   },
   "outputs": [],
   "source": []
  },
  {
   "cell_type": "code",
   "execution_count": null,
   "id": "rPgbTmb7Zcrh",
   "metadata": {
    "id": "rPgbTmb7Zcrh"
   },
   "outputs": [],
   "source": []
  },
  {
   "cell_type": "markdown",
   "id": "4iLbiuG2Zcri",
   "metadata": {
    "id": "4iLbiuG2Zcri"
   },
   "source": [
    "### 5.  Create a function ``shout_out`` Given a string, return a string where:\n",
    "- \n",
    "### for every character in the original there are three characters\n",
    "    - shout_out('character') --> 'ccchhhaaarrraaacccttteeerrr'\n",
    "    - shout_out('original') --> 'ooorrriiigggiiinnnaaalll'"
   ]
  },
  {
   "cell_type": "code",
   "execution_count": null,
   "id": "aRVhnIWhZcrk",
   "metadata": {
    "id": "aRVhnIWhZcrk"
   },
   "outputs": [],
   "source": []
  },
  {
   "cell_type": "code",
   "execution_count": null,
   "id": "uV8C3KTgZcrk",
   "metadata": {
    "id": "uV8C3KTgZcrk"
   },
   "outputs": [],
   "source": []
  },
  {
   "cell_type": "markdown",
   "id": "S6JO-PDmZcrl",
   "metadata": {
    "id": "S6JO-PDmZcrl"
   },
   "source": [
    "### 6. Write a function ``how_many_primes`` that returns the number of prime numbers that exist up to and including a given number\n",
    "- how_many_primes(100) --> 25"
   ]
  },
  {
   "cell_type": "code",
   "execution_count": null,
   "id": "0nAPEQw4Zcrm",
   "metadata": {
    "id": "0nAPEQw4Zcrm"
   },
   "outputs": [],
   "source": []
  },
  {
   "cell_type": "code",
   "execution_count": null,
   "id": "uDL7EYuEZcrm",
   "metadata": {
    "id": "uDL7EYuEZcrm"
   },
   "outputs": [],
   "source": []
  },
  {
   "cell_type": "markdown",
   "id": "wlZMoZ8MZcrn",
   "metadata": {
    "id": "wlZMoZ8MZcrn"
   },
   "source": [
    "### 7. \n",
    "\n",
    "Write a Python function that prints out the first n rows of Pascal's triangle.\n",
    "\n",
    "- Input : 5\n",
    "- Output: \n",
    "          1\n",
    "         1 1\n",
    "        1 2 1\n",
    "       1 3 3 1\n",
    "      1 4 6 4 1\n",
    "\n",
    "**Very interesting video on PASCAL TRIANGLE (must watch if you are interested to know more about pascal Triangle)**\n",
    "- https://www.youtube.com/watch?v=0iMtlus-afo&t=668s&ab_channel=Numberphile"
   ]
  },
  {
   "cell_type": "code",
   "execution_count": null,
   "id": "Yc1sF8SLZcrn",
   "metadata": {
    "id": "Yc1sF8SLZcrn"
   },
   "outputs": [],
   "source": []
  },
  {
   "cell_type": "code",
   "execution_count": null,
   "id": "O7-D8RwNZcro",
   "metadata": {
    "id": "O7-D8RwNZcro"
   },
   "outputs": [],
   "source": []
  },
  {
   "cell_type": "markdown",
   "id": "FM8bAuZIZcro",
   "metadata": {
    "id": "FM8bAuZIZcro"
   },
   "source": [
    "### 8. \n",
    "\n",
    "Write a function to print following pattern\n",
    "\n",
    "    1  \n",
    "    2  4  \n",
    "    3  6  9  \n",
    "    4  8  12  16  \n",
    "    5  10  15  20  25  \n",
    "    6  12  18  24  30  36  \n",
    "    7  14  21  28  35  42  49  \n",
    "    8  16  24  32  40  48  56  64  "
   ]
  },
  {
   "cell_type": "code",
   "execution_count": null,
   "id": "vghil0cpZcrq",
   "metadata": {
    "id": "vghil0cpZcrq"
   },
   "outputs": [],
   "source": []
  },
  {
   "cell_type": "code",
   "execution_count": null,
   "id": "3536f0c8",
   "metadata": {},
   "outputs": [],
   "source": []
  },
  {
   "cell_type": "markdown",
   "id": "j2eYS-hbZcrq",
   "metadata": {
    "id": "j2eYS-hbZcrq"
   },
   "source": [
    "### 9. \n",
    "\n",
    "Grab ``StarAgile`` from the following Dictionaries\n",
    "\n",
    "d_difficult = {'k1':[{'nest_key':['this is deep',['StarAgile']]}]}\n",
    "\n",
    "d_irritating = {'k1':[1,2,{'k2':['this is not easy',{'VeryIrriating':[1,2,['StarAgile']]}]}]}"
   ]
  },
  {
   "cell_type": "code",
   "execution_count": null,
   "id": "norGjV3RZcrr",
   "metadata": {
    "id": "norGjV3RZcrr"
   },
   "outputs": [],
   "source": []
  },
  {
   "cell_type": "code",
   "execution_count": null,
   "id": "jg6d7VNdZcrr",
   "metadata": {
    "id": "jg6d7VNdZcrr"
   },
   "outputs": [],
   "source": []
  },
  {
   "cell_type": "markdown",
   "id": "uj6Runm_Zcrr",
   "metadata": {
    "id": "uj6Runm_Zcrr"
   },
   "source": [
    "### 10. \n",
    "\n",
    "Create a function ``ignore_6_to_9`` that returns the sum of the numbers in the array, except ignore sections of numbers starting with a 6 and extending to the next 9 (every 6 will be followed by at least one 9). Return 0 for no numbers.\n",
    " \n",
    "- ignore_6_to_9([1, 3, 5]) --> 9\n",
    "- ignore_6_to_9([4, 5, 6, 7, 8, 9]) --> 9\n",
    "- ignore_6_to_9([2, 1, 6, 9, 11]) --> 14"
   ]
  },
  {
   "cell_type": "markdown",
   "id": "7f0ec735",
   "metadata": {
    "id": "PAMSVRSqZcrr"
   },
   "source": [
    "You can send your assignments to my mail address : prathima.staragile@gmail.com\n",
    "\n",
    "Subject Name should be : Month Batch | Full Name | Assignment Number \n",
    "\n",
    "It’s a score based assignment"
   ]
  },
  {
   "cell_type": "markdown",
   "id": "qysVrkkeZcrs",
   "metadata": {
    "id": "qysVrkkeZcrs"
   },
   "source": [
    "## All the best :)"
   ]
  }
 ],
 "metadata": {
  "colab": {
   "name": "Assessment-1.ipynb",
   "provenance": []
  },
  "kernelspec": {
   "display_name": "Python 3 (ipykernel)",
   "language": "python",
   "name": "python3"
  },
  "language_info": {
   "codemirror_mode": {
    "name": "ipython",
    "version": 3
   },
   "file_extension": ".py",
   "mimetype": "text/x-python",
   "name": "python",
   "nbconvert_exporter": "python",
   "pygments_lexer": "ipython3",
   "version": "3.9.12"
  }
 },
 "nbformat": 4,
 "nbformat_minor": 5
}
